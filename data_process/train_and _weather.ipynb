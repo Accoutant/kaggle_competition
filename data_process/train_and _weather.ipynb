{
 "cells": [
  {
   "cell_type": "code",
   "execution_count": 33,
   "metadata": {
    "collapsed": true,
    "ExecuteTime": {
     "end_time": "2023-12-05T04:29:57.087666Z",
     "start_time": "2023-12-05T04:29:56.994155800Z"
    }
   },
   "outputs": [],
   "source": [
    "import pandas as pd\n",
    "import numpy as np\n",
    "pd.set_option('display.max_columns', 500)"
   ]
  },
  {
   "cell_type": "markdown",
   "source": [
    "# 历史天气部分"
   ],
   "metadata": {
    "collapsed": false
   }
  },
  {
   "cell_type": "markdown",
   "source": [
    "## 将经纬度找到指定的county"
   ],
   "metadata": {
    "collapsed": false,
    "ExecuteTime": {
     "end_time": "2023-12-03T10:46:00.829915200Z",
     "start_time": "2023-12-03T10:46:00.798998600Z"
    }
   },
   "outputs": [],
   "execution_count": 47
  },
  {
   "cell_type": "code",
   "execution_count": 34,
   "outputs": [
    {
     "data": {
      "text/plain": "                   datetime  temperature  dewpoint  rain  snowfall  \\\n0       2021-09-01 00:00:00         14.4      12.0   0.0       0.0   \n1       2021-09-01 00:00:00         14.0      12.0   0.0       0.0   \n2       2021-09-01 00:00:00         14.4      12.8   0.0       0.0   \n3       2021-09-01 00:00:00         15.4      13.0   0.0       0.0   \n4       2021-09-01 00:00:00         15.9      12.6   0.0       0.0   \n...                     ...          ...       ...   ...       ...   \n1710795 2023-05-30 10:00:00         10.8       4.1   0.4       0.0   \n1710796 2023-05-30 10:00:00         11.4       2.9   0.3       0.0   \n1710797 2023-05-30 10:00:00          9.5       3.2   0.1       0.0   \n1710798 2023-05-30 10:00:00         11.0       1.6   0.0       0.0   \n1710799 2023-05-30 10:00:00         11.5       1.3   0.0       0.0   \n\n         surface_pressure  cloudcover_total  cloudcover_low  cloudcover_mid  \\\n0                  1015.8                 4               4               0   \n1                  1010.6                 7               8               0   \n2                  1014.9                 6               7               0   \n3                  1014.4                 4               2               4   \n4                  1013.8                12               7               0   \n...                   ...               ...             ...             ...   \n1710795            1018.7                40               0              67   \n1710796            1018.8                41               0              69   \n1710797            1018.9                47               0              79   \n1710798            1018.6                31               0              52   \n1710799            1015.8                25               0              42   \n\n         cloudcover_high  windspeed_10m  winddirection_10m  \\\n0                      0       6.694444                  3   \n1                      0       4.944444                353   \n2                      0       5.833333                348   \n3                      0       7.111111                349   \n4                     20       8.388889                360   \n...                  ...            ...                ...   \n1710795                0       1.333333                283   \n1710796                0       1.527778                302   \n1710797                0       3.416667                302   \n1710798                0       3.472222                309   \n1710799                0       3.166667                305   \n\n         shortwave_radiation  direct_solar_radiation  diffuse_radiation  \\\n0                        0.0                     0.0                0.0   \n1                        0.0                     0.0                0.0   \n2                        0.0                     0.0                0.0   \n3                        0.0                     0.0                0.0   \n4                        0.0                     0.0                0.0   \n...                      ...                     ...                ...   \n1710795                440.0                   264.0              176.0   \n1710796                453.0                   283.0              170.0   \n1710797                477.0                   312.0              165.0   \n1710798                535.0                   400.0              135.0   \n1710799                550.0                   420.0              130.0   \n\n         latitude  longitude  data_block_id  \n0            57.6       21.7              1  \n1            57.6       22.2              1  \n2            57.6       22.7              1  \n3            57.6       23.2              1  \n4            57.6       23.7              1  \n...           ...        ...            ...  \n1710795      59.7       26.2            637  \n1710796      59.7       26.7            637  \n1710797      59.7       27.2            637  \n1710798      59.7       27.7            637  \n1710799      59.7       28.2            637  \n\n[1710800 rows x 18 columns]",
      "text/html": "<div>\n<style scoped>\n    .dataframe tbody tr th:only-of-type {\n        vertical-align: middle;\n    }\n\n    .dataframe tbody tr th {\n        vertical-align: top;\n    }\n\n    .dataframe thead th {\n        text-align: right;\n    }\n</style>\n<table border=\"1\" class=\"dataframe\">\n  <thead>\n    <tr style=\"text-align: right;\">\n      <th></th>\n      <th>datetime</th>\n      <th>temperature</th>\n      <th>dewpoint</th>\n      <th>rain</th>\n      <th>snowfall</th>\n      <th>surface_pressure</th>\n      <th>cloudcover_total</th>\n      <th>cloudcover_low</th>\n      <th>cloudcover_mid</th>\n      <th>cloudcover_high</th>\n      <th>windspeed_10m</th>\n      <th>winddirection_10m</th>\n      <th>shortwave_radiation</th>\n      <th>direct_solar_radiation</th>\n      <th>diffuse_radiation</th>\n      <th>latitude</th>\n      <th>longitude</th>\n      <th>data_block_id</th>\n    </tr>\n  </thead>\n  <tbody>\n    <tr>\n      <th>0</th>\n      <td>2021-09-01 00:00:00</td>\n      <td>14.4</td>\n      <td>12.0</td>\n      <td>0.0</td>\n      <td>0.0</td>\n      <td>1015.8</td>\n      <td>4</td>\n      <td>4</td>\n      <td>0</td>\n      <td>0</td>\n      <td>6.694444</td>\n      <td>3</td>\n      <td>0.0</td>\n      <td>0.0</td>\n      <td>0.0</td>\n      <td>57.6</td>\n      <td>21.7</td>\n      <td>1</td>\n    </tr>\n    <tr>\n      <th>1</th>\n      <td>2021-09-01 00:00:00</td>\n      <td>14.0</td>\n      <td>12.0</td>\n      <td>0.0</td>\n      <td>0.0</td>\n      <td>1010.6</td>\n      <td>7</td>\n      <td>8</td>\n      <td>0</td>\n      <td>0</td>\n      <td>4.944444</td>\n      <td>353</td>\n      <td>0.0</td>\n      <td>0.0</td>\n      <td>0.0</td>\n      <td>57.6</td>\n      <td>22.2</td>\n      <td>1</td>\n    </tr>\n    <tr>\n      <th>2</th>\n      <td>2021-09-01 00:00:00</td>\n      <td>14.4</td>\n      <td>12.8</td>\n      <td>0.0</td>\n      <td>0.0</td>\n      <td>1014.9</td>\n      <td>6</td>\n      <td>7</td>\n      <td>0</td>\n      <td>0</td>\n      <td>5.833333</td>\n      <td>348</td>\n      <td>0.0</td>\n      <td>0.0</td>\n      <td>0.0</td>\n      <td>57.6</td>\n      <td>22.7</td>\n      <td>1</td>\n    </tr>\n    <tr>\n      <th>3</th>\n      <td>2021-09-01 00:00:00</td>\n      <td>15.4</td>\n      <td>13.0</td>\n      <td>0.0</td>\n      <td>0.0</td>\n      <td>1014.4</td>\n      <td>4</td>\n      <td>2</td>\n      <td>4</td>\n      <td>0</td>\n      <td>7.111111</td>\n      <td>349</td>\n      <td>0.0</td>\n      <td>0.0</td>\n      <td>0.0</td>\n      <td>57.6</td>\n      <td>23.2</td>\n      <td>1</td>\n    </tr>\n    <tr>\n      <th>4</th>\n      <td>2021-09-01 00:00:00</td>\n      <td>15.9</td>\n      <td>12.6</td>\n      <td>0.0</td>\n      <td>0.0</td>\n      <td>1013.8</td>\n      <td>12</td>\n      <td>7</td>\n      <td>0</td>\n      <td>20</td>\n      <td>8.388889</td>\n      <td>360</td>\n      <td>0.0</td>\n      <td>0.0</td>\n      <td>0.0</td>\n      <td>57.6</td>\n      <td>23.7</td>\n      <td>1</td>\n    </tr>\n    <tr>\n      <th>...</th>\n      <td>...</td>\n      <td>...</td>\n      <td>...</td>\n      <td>...</td>\n      <td>...</td>\n      <td>...</td>\n      <td>...</td>\n      <td>...</td>\n      <td>...</td>\n      <td>...</td>\n      <td>...</td>\n      <td>...</td>\n      <td>...</td>\n      <td>...</td>\n      <td>...</td>\n      <td>...</td>\n      <td>...</td>\n      <td>...</td>\n    </tr>\n    <tr>\n      <th>1710795</th>\n      <td>2023-05-30 10:00:00</td>\n      <td>10.8</td>\n      <td>4.1</td>\n      <td>0.4</td>\n      <td>0.0</td>\n      <td>1018.7</td>\n      <td>40</td>\n      <td>0</td>\n      <td>67</td>\n      <td>0</td>\n      <td>1.333333</td>\n      <td>283</td>\n      <td>440.0</td>\n      <td>264.0</td>\n      <td>176.0</td>\n      <td>59.7</td>\n      <td>26.2</td>\n      <td>637</td>\n    </tr>\n    <tr>\n      <th>1710796</th>\n      <td>2023-05-30 10:00:00</td>\n      <td>11.4</td>\n      <td>2.9</td>\n      <td>0.3</td>\n      <td>0.0</td>\n      <td>1018.8</td>\n      <td>41</td>\n      <td>0</td>\n      <td>69</td>\n      <td>0</td>\n      <td>1.527778</td>\n      <td>302</td>\n      <td>453.0</td>\n      <td>283.0</td>\n      <td>170.0</td>\n      <td>59.7</td>\n      <td>26.7</td>\n      <td>637</td>\n    </tr>\n    <tr>\n      <th>1710797</th>\n      <td>2023-05-30 10:00:00</td>\n      <td>9.5</td>\n      <td>3.2</td>\n      <td>0.1</td>\n      <td>0.0</td>\n      <td>1018.9</td>\n      <td>47</td>\n      <td>0</td>\n      <td>79</td>\n      <td>0</td>\n      <td>3.416667</td>\n      <td>302</td>\n      <td>477.0</td>\n      <td>312.0</td>\n      <td>165.0</td>\n      <td>59.7</td>\n      <td>27.2</td>\n      <td>637</td>\n    </tr>\n    <tr>\n      <th>1710798</th>\n      <td>2023-05-30 10:00:00</td>\n      <td>11.0</td>\n      <td>1.6</td>\n      <td>0.0</td>\n      <td>0.0</td>\n      <td>1018.6</td>\n      <td>31</td>\n      <td>0</td>\n      <td>52</td>\n      <td>0</td>\n      <td>3.472222</td>\n      <td>309</td>\n      <td>535.0</td>\n      <td>400.0</td>\n      <td>135.0</td>\n      <td>59.7</td>\n      <td>27.7</td>\n      <td>637</td>\n    </tr>\n    <tr>\n      <th>1710799</th>\n      <td>2023-05-30 10:00:00</td>\n      <td>11.5</td>\n      <td>1.3</td>\n      <td>0.0</td>\n      <td>0.0</td>\n      <td>1015.8</td>\n      <td>25</td>\n      <td>0</td>\n      <td>42</td>\n      <td>0</td>\n      <td>3.166667</td>\n      <td>305</td>\n      <td>550.0</td>\n      <td>420.0</td>\n      <td>130.0</td>\n      <td>59.7</td>\n      <td>28.2</td>\n      <td>637</td>\n    </tr>\n  </tbody>\n</table>\n<p>1710800 rows × 18 columns</p>\n</div>"
     },
     "execution_count": 34,
     "metadata": {},
     "output_type": "execute_result"
    }
   ],
   "source": [
    "historical_weather = pd.read_csv(\"../data/historical_weather.csv\",parse_dates=['datetime'])\n",
    "historical_weather"
   ],
   "metadata": {
    "collapsed": false,
    "ExecuteTime": {
     "end_time": "2023-12-05T04:29:58.478075500Z",
     "start_time": "2023-12-05T04:29:57.007560200Z"
    }
   }
  },
  {
   "cell_type": "code",
   "execution_count": 35,
   "outputs": [
    {
     "name": "stdout",
     "output_type": "stream",
     "text": [
      "<class 'pandas.core.frame.DataFrame'>\n",
      "RangeIndex: 1710800 entries, 0 to 1710799\n",
      "Data columns (total 18 columns):\n",
      " #   Column                  Dtype         \n",
      "---  ------                  -----         \n",
      " 0   datetime                datetime64[ns]\n",
      " 1   temperature             float64       \n",
      " 2   dewpoint                float64       \n",
      " 3   rain                    float64       \n",
      " 4   snowfall                float64       \n",
      " 5   surface_pressure        float64       \n",
      " 6   cloudcover_total        int64         \n",
      " 7   cloudcover_low          int64         \n",
      " 8   cloudcover_mid          int64         \n",
      " 9   cloudcover_high         int64         \n",
      " 10  windspeed_10m           float64       \n",
      " 11  winddirection_10m       int64         \n",
      " 12  shortwave_radiation     float64       \n",
      " 13  direct_solar_radiation  float64       \n",
      " 14  diffuse_radiation       float64       \n",
      " 15  latitude                float64       \n",
      " 16  longitude               float64       \n",
      " 17  data_block_id           int64         \n",
      "dtypes: datetime64[ns](1), float64(11), int64(6)\n",
      "memory usage: 234.9 MB\n"
     ]
    }
   ],
   "source": [
    "historical_weather.info()"
   ],
   "metadata": {
    "collapsed": false,
    "ExecuteTime": {
     "end_time": "2023-12-05T04:29:58.495005Z",
     "start_time": "2023-12-05T04:29:58.478075500Z"
    }
   }
  },
  {
   "cell_type": "code",
   "execution_count": 36,
   "outputs": [
    {
     "data": {
      "text/plain": "                   datetime  temperature  dewpoint  rain  snowfall  \\\n0       2021-09-01 00:00:00         14.4      12.0   0.0       0.0   \n1       2021-09-01 00:00:00         14.0      12.0   0.0       0.0   \n2       2021-09-01 00:00:00         14.4      12.8   0.0       0.0   \n3       2021-09-01 00:00:00         15.4      13.0   0.0       0.0   \n4       2021-09-01 00:00:00         15.9      12.6   0.0       0.0   \n...                     ...          ...       ...   ...       ...   \n1710795 2023-05-30 10:00:00         10.8       4.1   0.4       0.0   \n1710796 2023-05-30 10:00:00         11.4       2.9   0.3       0.0   \n1710797 2023-05-30 10:00:00          9.5       3.2   0.1       0.0   \n1710798 2023-05-30 10:00:00         11.0       1.6   0.0       0.0   \n1710799 2023-05-30 10:00:00         11.5       1.3   0.0       0.0   \n\n         surface_pressure  cloudcover_total  cloudcover_low  cloudcover_mid  \\\n0                  1015.8                 4               4               0   \n1                  1010.6                 7               8               0   \n2                  1014.9                 6               7               0   \n3                  1014.4                 4               2               4   \n4                  1013.8                12               7               0   \n...                   ...               ...             ...             ...   \n1710795            1018.7                40               0              67   \n1710796            1018.8                41               0              69   \n1710797            1018.9                47               0              79   \n1710798            1018.6                31               0              52   \n1710799            1015.8                25               0              42   \n\n         cloudcover_high  windspeed_10m  winddirection_10m  \\\n0                      0       6.694444                  3   \n1                      0       4.944444                353   \n2                      0       5.833333                348   \n3                      0       7.111111                349   \n4                     20       8.388889                360   \n...                  ...            ...                ...   \n1710795                0       1.333333                283   \n1710796                0       1.527778                302   \n1710797                0       3.416667                302   \n1710798                0       3.472222                309   \n1710799                0       3.166667                305   \n\n         shortwave_radiation  direct_solar_radiation  diffuse_radiation  \\\n0                        0.0                     0.0                0.0   \n1                        0.0                     0.0                0.0   \n2                        0.0                     0.0                0.0   \n3                        0.0                     0.0                0.0   \n4                        0.0                     0.0                0.0   \n...                      ...                     ...                ...   \n1710795                440.0                   264.0              176.0   \n1710796                453.0                   283.0              170.0   \n1710797                477.0                   312.0              165.0   \n1710798                535.0                   400.0              135.0   \n1710799                550.0                   420.0              130.0   \n\n         latitude  longitude  data_block_id  year  month  day  hour  \n0            57.6       21.7              1  2021      9    1     0  \n1            57.6       22.2              1  2021      9    1     0  \n2            57.6       22.7              1  2021      9    1     0  \n3            57.6       23.2              1  2021      9    1     0  \n4            57.6       23.7              1  2021      9    1     0  \n...           ...        ...            ...   ...    ...  ...   ...  \n1710795      59.7       26.2            637  2023      5   30    10  \n1710796      59.7       26.7            637  2023      5   30    10  \n1710797      59.7       27.2            637  2023      5   30    10  \n1710798      59.7       27.7            637  2023      5   30    10  \n1710799      59.7       28.2            637  2023      5   30    10  \n\n[1710800 rows x 22 columns]",
      "text/html": "<div>\n<style scoped>\n    .dataframe tbody tr th:only-of-type {\n        vertical-align: middle;\n    }\n\n    .dataframe tbody tr th {\n        vertical-align: top;\n    }\n\n    .dataframe thead th {\n        text-align: right;\n    }\n</style>\n<table border=\"1\" class=\"dataframe\">\n  <thead>\n    <tr style=\"text-align: right;\">\n      <th></th>\n      <th>datetime</th>\n      <th>temperature</th>\n      <th>dewpoint</th>\n      <th>rain</th>\n      <th>snowfall</th>\n      <th>surface_pressure</th>\n      <th>cloudcover_total</th>\n      <th>cloudcover_low</th>\n      <th>cloudcover_mid</th>\n      <th>cloudcover_high</th>\n      <th>windspeed_10m</th>\n      <th>winddirection_10m</th>\n      <th>shortwave_radiation</th>\n      <th>direct_solar_radiation</th>\n      <th>diffuse_radiation</th>\n      <th>latitude</th>\n      <th>longitude</th>\n      <th>data_block_id</th>\n      <th>year</th>\n      <th>month</th>\n      <th>day</th>\n      <th>hour</th>\n    </tr>\n  </thead>\n  <tbody>\n    <tr>\n      <th>0</th>\n      <td>2021-09-01 00:00:00</td>\n      <td>14.4</td>\n      <td>12.0</td>\n      <td>0.0</td>\n      <td>0.0</td>\n      <td>1015.8</td>\n      <td>4</td>\n      <td>4</td>\n      <td>0</td>\n      <td>0</td>\n      <td>6.694444</td>\n      <td>3</td>\n      <td>0.0</td>\n      <td>0.0</td>\n      <td>0.0</td>\n      <td>57.6</td>\n      <td>21.7</td>\n      <td>1</td>\n      <td>2021</td>\n      <td>9</td>\n      <td>1</td>\n      <td>0</td>\n    </tr>\n    <tr>\n      <th>1</th>\n      <td>2021-09-01 00:00:00</td>\n      <td>14.0</td>\n      <td>12.0</td>\n      <td>0.0</td>\n      <td>0.0</td>\n      <td>1010.6</td>\n      <td>7</td>\n      <td>8</td>\n      <td>0</td>\n      <td>0</td>\n      <td>4.944444</td>\n      <td>353</td>\n      <td>0.0</td>\n      <td>0.0</td>\n      <td>0.0</td>\n      <td>57.6</td>\n      <td>22.2</td>\n      <td>1</td>\n      <td>2021</td>\n      <td>9</td>\n      <td>1</td>\n      <td>0</td>\n    </tr>\n    <tr>\n      <th>2</th>\n      <td>2021-09-01 00:00:00</td>\n      <td>14.4</td>\n      <td>12.8</td>\n      <td>0.0</td>\n      <td>0.0</td>\n      <td>1014.9</td>\n      <td>6</td>\n      <td>7</td>\n      <td>0</td>\n      <td>0</td>\n      <td>5.833333</td>\n      <td>348</td>\n      <td>0.0</td>\n      <td>0.0</td>\n      <td>0.0</td>\n      <td>57.6</td>\n      <td>22.7</td>\n      <td>1</td>\n      <td>2021</td>\n      <td>9</td>\n      <td>1</td>\n      <td>0</td>\n    </tr>\n    <tr>\n      <th>3</th>\n      <td>2021-09-01 00:00:00</td>\n      <td>15.4</td>\n      <td>13.0</td>\n      <td>0.0</td>\n      <td>0.0</td>\n      <td>1014.4</td>\n      <td>4</td>\n      <td>2</td>\n      <td>4</td>\n      <td>0</td>\n      <td>7.111111</td>\n      <td>349</td>\n      <td>0.0</td>\n      <td>0.0</td>\n      <td>0.0</td>\n      <td>57.6</td>\n      <td>23.2</td>\n      <td>1</td>\n      <td>2021</td>\n      <td>9</td>\n      <td>1</td>\n      <td>0</td>\n    </tr>\n    <tr>\n      <th>4</th>\n      <td>2021-09-01 00:00:00</td>\n      <td>15.9</td>\n      <td>12.6</td>\n      <td>0.0</td>\n      <td>0.0</td>\n      <td>1013.8</td>\n      <td>12</td>\n      <td>7</td>\n      <td>0</td>\n      <td>20</td>\n      <td>8.388889</td>\n      <td>360</td>\n      <td>0.0</td>\n      <td>0.0</td>\n      <td>0.0</td>\n      <td>57.6</td>\n      <td>23.7</td>\n      <td>1</td>\n      <td>2021</td>\n      <td>9</td>\n      <td>1</td>\n      <td>0</td>\n    </tr>\n    <tr>\n      <th>...</th>\n      <td>...</td>\n      <td>...</td>\n      <td>...</td>\n      <td>...</td>\n      <td>...</td>\n      <td>...</td>\n      <td>...</td>\n      <td>...</td>\n      <td>...</td>\n      <td>...</td>\n      <td>...</td>\n      <td>...</td>\n      <td>...</td>\n      <td>...</td>\n      <td>...</td>\n      <td>...</td>\n      <td>...</td>\n      <td>...</td>\n      <td>...</td>\n      <td>...</td>\n      <td>...</td>\n      <td>...</td>\n    </tr>\n    <tr>\n      <th>1710795</th>\n      <td>2023-05-30 10:00:00</td>\n      <td>10.8</td>\n      <td>4.1</td>\n      <td>0.4</td>\n      <td>0.0</td>\n      <td>1018.7</td>\n      <td>40</td>\n      <td>0</td>\n      <td>67</td>\n      <td>0</td>\n      <td>1.333333</td>\n      <td>283</td>\n      <td>440.0</td>\n      <td>264.0</td>\n      <td>176.0</td>\n      <td>59.7</td>\n      <td>26.2</td>\n      <td>637</td>\n      <td>2023</td>\n      <td>5</td>\n      <td>30</td>\n      <td>10</td>\n    </tr>\n    <tr>\n      <th>1710796</th>\n      <td>2023-05-30 10:00:00</td>\n      <td>11.4</td>\n      <td>2.9</td>\n      <td>0.3</td>\n      <td>0.0</td>\n      <td>1018.8</td>\n      <td>41</td>\n      <td>0</td>\n      <td>69</td>\n      <td>0</td>\n      <td>1.527778</td>\n      <td>302</td>\n      <td>453.0</td>\n      <td>283.0</td>\n      <td>170.0</td>\n      <td>59.7</td>\n      <td>26.7</td>\n      <td>637</td>\n      <td>2023</td>\n      <td>5</td>\n      <td>30</td>\n      <td>10</td>\n    </tr>\n    <tr>\n      <th>1710797</th>\n      <td>2023-05-30 10:00:00</td>\n      <td>9.5</td>\n      <td>3.2</td>\n      <td>0.1</td>\n      <td>0.0</td>\n      <td>1018.9</td>\n      <td>47</td>\n      <td>0</td>\n      <td>79</td>\n      <td>0</td>\n      <td>3.416667</td>\n      <td>302</td>\n      <td>477.0</td>\n      <td>312.0</td>\n      <td>165.0</td>\n      <td>59.7</td>\n      <td>27.2</td>\n      <td>637</td>\n      <td>2023</td>\n      <td>5</td>\n      <td>30</td>\n      <td>10</td>\n    </tr>\n    <tr>\n      <th>1710798</th>\n      <td>2023-05-30 10:00:00</td>\n      <td>11.0</td>\n      <td>1.6</td>\n      <td>0.0</td>\n      <td>0.0</td>\n      <td>1018.6</td>\n      <td>31</td>\n      <td>0</td>\n      <td>52</td>\n      <td>0</td>\n      <td>3.472222</td>\n      <td>309</td>\n      <td>535.0</td>\n      <td>400.0</td>\n      <td>135.0</td>\n      <td>59.7</td>\n      <td>27.7</td>\n      <td>637</td>\n      <td>2023</td>\n      <td>5</td>\n      <td>30</td>\n      <td>10</td>\n    </tr>\n    <tr>\n      <th>1710799</th>\n      <td>2023-05-30 10:00:00</td>\n      <td>11.5</td>\n      <td>1.3</td>\n      <td>0.0</td>\n      <td>0.0</td>\n      <td>1015.8</td>\n      <td>25</td>\n      <td>0</td>\n      <td>42</td>\n      <td>0</td>\n      <td>3.166667</td>\n      <td>305</td>\n      <td>550.0</td>\n      <td>420.0</td>\n      <td>130.0</td>\n      <td>59.7</td>\n      <td>28.2</td>\n      <td>637</td>\n      <td>2023</td>\n      <td>5</td>\n      <td>30</td>\n      <td>10</td>\n    </tr>\n  </tbody>\n</table>\n<p>1710800 rows × 22 columns</p>\n</div>"
     },
     "execution_count": 36,
     "metadata": {},
     "output_type": "execute_result"
    }
   ],
   "source": [
    "historical_weather['year'] = historical_weather['datetime'].apply(lambda x: x.year)\n",
    "historical_weather['month'] = historical_weather['datetime'].apply(lambda x: x.month)\n",
    "historical_weather['day'] = historical_weather['datetime'].apply(lambda x: x.day)\n",
    "historical_weather['hour'] = historical_weather['datetime'].apply(lambda x: x.hour)\n",
    "historical_weather"
   ],
   "metadata": {
    "collapsed": false,
    "ExecuteTime": {
     "end_time": "2023-12-05T04:30:04.872992900Z",
     "start_time": "2023-12-05T04:29:58.488867600Z"
    }
   }
  },
  {
   "cell_type": "code",
   "execution_count": 37,
   "outputs": [
    {
     "data": {
      "text/plain": "                   datetime  temperature  dewpoint  rain  snowfall  \\\n0       2021-09-01 00:00:00         14.4      12.0   0.0       0.0   \n1       2021-09-01 00:00:00         14.0      12.0   0.0       0.0   \n2       2021-09-01 00:00:00         14.4      12.8   0.0       0.0   \n3       2021-09-01 00:00:00         15.4      13.0   0.0       0.0   \n4       2021-09-01 00:00:00         15.9      12.6   0.0       0.0   \n...                     ...          ...       ...   ...       ...   \n1710795 2023-05-30 10:00:00         10.8       4.1   0.4       0.0   \n1710796 2023-05-30 10:00:00         11.4       2.9   0.3       0.0   \n1710797 2023-05-30 10:00:00          9.5       3.2   0.1       0.0   \n1710798 2023-05-30 10:00:00         11.0       1.6   0.0       0.0   \n1710799 2023-05-30 10:00:00         11.5       1.3   0.0       0.0   \n\n         surface_pressure  cloudcover_total  cloudcover_low  cloudcover_mid  \\\n0                  1015.8                 4               4               0   \n1                  1010.6                 7               8               0   \n2                  1014.9                 6               7               0   \n3                  1014.4                 4               2               4   \n4                  1013.8                12               7               0   \n...                   ...               ...             ...             ...   \n1710795            1018.7                40               0              67   \n1710796            1018.8                41               0              69   \n1710797            1018.9                47               0              79   \n1710798            1018.6                31               0              52   \n1710799            1015.8                25               0              42   \n\n         cloudcover_high  windspeed_10m  winddirection_10m  \\\n0                      0       6.694444                  3   \n1                      0       4.944444                353   \n2                      0       5.833333                348   \n3                      0       7.111111                349   \n4                     20       8.388889                360   \n...                  ...            ...                ...   \n1710795                0       1.333333                283   \n1710796                0       1.527778                302   \n1710797                0       3.416667                302   \n1710798                0       3.472222                309   \n1710799                0       3.166667                305   \n\n         shortwave_radiation  direct_solar_radiation  diffuse_radiation  \\\n0                        0.0                     0.0                0.0   \n1                        0.0                     0.0                0.0   \n2                        0.0                     0.0                0.0   \n3                        0.0                     0.0                0.0   \n4                        0.0                     0.0                0.0   \n...                      ...                     ...                ...   \n1710795                440.0                   264.0              176.0   \n1710796                453.0                   283.0              170.0   \n1710797                477.0                   312.0              165.0   \n1710798                535.0                   400.0              135.0   \n1710799                550.0                   420.0              130.0   \n\n         latitude  longitude  data_block_id  year  month  day  hour  \n0            57.6       21.7              1  2021      9    1     0  \n1            57.6       22.2              1  2021      9    1     0  \n2            57.6       22.7              1  2021      9    1     0  \n3            57.6       23.2              1  2021      9    1     0  \n4            57.6       23.7              1  2021      9    1     0  \n...           ...        ...            ...   ...    ...  ...   ...  \n1710795      59.7       26.2            637  2023      5   30    10  \n1710796      59.7       26.7            637  2023      5   30    10  \n1710797      59.7       27.2            637  2023      5   30    10  \n1710798      59.7       27.7            637  2023      5   30    10  \n1710799      59.7       28.2            637  2023      5   30    10  \n\n[1710800 rows x 22 columns]",
      "text/html": "<div>\n<style scoped>\n    .dataframe tbody tr th:only-of-type {\n        vertical-align: middle;\n    }\n\n    .dataframe tbody tr th {\n        vertical-align: top;\n    }\n\n    .dataframe thead th {\n        text-align: right;\n    }\n</style>\n<table border=\"1\" class=\"dataframe\">\n  <thead>\n    <tr style=\"text-align: right;\">\n      <th></th>\n      <th>datetime</th>\n      <th>temperature</th>\n      <th>dewpoint</th>\n      <th>rain</th>\n      <th>snowfall</th>\n      <th>surface_pressure</th>\n      <th>cloudcover_total</th>\n      <th>cloudcover_low</th>\n      <th>cloudcover_mid</th>\n      <th>cloudcover_high</th>\n      <th>windspeed_10m</th>\n      <th>winddirection_10m</th>\n      <th>shortwave_radiation</th>\n      <th>direct_solar_radiation</th>\n      <th>diffuse_radiation</th>\n      <th>latitude</th>\n      <th>longitude</th>\n      <th>data_block_id</th>\n      <th>year</th>\n      <th>month</th>\n      <th>day</th>\n      <th>hour</th>\n    </tr>\n  </thead>\n  <tbody>\n    <tr>\n      <th>0</th>\n      <td>2021-09-01 00:00:00</td>\n      <td>14.4</td>\n      <td>12.0</td>\n      <td>0.0</td>\n      <td>0.0</td>\n      <td>1015.8</td>\n      <td>4</td>\n      <td>4</td>\n      <td>0</td>\n      <td>0</td>\n      <td>6.694444</td>\n      <td>3</td>\n      <td>0.0</td>\n      <td>0.0</td>\n      <td>0.0</td>\n      <td>57.6</td>\n      <td>21.7</td>\n      <td>1</td>\n      <td>2021</td>\n      <td>9</td>\n      <td>1</td>\n      <td>0</td>\n    </tr>\n    <tr>\n      <th>1</th>\n      <td>2021-09-01 00:00:00</td>\n      <td>14.0</td>\n      <td>12.0</td>\n      <td>0.0</td>\n      <td>0.0</td>\n      <td>1010.6</td>\n      <td>7</td>\n      <td>8</td>\n      <td>0</td>\n      <td>0</td>\n      <td>4.944444</td>\n      <td>353</td>\n      <td>0.0</td>\n      <td>0.0</td>\n      <td>0.0</td>\n      <td>57.6</td>\n      <td>22.2</td>\n      <td>1</td>\n      <td>2021</td>\n      <td>9</td>\n      <td>1</td>\n      <td>0</td>\n    </tr>\n    <tr>\n      <th>2</th>\n      <td>2021-09-01 00:00:00</td>\n      <td>14.4</td>\n      <td>12.8</td>\n      <td>0.0</td>\n      <td>0.0</td>\n      <td>1014.9</td>\n      <td>6</td>\n      <td>7</td>\n      <td>0</td>\n      <td>0</td>\n      <td>5.833333</td>\n      <td>348</td>\n      <td>0.0</td>\n      <td>0.0</td>\n      <td>0.0</td>\n      <td>57.6</td>\n      <td>22.7</td>\n      <td>1</td>\n      <td>2021</td>\n      <td>9</td>\n      <td>1</td>\n      <td>0</td>\n    </tr>\n    <tr>\n      <th>3</th>\n      <td>2021-09-01 00:00:00</td>\n      <td>15.4</td>\n      <td>13.0</td>\n      <td>0.0</td>\n      <td>0.0</td>\n      <td>1014.4</td>\n      <td>4</td>\n      <td>2</td>\n      <td>4</td>\n      <td>0</td>\n      <td>7.111111</td>\n      <td>349</td>\n      <td>0.0</td>\n      <td>0.0</td>\n      <td>0.0</td>\n      <td>57.6</td>\n      <td>23.2</td>\n      <td>1</td>\n      <td>2021</td>\n      <td>9</td>\n      <td>1</td>\n      <td>0</td>\n    </tr>\n    <tr>\n      <th>4</th>\n      <td>2021-09-01 00:00:00</td>\n      <td>15.9</td>\n      <td>12.6</td>\n      <td>0.0</td>\n      <td>0.0</td>\n      <td>1013.8</td>\n      <td>12</td>\n      <td>7</td>\n      <td>0</td>\n      <td>20</td>\n      <td>8.388889</td>\n      <td>360</td>\n      <td>0.0</td>\n      <td>0.0</td>\n      <td>0.0</td>\n      <td>57.6</td>\n      <td>23.7</td>\n      <td>1</td>\n      <td>2021</td>\n      <td>9</td>\n      <td>1</td>\n      <td>0</td>\n    </tr>\n    <tr>\n      <th>...</th>\n      <td>...</td>\n      <td>...</td>\n      <td>...</td>\n      <td>...</td>\n      <td>...</td>\n      <td>...</td>\n      <td>...</td>\n      <td>...</td>\n      <td>...</td>\n      <td>...</td>\n      <td>...</td>\n      <td>...</td>\n      <td>...</td>\n      <td>...</td>\n      <td>...</td>\n      <td>...</td>\n      <td>...</td>\n      <td>...</td>\n      <td>...</td>\n      <td>...</td>\n      <td>...</td>\n      <td>...</td>\n    </tr>\n    <tr>\n      <th>1710795</th>\n      <td>2023-05-30 10:00:00</td>\n      <td>10.8</td>\n      <td>4.1</td>\n      <td>0.4</td>\n      <td>0.0</td>\n      <td>1018.7</td>\n      <td>40</td>\n      <td>0</td>\n      <td>67</td>\n      <td>0</td>\n      <td>1.333333</td>\n      <td>283</td>\n      <td>440.0</td>\n      <td>264.0</td>\n      <td>176.0</td>\n      <td>59.7</td>\n      <td>26.2</td>\n      <td>637</td>\n      <td>2023</td>\n      <td>5</td>\n      <td>30</td>\n      <td>10</td>\n    </tr>\n    <tr>\n      <th>1710796</th>\n      <td>2023-05-30 10:00:00</td>\n      <td>11.4</td>\n      <td>2.9</td>\n      <td>0.3</td>\n      <td>0.0</td>\n      <td>1018.8</td>\n      <td>41</td>\n      <td>0</td>\n      <td>69</td>\n      <td>0</td>\n      <td>1.527778</td>\n      <td>302</td>\n      <td>453.0</td>\n      <td>283.0</td>\n      <td>170.0</td>\n      <td>59.7</td>\n      <td>26.7</td>\n      <td>637</td>\n      <td>2023</td>\n      <td>5</td>\n      <td>30</td>\n      <td>10</td>\n    </tr>\n    <tr>\n      <th>1710797</th>\n      <td>2023-05-30 10:00:00</td>\n      <td>9.5</td>\n      <td>3.2</td>\n      <td>0.1</td>\n      <td>0.0</td>\n      <td>1018.9</td>\n      <td>47</td>\n      <td>0</td>\n      <td>79</td>\n      <td>0</td>\n      <td>3.416667</td>\n      <td>302</td>\n      <td>477.0</td>\n      <td>312.0</td>\n      <td>165.0</td>\n      <td>59.7</td>\n      <td>27.2</td>\n      <td>637</td>\n      <td>2023</td>\n      <td>5</td>\n      <td>30</td>\n      <td>10</td>\n    </tr>\n    <tr>\n      <th>1710798</th>\n      <td>2023-05-30 10:00:00</td>\n      <td>11.0</td>\n      <td>1.6</td>\n      <td>0.0</td>\n      <td>0.0</td>\n      <td>1018.6</td>\n      <td>31</td>\n      <td>0</td>\n      <td>52</td>\n      <td>0</td>\n      <td>3.472222</td>\n      <td>309</td>\n      <td>535.0</td>\n      <td>400.0</td>\n      <td>135.0</td>\n      <td>59.7</td>\n      <td>27.7</td>\n      <td>637</td>\n      <td>2023</td>\n      <td>5</td>\n      <td>30</td>\n      <td>10</td>\n    </tr>\n    <tr>\n      <th>1710799</th>\n      <td>2023-05-30 10:00:00</td>\n      <td>11.5</td>\n      <td>1.3</td>\n      <td>0.0</td>\n      <td>0.0</td>\n      <td>1015.8</td>\n      <td>25</td>\n      <td>0</td>\n      <td>42</td>\n      <td>0</td>\n      <td>3.166667</td>\n      <td>305</td>\n      <td>550.0</td>\n      <td>420.0</td>\n      <td>130.0</td>\n      <td>59.7</td>\n      <td>28.2</td>\n      <td>637</td>\n      <td>2023</td>\n      <td>5</td>\n      <td>30</td>\n      <td>10</td>\n    </tr>\n  </tbody>\n</table>\n<p>1710800 rows × 22 columns</p>\n</div>"
     },
     "execution_count": 37,
     "metadata": {},
     "output_type": "execute_result"
    }
   ],
   "source": [
    "historical_weather['latitude'] = historical_weather['latitude'].astype(float).round(1)\n",
    "historical_weather['longitude'] = historical_weather['longitude'].astype(float).round(1)\n",
    "historical_weather"
   ],
   "metadata": {
    "collapsed": false,
    "ExecuteTime": {
     "end_time": "2023-12-05T04:30:04.945079100Z",
     "start_time": "2023-12-05T04:30:04.872992900Z"
    }
   }
  },
  {
   "cell_type": "code",
   "execution_count": 38,
   "outputs": [
    {
     "data": {
      "text/plain": "    county_name  longitude  latitude  county\n0           NaN       21.7      57.6     NaN\n1           NaN       21.7      57.9     NaN\n2           NaN       21.7      58.2     NaN\n3           NaN       21.7      58.5     NaN\n4           NaN       21.7      58.8     NaN\n..          ...        ...       ...     ...\n107         NaN       28.2      58.5     NaN\n108         NaN       28.2      58.8     NaN\n109         NaN       28.2      59.1     NaN\n110         NaN       28.2      59.4     NaN\n111         NaN       28.2      59.7     NaN\n\n[112 rows x 4 columns]",
      "text/html": "<div>\n<style scoped>\n    .dataframe tbody tr th:only-of-type {\n        vertical-align: middle;\n    }\n\n    .dataframe tbody tr th {\n        vertical-align: top;\n    }\n\n    .dataframe thead th {\n        text-align: right;\n    }\n</style>\n<table border=\"1\" class=\"dataframe\">\n  <thead>\n    <tr style=\"text-align: right;\">\n      <th></th>\n      <th>county_name</th>\n      <th>longitude</th>\n      <th>latitude</th>\n      <th>county</th>\n    </tr>\n  </thead>\n  <tbody>\n    <tr>\n      <th>0</th>\n      <td>NaN</td>\n      <td>21.7</td>\n      <td>57.6</td>\n      <td>NaN</td>\n    </tr>\n    <tr>\n      <th>1</th>\n      <td>NaN</td>\n      <td>21.7</td>\n      <td>57.9</td>\n      <td>NaN</td>\n    </tr>\n    <tr>\n      <th>2</th>\n      <td>NaN</td>\n      <td>21.7</td>\n      <td>58.2</td>\n      <td>NaN</td>\n    </tr>\n    <tr>\n      <th>3</th>\n      <td>NaN</td>\n      <td>21.7</td>\n      <td>58.5</td>\n      <td>NaN</td>\n    </tr>\n    <tr>\n      <th>4</th>\n      <td>NaN</td>\n      <td>21.7</td>\n      <td>58.8</td>\n      <td>NaN</td>\n    </tr>\n    <tr>\n      <th>...</th>\n      <td>...</td>\n      <td>...</td>\n      <td>...</td>\n      <td>...</td>\n    </tr>\n    <tr>\n      <th>107</th>\n      <td>NaN</td>\n      <td>28.2</td>\n      <td>58.5</td>\n      <td>NaN</td>\n    </tr>\n    <tr>\n      <th>108</th>\n      <td>NaN</td>\n      <td>28.2</td>\n      <td>58.8</td>\n      <td>NaN</td>\n    </tr>\n    <tr>\n      <th>109</th>\n      <td>NaN</td>\n      <td>28.2</td>\n      <td>59.1</td>\n      <td>NaN</td>\n    </tr>\n    <tr>\n      <th>110</th>\n      <td>NaN</td>\n      <td>28.2</td>\n      <td>59.4</td>\n      <td>NaN</td>\n    </tr>\n    <tr>\n      <th>111</th>\n      <td>NaN</td>\n      <td>28.2</td>\n      <td>59.7</td>\n      <td>NaN</td>\n    </tr>\n  </tbody>\n</table>\n<p>112 rows × 4 columns</p>\n</div>"
     },
     "execution_count": 38,
     "metadata": {},
     "output_type": "execute_result"
    }
   ],
   "source": [
    "weather_to_county = pd.read_csv(\"../data/weather_station_to_county_mapping.csv\")\n",
    "weather_to_county"
   ],
   "metadata": {
    "collapsed": false,
    "ExecuteTime": {
     "end_time": "2023-12-05T04:30:04.977064800Z",
     "start_time": "2023-12-05T04:30:04.905377400Z"
    }
   }
  },
  {
   "cell_type": "code",
   "execution_count": 39,
   "outputs": [
    {
     "data": {
      "text/plain": "             count                                                        \\\nlatitude      57.6     57.9     58.2     58.5     58.8     59.1     59.4   \nlongitude                                                                  \n21.7       15275.0  15275.0  15275.0  15275.0  15275.0  15275.0  15275.0   \n22.2       15275.0  15275.0  15275.0  15275.0  15275.0  15275.0  15275.0   \n22.7       15275.0  15275.0  15275.0  15275.0  15275.0  15275.0  15275.0   \n23.2       15275.0  15275.0  15275.0  15275.0  15275.0  15275.0  15275.0   \n23.7       15275.0  15275.0  15275.0  15275.0  15275.0  15275.0  15275.0   \n24.2       15275.0  15275.0  15275.0  15275.0  15275.0  15275.0  15275.0   \n24.7       15275.0  15275.0  15275.0  15275.0  15275.0  15275.0  15275.0   \n25.2       15275.0  15275.0  15275.0  15275.0  15275.0  15275.0  15275.0   \n25.7       15275.0  15275.0  15275.0  15275.0  15275.0  15275.0  15275.0   \n26.2       15275.0  15275.0  15275.0  15275.0  15275.0  15275.0  15275.0   \n26.7       15275.0  15275.0  15275.0  15275.0  15275.0  15275.0  15275.0   \n27.2       15275.0  15275.0  15275.0  15275.0  15275.0  15275.0  15275.0   \n27.7       15275.0  15275.0  15275.0  15275.0  15275.0  15275.0  15275.0   \n28.2       15275.0  15275.0  15275.0  15275.0  15275.0  15275.0  15275.0   \n\n                          mean                                      \\\nlatitude      59.7        57.6        57.9        58.2        58.5   \nlongitude                                                            \n21.7       15275.0  319.270638  319.270638  319.270638  319.270638   \n22.2       15275.0  319.270638  319.270638  319.270638  319.270638   \n22.7       15275.0  319.270638  319.270638  319.270638  319.270638   \n23.2       15275.0  319.270638  319.270638  319.270638  319.270638   \n23.7       15275.0  319.270638  319.270638  319.270638  319.270638   \n24.2       15275.0  319.270638  319.270638  319.270638  319.270638   \n24.7       15275.0  319.270638  319.270638  319.270638  319.270638   \n25.2       15275.0  319.270638  319.270638  319.270638  319.270638   \n25.7       15275.0  319.270638  319.270638  319.270638  319.270638   \n26.2       15275.0  319.270638  319.270638  319.270638  319.270638   \n26.7       15275.0  319.270638  319.270638  319.270638  319.270638   \n27.2       15275.0  319.270638  319.270638  319.270638  319.270638   \n27.7       15275.0  319.270638  319.270638  319.270638  319.270638   \n28.2       15275.0  319.270638  319.270638  319.270638  319.270638   \n\n                                                                 std  \\\nlatitude         58.8        59.1        59.4        59.7       57.6   \nlongitude                                                              \n21.7       319.270638  319.270638  319.270638  319.270638  183.73582   \n22.2       319.270638  319.270638  319.270638  319.270638  183.73582   \n22.7       319.270638  319.270638  319.270638  319.270638  183.73582   \n23.2       319.270638  319.270638  319.270638  319.270638  183.73582   \n23.7       319.270638  319.270638  319.270638  319.270638  183.73582   \n24.2       319.270638  319.270638  319.270638  319.270638  183.73582   \n24.7       319.270638  319.270638  319.270638  319.270638  183.73582   \n25.2       319.270638  319.270638  319.270638  319.270638  183.73582   \n25.7       319.270638  319.270638  319.270638  319.270638  183.73582   \n26.2       319.270638  319.270638  319.270638  319.270638  183.73582   \n26.7       319.270638  319.270638  319.270638  319.270638  183.73582   \n27.2       319.270638  319.270638  319.270638  319.270638  183.73582   \n27.7       319.270638  319.270638  319.270638  319.270638  183.73582   \n28.2       319.270638  319.270638  319.270638  319.270638  183.73582   \n\n                                                                             \\\nlatitude        57.9       58.2       58.5       58.8       59.1       59.4   \nlongitude                                                                     \n21.7       183.73582  183.73582  183.73582  183.73582  183.73582  183.73582   \n22.2       183.73582  183.73582  183.73582  183.73582  183.73582  183.73582   \n22.7       183.73582  183.73582  183.73582  183.73582  183.73582  183.73582   \n23.2       183.73582  183.73582  183.73582  183.73582  183.73582  183.73582   \n23.7       183.73582  183.73582  183.73582  183.73582  183.73582  183.73582   \n24.2       183.73582  183.73582  183.73582  183.73582  183.73582  183.73582   \n24.7       183.73582  183.73582  183.73582  183.73582  183.73582  183.73582   \n25.2       183.73582  183.73582  183.73582  183.73582  183.73582  183.73582   \n25.7       183.73582  183.73582  183.73582  183.73582  183.73582  183.73582   \n26.2       183.73582  183.73582  183.73582  183.73582  183.73582  183.73582   \n26.7       183.73582  183.73582  183.73582  183.73582  183.73582  183.73582   \n27.2       183.73582  183.73582  183.73582  183.73582  183.73582  183.73582   \n27.7       183.73582  183.73582  183.73582  183.73582  183.73582  183.73582   \n28.2       183.73582  183.73582  183.73582  183.73582  183.73582  183.73582   \n\n                      min                                       25%         \\\nlatitude        59.7 57.6 57.9 58.2 58.5 58.8 59.1 59.4 59.7   57.6   57.9   \nlongitude                                                                    \n21.7       183.73582  1.0  1.0  1.0  1.0  1.0  1.0  1.0  1.0  160.0  160.0   \n22.2       183.73582  1.0  1.0  1.0  1.0  1.0  1.0  1.0  1.0  160.0  160.0   \n22.7       183.73582  1.0  1.0  1.0  1.0  1.0  1.0  1.0  1.0  160.0  160.0   \n23.2       183.73582  1.0  1.0  1.0  1.0  1.0  1.0  1.0  1.0  160.0  160.0   \n23.7       183.73582  1.0  1.0  1.0  1.0  1.0  1.0  1.0  1.0  160.0  160.0   \n24.2       183.73582  1.0  1.0  1.0  1.0  1.0  1.0  1.0  1.0  160.0  160.0   \n24.7       183.73582  1.0  1.0  1.0  1.0  1.0  1.0  1.0  1.0  160.0  160.0   \n25.2       183.73582  1.0  1.0  1.0  1.0  1.0  1.0  1.0  1.0  160.0  160.0   \n25.7       183.73582  1.0  1.0  1.0  1.0  1.0  1.0  1.0  1.0  160.0  160.0   \n26.2       183.73582  1.0  1.0  1.0  1.0  1.0  1.0  1.0  1.0  160.0  160.0   \n26.7       183.73582  1.0  1.0  1.0  1.0  1.0  1.0  1.0  1.0  160.0  160.0   \n27.2       183.73582  1.0  1.0  1.0  1.0  1.0  1.0  1.0  1.0  160.0  160.0   \n27.7       183.73582  1.0  1.0  1.0  1.0  1.0  1.0  1.0  1.0  160.0  160.0   \n28.2       183.73582  1.0  1.0  1.0  1.0  1.0  1.0  1.0  1.0  160.0  160.0   \n\n                                                       50%                \\\nlatitude    58.2   58.5   58.8   59.1   59.4   59.7   57.6   57.9   58.2   \nlongitude                                                                  \n21.7       160.0  160.0  160.0  160.0  160.0  160.0  319.0  319.0  319.0   \n22.2       160.0  160.0  160.0  160.0  160.0  160.0  319.0  319.0  319.0   \n22.7       160.0  160.0  160.0  160.0  160.0  160.0  319.0  319.0  319.0   \n23.2       160.0  160.0  160.0  160.0  160.0  160.0  319.0  319.0  319.0   \n23.7       160.0  160.0  160.0  160.0  160.0  160.0  319.0  319.0  319.0   \n24.2       160.0  160.0  160.0  160.0  160.0  160.0  319.0  319.0  319.0   \n24.7       160.0  160.0  160.0  160.0  160.0  160.0  319.0  319.0  319.0   \n25.2       160.0  160.0  160.0  160.0  160.0  160.0  319.0  319.0  319.0   \n25.7       160.0  160.0  160.0  160.0  160.0  160.0  319.0  319.0  319.0   \n26.2       160.0  160.0  160.0  160.0  160.0  160.0  319.0  319.0  319.0   \n26.7       160.0  160.0  160.0  160.0  160.0  160.0  319.0  319.0  319.0   \n27.2       160.0  160.0  160.0  160.0  160.0  160.0  319.0  319.0  319.0   \n27.7       160.0  160.0  160.0  160.0  160.0  160.0  319.0  319.0  319.0   \n28.2       160.0  160.0  160.0  160.0  160.0  160.0  319.0  319.0  319.0   \n\n                                                75%                       \\\nlatitude    58.5   58.8   59.1   59.4   59.7   57.6   57.9   58.2   58.5   \nlongitude                                                                  \n21.7       319.0  319.0  319.0  319.0  319.0  478.0  478.0  478.0  478.0   \n22.2       319.0  319.0  319.0  319.0  319.0  478.0  478.0  478.0  478.0   \n22.7       319.0  319.0  319.0  319.0  319.0  478.0  478.0  478.0  478.0   \n23.2       319.0  319.0  319.0  319.0  319.0  478.0  478.0  478.0  478.0   \n23.7       319.0  319.0  319.0  319.0  319.0  478.0  478.0  478.0  478.0   \n24.2       319.0  319.0  319.0  319.0  319.0  478.0  478.0  478.0  478.0   \n24.7       319.0  319.0  319.0  319.0  319.0  478.0  478.0  478.0  478.0   \n25.2       319.0  319.0  319.0  319.0  319.0  478.0  478.0  478.0  478.0   \n25.7       319.0  319.0  319.0  319.0  319.0  478.0  478.0  478.0  478.0   \n26.2       319.0  319.0  319.0  319.0  319.0  478.0  478.0  478.0  478.0   \n26.7       319.0  319.0  319.0  319.0  319.0  478.0  478.0  478.0  478.0   \n27.2       319.0  319.0  319.0  319.0  319.0  478.0  478.0  478.0  478.0   \n27.7       319.0  319.0  319.0  319.0  319.0  478.0  478.0  478.0  478.0   \n28.2       319.0  319.0  319.0  319.0  319.0  478.0  478.0  478.0  478.0   \n\n                                         max                              \\\nlatitude    58.8   59.1   59.4   59.7   57.6   57.9   58.2   58.5   58.8   \nlongitude                                                                  \n21.7       478.0  478.0  478.0  478.0  637.0  637.0  637.0  637.0  637.0   \n22.2       478.0  478.0  478.0  478.0  637.0  637.0  637.0  637.0  637.0   \n22.7       478.0  478.0  478.0  478.0  637.0  637.0  637.0  637.0  637.0   \n23.2       478.0  478.0  478.0  478.0  637.0  637.0  637.0  637.0  637.0   \n23.7       478.0  478.0  478.0  478.0  637.0  637.0  637.0  637.0  637.0   \n24.2       478.0  478.0  478.0  478.0  637.0  637.0  637.0  637.0  637.0   \n24.7       478.0  478.0  478.0  478.0  637.0  637.0  637.0  637.0  637.0   \n25.2       478.0  478.0  478.0  478.0  637.0  637.0  637.0  637.0  637.0   \n25.7       478.0  478.0  478.0  478.0  637.0  637.0  637.0  637.0  637.0   \n26.2       478.0  478.0  478.0  478.0  637.0  637.0  637.0  637.0  637.0   \n26.7       478.0  478.0  478.0  478.0  637.0  637.0  637.0  637.0  637.0   \n27.2       478.0  478.0  478.0  478.0  637.0  637.0  637.0  637.0  637.0   \n27.7       478.0  478.0  478.0  478.0  637.0  637.0  637.0  637.0  637.0   \n28.2       478.0  478.0  478.0  478.0  637.0  637.0  637.0  637.0  637.0   \n\n                                \nlatitude    59.1   59.4   59.7  \nlongitude                       \n21.7       637.0  637.0  637.0  \n22.2       637.0  637.0  637.0  \n22.7       637.0  637.0  637.0  \n23.2       637.0  637.0  637.0  \n23.7       637.0  637.0  637.0  \n24.2       637.0  637.0  637.0  \n24.7       637.0  637.0  637.0  \n25.2       637.0  637.0  637.0  \n25.7       637.0  637.0  637.0  \n26.2       637.0  637.0  637.0  \n26.7       637.0  637.0  637.0  \n27.2       637.0  637.0  637.0  \n27.7       637.0  637.0  637.0  \n28.2       637.0  637.0  637.0  ",
      "text/html": "<div>\n<style scoped>\n    .dataframe tbody tr th:only-of-type {\n        vertical-align: middle;\n    }\n\n    .dataframe tbody tr th {\n        vertical-align: top;\n    }\n\n    .dataframe thead tr th {\n        text-align: left;\n    }\n\n    .dataframe thead tr:last-of-type th {\n        text-align: right;\n    }\n</style>\n<table border=\"1\" class=\"dataframe\">\n  <thead>\n    <tr>\n      <th></th>\n      <th colspan=\"8\" halign=\"left\">count</th>\n      <th colspan=\"8\" halign=\"left\">mean</th>\n      <th colspan=\"8\" halign=\"left\">std</th>\n      <th colspan=\"8\" halign=\"left\">min</th>\n      <th colspan=\"8\" halign=\"left\">25%</th>\n      <th colspan=\"8\" halign=\"left\">50%</th>\n      <th colspan=\"8\" halign=\"left\">75%</th>\n      <th colspan=\"8\" halign=\"left\">max</th>\n    </tr>\n    <tr>\n      <th>latitude</th>\n      <th>57.6</th>\n      <th>57.9</th>\n      <th>58.2</th>\n      <th>58.5</th>\n      <th>58.8</th>\n      <th>59.1</th>\n      <th>59.4</th>\n      <th>59.7</th>\n      <th>57.6</th>\n      <th>57.9</th>\n      <th>58.2</th>\n      <th>58.5</th>\n      <th>58.8</th>\n      <th>59.1</th>\n      <th>59.4</th>\n      <th>59.7</th>\n      <th>57.6</th>\n      <th>57.9</th>\n      <th>58.2</th>\n      <th>58.5</th>\n      <th>58.8</th>\n      <th>59.1</th>\n      <th>59.4</th>\n      <th>59.7</th>\n      <th>57.6</th>\n      <th>57.9</th>\n      <th>58.2</th>\n      <th>58.5</th>\n      <th>58.8</th>\n      <th>59.1</th>\n      <th>59.4</th>\n      <th>59.7</th>\n      <th>57.6</th>\n      <th>57.9</th>\n      <th>58.2</th>\n      <th>58.5</th>\n      <th>58.8</th>\n      <th>59.1</th>\n      <th>59.4</th>\n      <th>59.7</th>\n      <th>57.6</th>\n      <th>57.9</th>\n      <th>58.2</th>\n      <th>58.5</th>\n      <th>58.8</th>\n      <th>59.1</th>\n      <th>59.4</th>\n      <th>59.7</th>\n      <th>57.6</th>\n      <th>57.9</th>\n      <th>58.2</th>\n      <th>58.5</th>\n      <th>58.8</th>\n      <th>59.1</th>\n      <th>59.4</th>\n      <th>59.7</th>\n      <th>57.6</th>\n      <th>57.9</th>\n      <th>58.2</th>\n      <th>58.5</th>\n      <th>58.8</th>\n      <th>59.1</th>\n      <th>59.4</th>\n      <th>59.7</th>\n    </tr>\n    <tr>\n      <th>longitude</th>\n      <th></th>\n      <th></th>\n      <th></th>\n      <th></th>\n      <th></th>\n      <th></th>\n      <th></th>\n      <th></th>\n      <th></th>\n      <th></th>\n      <th></th>\n      <th></th>\n      <th></th>\n      <th></th>\n      <th></th>\n      <th></th>\n      <th></th>\n      <th></th>\n      <th></th>\n      <th></th>\n      <th></th>\n      <th></th>\n      <th></th>\n      <th></th>\n      <th></th>\n      <th></th>\n      <th></th>\n      <th></th>\n      <th></th>\n      <th></th>\n      <th></th>\n      <th></th>\n      <th></th>\n      <th></th>\n      <th></th>\n      <th></th>\n      <th></th>\n      <th></th>\n      <th></th>\n      <th></th>\n      <th></th>\n      <th></th>\n      <th></th>\n      <th></th>\n      <th></th>\n      <th></th>\n      <th></th>\n      <th></th>\n      <th></th>\n      <th></th>\n      <th></th>\n      <th></th>\n      <th></th>\n      <th></th>\n      <th></th>\n      <th></th>\n      <th></th>\n      <th></th>\n      <th></th>\n      <th></th>\n      <th></th>\n      <th></th>\n      <th></th>\n      <th></th>\n    </tr>\n  </thead>\n  <tbody>\n    <tr>\n      <th>21.7</th>\n      <td>15275.0</td>\n      <td>15275.0</td>\n      <td>15275.0</td>\n      <td>15275.0</td>\n      <td>15275.0</td>\n      <td>15275.0</td>\n      <td>15275.0</td>\n      <td>15275.0</td>\n      <td>319.270638</td>\n      <td>319.270638</td>\n      <td>319.270638</td>\n      <td>319.270638</td>\n      <td>319.270638</td>\n      <td>319.270638</td>\n      <td>319.270638</td>\n      <td>319.270638</td>\n      <td>183.73582</td>\n      <td>183.73582</td>\n      <td>183.73582</td>\n      <td>183.73582</td>\n      <td>183.73582</td>\n      <td>183.73582</td>\n      <td>183.73582</td>\n      <td>183.73582</td>\n      <td>1.0</td>\n      <td>1.0</td>\n      <td>1.0</td>\n      <td>1.0</td>\n      <td>1.0</td>\n      <td>1.0</td>\n      <td>1.0</td>\n      <td>1.0</td>\n      <td>160.0</td>\n      <td>160.0</td>\n      <td>160.0</td>\n      <td>160.0</td>\n      <td>160.0</td>\n      <td>160.0</td>\n      <td>160.0</td>\n      <td>160.0</td>\n      <td>319.0</td>\n      <td>319.0</td>\n      <td>319.0</td>\n      <td>319.0</td>\n      <td>319.0</td>\n      <td>319.0</td>\n      <td>319.0</td>\n      <td>319.0</td>\n      <td>478.0</td>\n      <td>478.0</td>\n      <td>478.0</td>\n      <td>478.0</td>\n      <td>478.0</td>\n      <td>478.0</td>\n      <td>478.0</td>\n      <td>478.0</td>\n      <td>637.0</td>\n      <td>637.0</td>\n      <td>637.0</td>\n      <td>637.0</td>\n      <td>637.0</td>\n      <td>637.0</td>\n      <td>637.0</td>\n      <td>637.0</td>\n    </tr>\n    <tr>\n      <th>22.2</th>\n      <td>15275.0</td>\n      <td>15275.0</td>\n      <td>15275.0</td>\n      <td>15275.0</td>\n      <td>15275.0</td>\n      <td>15275.0</td>\n      <td>15275.0</td>\n      <td>15275.0</td>\n      <td>319.270638</td>\n      <td>319.270638</td>\n      <td>319.270638</td>\n      <td>319.270638</td>\n      <td>319.270638</td>\n      <td>319.270638</td>\n      <td>319.270638</td>\n      <td>319.270638</td>\n      <td>183.73582</td>\n      <td>183.73582</td>\n      <td>183.73582</td>\n      <td>183.73582</td>\n      <td>183.73582</td>\n      <td>183.73582</td>\n      <td>183.73582</td>\n      <td>183.73582</td>\n      <td>1.0</td>\n      <td>1.0</td>\n      <td>1.0</td>\n      <td>1.0</td>\n      <td>1.0</td>\n      <td>1.0</td>\n      <td>1.0</td>\n      <td>1.0</td>\n      <td>160.0</td>\n      <td>160.0</td>\n      <td>160.0</td>\n      <td>160.0</td>\n      <td>160.0</td>\n      <td>160.0</td>\n      <td>160.0</td>\n      <td>160.0</td>\n      <td>319.0</td>\n      <td>319.0</td>\n      <td>319.0</td>\n      <td>319.0</td>\n      <td>319.0</td>\n      <td>319.0</td>\n      <td>319.0</td>\n      <td>319.0</td>\n      <td>478.0</td>\n      <td>478.0</td>\n      <td>478.0</td>\n      <td>478.0</td>\n      <td>478.0</td>\n      <td>478.0</td>\n      <td>478.0</td>\n      <td>478.0</td>\n      <td>637.0</td>\n      <td>637.0</td>\n      <td>637.0</td>\n      <td>637.0</td>\n      <td>637.0</td>\n      <td>637.0</td>\n      <td>637.0</td>\n      <td>637.0</td>\n    </tr>\n    <tr>\n      <th>22.7</th>\n      <td>15275.0</td>\n      <td>15275.0</td>\n      <td>15275.0</td>\n      <td>15275.0</td>\n      <td>15275.0</td>\n      <td>15275.0</td>\n      <td>15275.0</td>\n      <td>15275.0</td>\n      <td>319.270638</td>\n      <td>319.270638</td>\n      <td>319.270638</td>\n      <td>319.270638</td>\n      <td>319.270638</td>\n      <td>319.270638</td>\n      <td>319.270638</td>\n      <td>319.270638</td>\n      <td>183.73582</td>\n      <td>183.73582</td>\n      <td>183.73582</td>\n      <td>183.73582</td>\n      <td>183.73582</td>\n      <td>183.73582</td>\n      <td>183.73582</td>\n      <td>183.73582</td>\n      <td>1.0</td>\n      <td>1.0</td>\n      <td>1.0</td>\n      <td>1.0</td>\n      <td>1.0</td>\n      <td>1.0</td>\n      <td>1.0</td>\n      <td>1.0</td>\n      <td>160.0</td>\n      <td>160.0</td>\n      <td>160.0</td>\n      <td>160.0</td>\n      <td>160.0</td>\n      <td>160.0</td>\n      <td>160.0</td>\n      <td>160.0</td>\n      <td>319.0</td>\n      <td>319.0</td>\n      <td>319.0</td>\n      <td>319.0</td>\n      <td>319.0</td>\n      <td>319.0</td>\n      <td>319.0</td>\n      <td>319.0</td>\n      <td>478.0</td>\n      <td>478.0</td>\n      <td>478.0</td>\n      <td>478.0</td>\n      <td>478.0</td>\n      <td>478.0</td>\n      <td>478.0</td>\n      <td>478.0</td>\n      <td>637.0</td>\n      <td>637.0</td>\n      <td>637.0</td>\n      <td>637.0</td>\n      <td>637.0</td>\n      <td>637.0</td>\n      <td>637.0</td>\n      <td>637.0</td>\n    </tr>\n    <tr>\n      <th>23.2</th>\n      <td>15275.0</td>\n      <td>15275.0</td>\n      <td>15275.0</td>\n      <td>15275.0</td>\n      <td>15275.0</td>\n      <td>15275.0</td>\n      <td>15275.0</td>\n      <td>15275.0</td>\n      <td>319.270638</td>\n      <td>319.270638</td>\n      <td>319.270638</td>\n      <td>319.270638</td>\n      <td>319.270638</td>\n      <td>319.270638</td>\n      <td>319.270638</td>\n      <td>319.270638</td>\n      <td>183.73582</td>\n      <td>183.73582</td>\n      <td>183.73582</td>\n      <td>183.73582</td>\n      <td>183.73582</td>\n      <td>183.73582</td>\n      <td>183.73582</td>\n      <td>183.73582</td>\n      <td>1.0</td>\n      <td>1.0</td>\n      <td>1.0</td>\n      <td>1.0</td>\n      <td>1.0</td>\n      <td>1.0</td>\n      <td>1.0</td>\n      <td>1.0</td>\n      <td>160.0</td>\n      <td>160.0</td>\n      <td>160.0</td>\n      <td>160.0</td>\n      <td>160.0</td>\n      <td>160.0</td>\n      <td>160.0</td>\n      <td>160.0</td>\n      <td>319.0</td>\n      <td>319.0</td>\n      <td>319.0</td>\n      <td>319.0</td>\n      <td>319.0</td>\n      <td>319.0</td>\n      <td>319.0</td>\n      <td>319.0</td>\n      <td>478.0</td>\n      <td>478.0</td>\n      <td>478.0</td>\n      <td>478.0</td>\n      <td>478.0</td>\n      <td>478.0</td>\n      <td>478.0</td>\n      <td>478.0</td>\n      <td>637.0</td>\n      <td>637.0</td>\n      <td>637.0</td>\n      <td>637.0</td>\n      <td>637.0</td>\n      <td>637.0</td>\n      <td>637.0</td>\n      <td>637.0</td>\n    </tr>\n    <tr>\n      <th>23.7</th>\n      <td>15275.0</td>\n      <td>15275.0</td>\n      <td>15275.0</td>\n      <td>15275.0</td>\n      <td>15275.0</td>\n      <td>15275.0</td>\n      <td>15275.0</td>\n      <td>15275.0</td>\n      <td>319.270638</td>\n      <td>319.270638</td>\n      <td>319.270638</td>\n      <td>319.270638</td>\n      <td>319.270638</td>\n      <td>319.270638</td>\n      <td>319.270638</td>\n      <td>319.270638</td>\n      <td>183.73582</td>\n      <td>183.73582</td>\n      <td>183.73582</td>\n      <td>183.73582</td>\n      <td>183.73582</td>\n      <td>183.73582</td>\n      <td>183.73582</td>\n      <td>183.73582</td>\n      <td>1.0</td>\n      <td>1.0</td>\n      <td>1.0</td>\n      <td>1.0</td>\n      <td>1.0</td>\n      <td>1.0</td>\n      <td>1.0</td>\n      <td>1.0</td>\n      <td>160.0</td>\n      <td>160.0</td>\n      <td>160.0</td>\n      <td>160.0</td>\n      <td>160.0</td>\n      <td>160.0</td>\n      <td>160.0</td>\n      <td>160.0</td>\n      <td>319.0</td>\n      <td>319.0</td>\n      <td>319.0</td>\n      <td>319.0</td>\n      <td>319.0</td>\n      <td>319.0</td>\n      <td>319.0</td>\n      <td>319.0</td>\n      <td>478.0</td>\n      <td>478.0</td>\n      <td>478.0</td>\n      <td>478.0</td>\n      <td>478.0</td>\n      <td>478.0</td>\n      <td>478.0</td>\n      <td>478.0</td>\n      <td>637.0</td>\n      <td>637.0</td>\n      <td>637.0</td>\n      <td>637.0</td>\n      <td>637.0</td>\n      <td>637.0</td>\n      <td>637.0</td>\n      <td>637.0</td>\n    </tr>\n    <tr>\n      <th>24.2</th>\n      <td>15275.0</td>\n      <td>15275.0</td>\n      <td>15275.0</td>\n      <td>15275.0</td>\n      <td>15275.0</td>\n      <td>15275.0</td>\n      <td>15275.0</td>\n      <td>15275.0</td>\n      <td>319.270638</td>\n      <td>319.270638</td>\n      <td>319.270638</td>\n      <td>319.270638</td>\n      <td>319.270638</td>\n      <td>319.270638</td>\n      <td>319.270638</td>\n      <td>319.270638</td>\n      <td>183.73582</td>\n      <td>183.73582</td>\n      <td>183.73582</td>\n      <td>183.73582</td>\n      <td>183.73582</td>\n      <td>183.73582</td>\n      <td>183.73582</td>\n      <td>183.73582</td>\n      <td>1.0</td>\n      <td>1.0</td>\n      <td>1.0</td>\n      <td>1.0</td>\n      <td>1.0</td>\n      <td>1.0</td>\n      <td>1.0</td>\n      <td>1.0</td>\n      <td>160.0</td>\n      <td>160.0</td>\n      <td>160.0</td>\n      <td>160.0</td>\n      <td>160.0</td>\n      <td>160.0</td>\n      <td>160.0</td>\n      <td>160.0</td>\n      <td>319.0</td>\n      <td>319.0</td>\n      <td>319.0</td>\n      <td>319.0</td>\n      <td>319.0</td>\n      <td>319.0</td>\n      <td>319.0</td>\n      <td>319.0</td>\n      <td>478.0</td>\n      <td>478.0</td>\n      <td>478.0</td>\n      <td>478.0</td>\n      <td>478.0</td>\n      <td>478.0</td>\n      <td>478.0</td>\n      <td>478.0</td>\n      <td>637.0</td>\n      <td>637.0</td>\n      <td>637.0</td>\n      <td>637.0</td>\n      <td>637.0</td>\n      <td>637.0</td>\n      <td>637.0</td>\n      <td>637.0</td>\n    </tr>\n    <tr>\n      <th>24.7</th>\n      <td>15275.0</td>\n      <td>15275.0</td>\n      <td>15275.0</td>\n      <td>15275.0</td>\n      <td>15275.0</td>\n      <td>15275.0</td>\n      <td>15275.0</td>\n      <td>15275.0</td>\n      <td>319.270638</td>\n      <td>319.270638</td>\n      <td>319.270638</td>\n      <td>319.270638</td>\n      <td>319.270638</td>\n      <td>319.270638</td>\n      <td>319.270638</td>\n      <td>319.270638</td>\n      <td>183.73582</td>\n      <td>183.73582</td>\n      <td>183.73582</td>\n      <td>183.73582</td>\n      <td>183.73582</td>\n      <td>183.73582</td>\n      <td>183.73582</td>\n      <td>183.73582</td>\n      <td>1.0</td>\n      <td>1.0</td>\n      <td>1.0</td>\n      <td>1.0</td>\n      <td>1.0</td>\n      <td>1.0</td>\n      <td>1.0</td>\n      <td>1.0</td>\n      <td>160.0</td>\n      <td>160.0</td>\n      <td>160.0</td>\n      <td>160.0</td>\n      <td>160.0</td>\n      <td>160.0</td>\n      <td>160.0</td>\n      <td>160.0</td>\n      <td>319.0</td>\n      <td>319.0</td>\n      <td>319.0</td>\n      <td>319.0</td>\n      <td>319.0</td>\n      <td>319.0</td>\n      <td>319.0</td>\n      <td>319.0</td>\n      <td>478.0</td>\n      <td>478.0</td>\n      <td>478.0</td>\n      <td>478.0</td>\n      <td>478.0</td>\n      <td>478.0</td>\n      <td>478.0</td>\n      <td>478.0</td>\n      <td>637.0</td>\n      <td>637.0</td>\n      <td>637.0</td>\n      <td>637.0</td>\n      <td>637.0</td>\n      <td>637.0</td>\n      <td>637.0</td>\n      <td>637.0</td>\n    </tr>\n    <tr>\n      <th>25.2</th>\n      <td>15275.0</td>\n      <td>15275.0</td>\n      <td>15275.0</td>\n      <td>15275.0</td>\n      <td>15275.0</td>\n      <td>15275.0</td>\n      <td>15275.0</td>\n      <td>15275.0</td>\n      <td>319.270638</td>\n      <td>319.270638</td>\n      <td>319.270638</td>\n      <td>319.270638</td>\n      <td>319.270638</td>\n      <td>319.270638</td>\n      <td>319.270638</td>\n      <td>319.270638</td>\n      <td>183.73582</td>\n      <td>183.73582</td>\n      <td>183.73582</td>\n      <td>183.73582</td>\n      <td>183.73582</td>\n      <td>183.73582</td>\n      <td>183.73582</td>\n      <td>183.73582</td>\n      <td>1.0</td>\n      <td>1.0</td>\n      <td>1.0</td>\n      <td>1.0</td>\n      <td>1.0</td>\n      <td>1.0</td>\n      <td>1.0</td>\n      <td>1.0</td>\n      <td>160.0</td>\n      <td>160.0</td>\n      <td>160.0</td>\n      <td>160.0</td>\n      <td>160.0</td>\n      <td>160.0</td>\n      <td>160.0</td>\n      <td>160.0</td>\n      <td>319.0</td>\n      <td>319.0</td>\n      <td>319.0</td>\n      <td>319.0</td>\n      <td>319.0</td>\n      <td>319.0</td>\n      <td>319.0</td>\n      <td>319.0</td>\n      <td>478.0</td>\n      <td>478.0</td>\n      <td>478.0</td>\n      <td>478.0</td>\n      <td>478.0</td>\n      <td>478.0</td>\n      <td>478.0</td>\n      <td>478.0</td>\n      <td>637.0</td>\n      <td>637.0</td>\n      <td>637.0</td>\n      <td>637.0</td>\n      <td>637.0</td>\n      <td>637.0</td>\n      <td>637.0</td>\n      <td>637.0</td>\n    </tr>\n    <tr>\n      <th>25.7</th>\n      <td>15275.0</td>\n      <td>15275.0</td>\n      <td>15275.0</td>\n      <td>15275.0</td>\n      <td>15275.0</td>\n      <td>15275.0</td>\n      <td>15275.0</td>\n      <td>15275.0</td>\n      <td>319.270638</td>\n      <td>319.270638</td>\n      <td>319.270638</td>\n      <td>319.270638</td>\n      <td>319.270638</td>\n      <td>319.270638</td>\n      <td>319.270638</td>\n      <td>319.270638</td>\n      <td>183.73582</td>\n      <td>183.73582</td>\n      <td>183.73582</td>\n      <td>183.73582</td>\n      <td>183.73582</td>\n      <td>183.73582</td>\n      <td>183.73582</td>\n      <td>183.73582</td>\n      <td>1.0</td>\n      <td>1.0</td>\n      <td>1.0</td>\n      <td>1.0</td>\n      <td>1.0</td>\n      <td>1.0</td>\n      <td>1.0</td>\n      <td>1.0</td>\n      <td>160.0</td>\n      <td>160.0</td>\n      <td>160.0</td>\n      <td>160.0</td>\n      <td>160.0</td>\n      <td>160.0</td>\n      <td>160.0</td>\n      <td>160.0</td>\n      <td>319.0</td>\n      <td>319.0</td>\n      <td>319.0</td>\n      <td>319.0</td>\n      <td>319.0</td>\n      <td>319.0</td>\n      <td>319.0</td>\n      <td>319.0</td>\n      <td>478.0</td>\n      <td>478.0</td>\n      <td>478.0</td>\n      <td>478.0</td>\n      <td>478.0</td>\n      <td>478.0</td>\n      <td>478.0</td>\n      <td>478.0</td>\n      <td>637.0</td>\n      <td>637.0</td>\n      <td>637.0</td>\n      <td>637.0</td>\n      <td>637.0</td>\n      <td>637.0</td>\n      <td>637.0</td>\n      <td>637.0</td>\n    </tr>\n    <tr>\n      <th>26.2</th>\n      <td>15275.0</td>\n      <td>15275.0</td>\n      <td>15275.0</td>\n      <td>15275.0</td>\n      <td>15275.0</td>\n      <td>15275.0</td>\n      <td>15275.0</td>\n      <td>15275.0</td>\n      <td>319.270638</td>\n      <td>319.270638</td>\n      <td>319.270638</td>\n      <td>319.270638</td>\n      <td>319.270638</td>\n      <td>319.270638</td>\n      <td>319.270638</td>\n      <td>319.270638</td>\n      <td>183.73582</td>\n      <td>183.73582</td>\n      <td>183.73582</td>\n      <td>183.73582</td>\n      <td>183.73582</td>\n      <td>183.73582</td>\n      <td>183.73582</td>\n      <td>183.73582</td>\n      <td>1.0</td>\n      <td>1.0</td>\n      <td>1.0</td>\n      <td>1.0</td>\n      <td>1.0</td>\n      <td>1.0</td>\n      <td>1.0</td>\n      <td>1.0</td>\n      <td>160.0</td>\n      <td>160.0</td>\n      <td>160.0</td>\n      <td>160.0</td>\n      <td>160.0</td>\n      <td>160.0</td>\n      <td>160.0</td>\n      <td>160.0</td>\n      <td>319.0</td>\n      <td>319.0</td>\n      <td>319.0</td>\n      <td>319.0</td>\n      <td>319.0</td>\n      <td>319.0</td>\n      <td>319.0</td>\n      <td>319.0</td>\n      <td>478.0</td>\n      <td>478.0</td>\n      <td>478.0</td>\n      <td>478.0</td>\n      <td>478.0</td>\n      <td>478.0</td>\n      <td>478.0</td>\n      <td>478.0</td>\n      <td>637.0</td>\n      <td>637.0</td>\n      <td>637.0</td>\n      <td>637.0</td>\n      <td>637.0</td>\n      <td>637.0</td>\n      <td>637.0</td>\n      <td>637.0</td>\n    </tr>\n    <tr>\n      <th>26.7</th>\n      <td>15275.0</td>\n      <td>15275.0</td>\n      <td>15275.0</td>\n      <td>15275.0</td>\n      <td>15275.0</td>\n      <td>15275.0</td>\n      <td>15275.0</td>\n      <td>15275.0</td>\n      <td>319.270638</td>\n      <td>319.270638</td>\n      <td>319.270638</td>\n      <td>319.270638</td>\n      <td>319.270638</td>\n      <td>319.270638</td>\n      <td>319.270638</td>\n      <td>319.270638</td>\n      <td>183.73582</td>\n      <td>183.73582</td>\n      <td>183.73582</td>\n      <td>183.73582</td>\n      <td>183.73582</td>\n      <td>183.73582</td>\n      <td>183.73582</td>\n      <td>183.73582</td>\n      <td>1.0</td>\n      <td>1.0</td>\n      <td>1.0</td>\n      <td>1.0</td>\n      <td>1.0</td>\n      <td>1.0</td>\n      <td>1.0</td>\n      <td>1.0</td>\n      <td>160.0</td>\n      <td>160.0</td>\n      <td>160.0</td>\n      <td>160.0</td>\n      <td>160.0</td>\n      <td>160.0</td>\n      <td>160.0</td>\n      <td>160.0</td>\n      <td>319.0</td>\n      <td>319.0</td>\n      <td>319.0</td>\n      <td>319.0</td>\n      <td>319.0</td>\n      <td>319.0</td>\n      <td>319.0</td>\n      <td>319.0</td>\n      <td>478.0</td>\n      <td>478.0</td>\n      <td>478.0</td>\n      <td>478.0</td>\n      <td>478.0</td>\n      <td>478.0</td>\n      <td>478.0</td>\n      <td>478.0</td>\n      <td>637.0</td>\n      <td>637.0</td>\n      <td>637.0</td>\n      <td>637.0</td>\n      <td>637.0</td>\n      <td>637.0</td>\n      <td>637.0</td>\n      <td>637.0</td>\n    </tr>\n    <tr>\n      <th>27.2</th>\n      <td>15275.0</td>\n      <td>15275.0</td>\n      <td>15275.0</td>\n      <td>15275.0</td>\n      <td>15275.0</td>\n      <td>15275.0</td>\n      <td>15275.0</td>\n      <td>15275.0</td>\n      <td>319.270638</td>\n      <td>319.270638</td>\n      <td>319.270638</td>\n      <td>319.270638</td>\n      <td>319.270638</td>\n      <td>319.270638</td>\n      <td>319.270638</td>\n      <td>319.270638</td>\n      <td>183.73582</td>\n      <td>183.73582</td>\n      <td>183.73582</td>\n      <td>183.73582</td>\n      <td>183.73582</td>\n      <td>183.73582</td>\n      <td>183.73582</td>\n      <td>183.73582</td>\n      <td>1.0</td>\n      <td>1.0</td>\n      <td>1.0</td>\n      <td>1.0</td>\n      <td>1.0</td>\n      <td>1.0</td>\n      <td>1.0</td>\n      <td>1.0</td>\n      <td>160.0</td>\n      <td>160.0</td>\n      <td>160.0</td>\n      <td>160.0</td>\n      <td>160.0</td>\n      <td>160.0</td>\n      <td>160.0</td>\n      <td>160.0</td>\n      <td>319.0</td>\n      <td>319.0</td>\n      <td>319.0</td>\n      <td>319.0</td>\n      <td>319.0</td>\n      <td>319.0</td>\n      <td>319.0</td>\n      <td>319.0</td>\n      <td>478.0</td>\n      <td>478.0</td>\n      <td>478.0</td>\n      <td>478.0</td>\n      <td>478.0</td>\n      <td>478.0</td>\n      <td>478.0</td>\n      <td>478.0</td>\n      <td>637.0</td>\n      <td>637.0</td>\n      <td>637.0</td>\n      <td>637.0</td>\n      <td>637.0</td>\n      <td>637.0</td>\n      <td>637.0</td>\n      <td>637.0</td>\n    </tr>\n    <tr>\n      <th>27.7</th>\n      <td>15275.0</td>\n      <td>15275.0</td>\n      <td>15275.0</td>\n      <td>15275.0</td>\n      <td>15275.0</td>\n      <td>15275.0</td>\n      <td>15275.0</td>\n      <td>15275.0</td>\n      <td>319.270638</td>\n      <td>319.270638</td>\n      <td>319.270638</td>\n      <td>319.270638</td>\n      <td>319.270638</td>\n      <td>319.270638</td>\n      <td>319.270638</td>\n      <td>319.270638</td>\n      <td>183.73582</td>\n      <td>183.73582</td>\n      <td>183.73582</td>\n      <td>183.73582</td>\n      <td>183.73582</td>\n      <td>183.73582</td>\n      <td>183.73582</td>\n      <td>183.73582</td>\n      <td>1.0</td>\n      <td>1.0</td>\n      <td>1.0</td>\n      <td>1.0</td>\n      <td>1.0</td>\n      <td>1.0</td>\n      <td>1.0</td>\n      <td>1.0</td>\n      <td>160.0</td>\n      <td>160.0</td>\n      <td>160.0</td>\n      <td>160.0</td>\n      <td>160.0</td>\n      <td>160.0</td>\n      <td>160.0</td>\n      <td>160.0</td>\n      <td>319.0</td>\n      <td>319.0</td>\n      <td>319.0</td>\n      <td>319.0</td>\n      <td>319.0</td>\n      <td>319.0</td>\n      <td>319.0</td>\n      <td>319.0</td>\n      <td>478.0</td>\n      <td>478.0</td>\n      <td>478.0</td>\n      <td>478.0</td>\n      <td>478.0</td>\n      <td>478.0</td>\n      <td>478.0</td>\n      <td>478.0</td>\n      <td>637.0</td>\n      <td>637.0</td>\n      <td>637.0</td>\n      <td>637.0</td>\n      <td>637.0</td>\n      <td>637.0</td>\n      <td>637.0</td>\n      <td>637.0</td>\n    </tr>\n    <tr>\n      <th>28.2</th>\n      <td>15275.0</td>\n      <td>15275.0</td>\n      <td>15275.0</td>\n      <td>15275.0</td>\n      <td>15275.0</td>\n      <td>15275.0</td>\n      <td>15275.0</td>\n      <td>15275.0</td>\n      <td>319.270638</td>\n      <td>319.270638</td>\n      <td>319.270638</td>\n      <td>319.270638</td>\n      <td>319.270638</td>\n      <td>319.270638</td>\n      <td>319.270638</td>\n      <td>319.270638</td>\n      <td>183.73582</td>\n      <td>183.73582</td>\n      <td>183.73582</td>\n      <td>183.73582</td>\n      <td>183.73582</td>\n      <td>183.73582</td>\n      <td>183.73582</td>\n      <td>183.73582</td>\n      <td>1.0</td>\n      <td>1.0</td>\n      <td>1.0</td>\n      <td>1.0</td>\n      <td>1.0</td>\n      <td>1.0</td>\n      <td>1.0</td>\n      <td>1.0</td>\n      <td>160.0</td>\n      <td>160.0</td>\n      <td>160.0</td>\n      <td>160.0</td>\n      <td>160.0</td>\n      <td>160.0</td>\n      <td>160.0</td>\n      <td>160.0</td>\n      <td>319.0</td>\n      <td>319.0</td>\n      <td>319.0</td>\n      <td>319.0</td>\n      <td>319.0</td>\n      <td>319.0</td>\n      <td>319.0</td>\n      <td>319.0</td>\n      <td>478.0</td>\n      <td>478.0</td>\n      <td>478.0</td>\n      <td>478.0</td>\n      <td>478.0</td>\n      <td>478.0</td>\n      <td>478.0</td>\n      <td>478.0</td>\n      <td>637.0</td>\n      <td>637.0</td>\n      <td>637.0</td>\n      <td>637.0</td>\n      <td>637.0</td>\n      <td>637.0</td>\n      <td>637.0</td>\n      <td>637.0</td>\n    </tr>\n  </tbody>\n</table>\n</div>"
     },
     "execution_count": 39,
     "metadata": {},
     "output_type": "execute_result"
    }
   ],
   "source": [
    "historical_weather.groupby(by=[\"longitude\",\"latitude\"])[\"data_block_id\"].describe().unstack()\n"
   ],
   "metadata": {
    "collapsed": false,
    "ExecuteTime": {
     "end_time": "2023-12-05T04:30:05.193386300Z",
     "start_time": "2023-12-05T04:30:04.919343500Z"
    }
   }
  },
  {
   "cell_type": "markdown",
   "source": [],
   "metadata": {
    "collapsed": false,
    "ExecuteTime": {
     "end_time": "2023-12-03T11:24:46.253351100Z",
     "start_time": "2023-12-03T11:24:45.984811Z"
    }
   },
   "outputs": [
    {
     "data": {
      "text/plain": "             count                                                        \\\nlatitude      57.6     57.9     58.2     58.5     58.8     59.1     59.4   \nlongitude                                                                  \n21.7       15275.0  15275.0  15275.0  15275.0  15275.0  15275.0  15275.0   \n22.2       15275.0  15275.0  15275.0  15275.0  15275.0  15275.0  15275.0   \n22.7       15275.0  15275.0  15275.0  15275.0  15275.0  15275.0  15275.0   \n23.2       15275.0  15275.0  15275.0  15275.0  15275.0  15275.0  15275.0   \n23.7       15275.0  15275.0  15275.0  15275.0  15275.0  15275.0  15275.0   \n24.2       15275.0  15275.0  15275.0  15275.0  15275.0  15275.0  15275.0   \n24.7       15275.0  15275.0  15275.0  15275.0  15275.0  15275.0  15275.0   \n25.2       15275.0  15275.0  15275.0  15275.0  15275.0  15275.0  15275.0   \n25.7       15275.0  15275.0  15275.0  15275.0  15275.0  15275.0  15275.0   \n26.2       15275.0  15275.0  15275.0  15275.0  15275.0  15275.0  15275.0   \n26.7       15275.0  15275.0  15275.0  15275.0  15275.0  15275.0  15275.0   \n27.2       15275.0  15275.0  15275.0  15275.0  15275.0  15275.0  15275.0   \n27.7       15275.0  15275.0  15275.0  15275.0  15275.0  15275.0  15275.0   \n28.2       15275.0  15275.0  15275.0  15275.0  15275.0  15275.0  15275.0   \n\n                          mean                                      \\\nlatitude      59.7        57.6        57.9        58.2        58.5   \nlongitude                                                            \n21.7       15275.0  319.270638  319.270638  319.270638  319.270638   \n22.2       15275.0  319.270638  319.270638  319.270638  319.270638   \n22.7       15275.0  319.270638  319.270638  319.270638  319.270638   \n23.2       15275.0  319.270638  319.270638  319.270638  319.270638   \n23.7       15275.0  319.270638  319.270638  319.270638  319.270638   \n24.2       15275.0  319.270638  319.270638  319.270638  319.270638   \n24.7       15275.0  319.270638  319.270638  319.270638  319.270638   \n25.2       15275.0  319.270638  319.270638  319.270638  319.270638   \n25.7       15275.0  319.270638  319.270638  319.270638  319.270638   \n26.2       15275.0  319.270638  319.270638  319.270638  319.270638   \n26.7       15275.0  319.270638  319.270638  319.270638  319.270638   \n27.2       15275.0  319.270638  319.270638  319.270638  319.270638   \n27.7       15275.0  319.270638  319.270638  319.270638  319.270638   \n28.2       15275.0  319.270638  319.270638  319.270638  319.270638   \n\n                                                                 std  \\\nlatitude         58.8        59.1        59.4        59.7       57.6   \nlongitude                                                              \n21.7       319.270638  319.270638  319.270638  319.270638  183.73582   \n22.2       319.270638  319.270638  319.270638  319.270638  183.73582   \n22.7       319.270638  319.270638  319.270638  319.270638  183.73582   \n23.2       319.270638  319.270638  319.270638  319.270638  183.73582   \n23.7       319.270638  319.270638  319.270638  319.270638  183.73582   \n24.2       319.270638  319.270638  319.270638  319.270638  183.73582   \n24.7       319.270638  319.270638  319.270638  319.270638  183.73582   \n25.2       319.270638  319.270638  319.270638  319.270638  183.73582   \n25.7       319.270638  319.270638  319.270638  319.270638  183.73582   \n26.2       319.270638  319.270638  319.270638  319.270638  183.73582   \n26.7       319.270638  319.270638  319.270638  319.270638  183.73582   \n27.2       319.270638  319.270638  319.270638  319.270638  183.73582   \n27.7       319.270638  319.270638  319.270638  319.270638  183.73582   \n28.2       319.270638  319.270638  319.270638  319.270638  183.73582   \n\n                                                                             \\\nlatitude        57.9       58.2       58.5       58.8       59.1       59.4   \nlongitude                                                                     \n21.7       183.73582  183.73582  183.73582  183.73582  183.73582  183.73582   \n22.2       183.73582  183.73582  183.73582  183.73582  183.73582  183.73582   \n22.7       183.73582  183.73582  183.73582  183.73582  183.73582  183.73582   \n23.2       183.73582  183.73582  183.73582  183.73582  183.73582  183.73582   \n23.7       183.73582  183.73582  183.73582  183.73582  183.73582  183.73582   \n24.2       183.73582  183.73582  183.73582  183.73582  183.73582  183.73582   \n24.7       183.73582  183.73582  183.73582  183.73582  183.73582  183.73582   \n25.2       183.73582  183.73582  183.73582  183.73582  183.73582  183.73582   \n25.7       183.73582  183.73582  183.73582  183.73582  183.73582  183.73582   \n26.2       183.73582  183.73582  183.73582  183.73582  183.73582  183.73582   \n26.7       183.73582  183.73582  183.73582  183.73582  183.73582  183.73582   \n27.2       183.73582  183.73582  183.73582  183.73582  183.73582  183.73582   \n27.7       183.73582  183.73582  183.73582  183.73582  183.73582  183.73582   \n28.2       183.73582  183.73582  183.73582  183.73582  183.73582  183.73582   \n\n                      min                                       25%         \\\nlatitude        59.7 57.6 57.9 58.2 58.5 58.8 59.1 59.4 59.7   57.6   57.9   \nlongitude                                                                    \n21.7       183.73582  1.0  1.0  1.0  1.0  1.0  1.0  1.0  1.0  160.0  160.0   \n22.2       183.73582  1.0  1.0  1.0  1.0  1.0  1.0  1.0  1.0  160.0  160.0   \n22.7       183.73582  1.0  1.0  1.0  1.0  1.0  1.0  1.0  1.0  160.0  160.0   \n23.2       183.73582  1.0  1.0  1.0  1.0  1.0  1.0  1.0  1.0  160.0  160.0   \n23.7       183.73582  1.0  1.0  1.0  1.0  1.0  1.0  1.0  1.0  160.0  160.0   \n24.2       183.73582  1.0  1.0  1.0  1.0  1.0  1.0  1.0  1.0  160.0  160.0   \n24.7       183.73582  1.0  1.0  1.0  1.0  1.0  1.0  1.0  1.0  160.0  160.0   \n25.2       183.73582  1.0  1.0  1.0  1.0  1.0  1.0  1.0  1.0  160.0  160.0   \n25.7       183.73582  1.0  1.0  1.0  1.0  1.0  1.0  1.0  1.0  160.0  160.0   \n26.2       183.73582  1.0  1.0  1.0  1.0  1.0  1.0  1.0  1.0  160.0  160.0   \n26.7       183.73582  1.0  1.0  1.0  1.0  1.0  1.0  1.0  1.0  160.0  160.0   \n27.2       183.73582  1.0  1.0  1.0  1.0  1.0  1.0  1.0  1.0  160.0  160.0   \n27.7       183.73582  1.0  1.0  1.0  1.0  1.0  1.0  1.0  1.0  160.0  160.0   \n28.2       183.73582  1.0  1.0  1.0  1.0  1.0  1.0  1.0  1.0  160.0  160.0   \n\n                                                       50%                \\\nlatitude    58.2   58.5   58.8   59.1   59.4   59.7   57.6   57.9   58.2   \nlongitude                                                                  \n21.7       160.0  160.0  160.0  160.0  160.0  160.0  319.0  319.0  319.0   \n22.2       160.0  160.0  160.0  160.0  160.0  160.0  319.0  319.0  319.0   \n22.7       160.0  160.0  160.0  160.0  160.0  160.0  319.0  319.0  319.0   \n23.2       160.0  160.0  160.0  160.0  160.0  160.0  319.0  319.0  319.0   \n23.7       160.0  160.0  160.0  160.0  160.0  160.0  319.0  319.0  319.0   \n24.2       160.0  160.0  160.0  160.0  160.0  160.0  319.0  319.0  319.0   \n24.7       160.0  160.0  160.0  160.0  160.0  160.0  319.0  319.0  319.0   \n25.2       160.0  160.0  160.0  160.0  160.0  160.0  319.0  319.0  319.0   \n25.7       160.0  160.0  160.0  160.0  160.0  160.0  319.0  319.0  319.0   \n26.2       160.0  160.0  160.0  160.0  160.0  160.0  319.0  319.0  319.0   \n26.7       160.0  160.0  160.0  160.0  160.0  160.0  319.0  319.0  319.0   \n27.2       160.0  160.0  160.0  160.0  160.0  160.0  319.0  319.0  319.0   \n27.7       160.0  160.0  160.0  160.0  160.0  160.0  319.0  319.0  319.0   \n28.2       160.0  160.0  160.0  160.0  160.0  160.0  319.0  319.0  319.0   \n\n                                                75%                       \\\nlatitude    58.5   58.8   59.1   59.4   59.7   57.6   57.9   58.2   58.5   \nlongitude                                                                  \n21.7       319.0  319.0  319.0  319.0  319.0  478.0  478.0  478.0  478.0   \n22.2       319.0  319.0  319.0  319.0  319.0  478.0  478.0  478.0  478.0   \n22.7       319.0  319.0  319.0  319.0  319.0  478.0  478.0  478.0  478.0   \n23.2       319.0  319.0  319.0  319.0  319.0  478.0  478.0  478.0  478.0   \n23.7       319.0  319.0  319.0  319.0  319.0  478.0  478.0  478.0  478.0   \n24.2       319.0  319.0  319.0  319.0  319.0  478.0  478.0  478.0  478.0   \n24.7       319.0  319.0  319.0  319.0  319.0  478.0  478.0  478.0  478.0   \n25.2       319.0  319.0  319.0  319.0  319.0  478.0  478.0  478.0  478.0   \n25.7       319.0  319.0  319.0  319.0  319.0  478.0  478.0  478.0  478.0   \n26.2       319.0  319.0  319.0  319.0  319.0  478.0  478.0  478.0  478.0   \n26.7       319.0  319.0  319.0  319.0  319.0  478.0  478.0  478.0  478.0   \n27.2       319.0  319.0  319.0  319.0  319.0  478.0  478.0  478.0  478.0   \n27.7       319.0  319.0  319.0  319.0  319.0  478.0  478.0  478.0  478.0   \n28.2       319.0  319.0  319.0  319.0  319.0  478.0  478.0  478.0  478.0   \n\n                                         max                              \\\nlatitude    58.8   59.1   59.4   59.7   57.6   57.9   58.2   58.5   58.8   \nlongitude                                                                  \n21.7       478.0  478.0  478.0  478.0  637.0  637.0  637.0  637.0  637.0   \n22.2       478.0  478.0  478.0  478.0  637.0  637.0  637.0  637.0  637.0   \n22.7       478.0  478.0  478.0  478.0  637.0  637.0  637.0  637.0  637.0   \n23.2       478.0  478.0  478.0  478.0  637.0  637.0  637.0  637.0  637.0   \n23.7       478.0  478.0  478.0  478.0  637.0  637.0  637.0  637.0  637.0   \n24.2       478.0  478.0  478.0  478.0  637.0  637.0  637.0  637.0  637.0   \n24.7       478.0  478.0  478.0  478.0  637.0  637.0  637.0  637.0  637.0   \n25.2       478.0  478.0  478.0  478.0  637.0  637.0  637.0  637.0  637.0   \n25.7       478.0  478.0  478.0  478.0  637.0  637.0  637.0  637.0  637.0   \n26.2       478.0  478.0  478.0  478.0  637.0  637.0  637.0  637.0  637.0   \n26.7       478.0  478.0  478.0  478.0  637.0  637.0  637.0  637.0  637.0   \n27.2       478.0  478.0  478.0  478.0  637.0  637.0  637.0  637.0  637.0   \n27.7       478.0  478.0  478.0  478.0  637.0  637.0  637.0  637.0  637.0   \n28.2       478.0  478.0  478.0  478.0  637.0  637.0  637.0  637.0  637.0   \n\n                                \nlatitude    59.1   59.4   59.7  \nlongitude                       \n21.7       637.0  637.0  637.0  \n22.2       637.0  637.0  637.0  \n22.7       637.0  637.0  637.0  \n23.2       637.0  637.0  637.0  \n23.7       637.0  637.0  637.0  \n24.2       637.0  637.0  637.0  \n24.7       637.0  637.0  637.0  \n25.2       637.0  637.0  637.0  \n25.7       637.0  637.0  637.0  \n26.2       637.0  637.0  637.0  \n26.7       637.0  637.0  637.0  \n27.2       637.0  637.0  637.0  \n27.7       637.0  637.0  637.0  \n28.2       637.0  637.0  637.0  ",
      "text/html": "<div>\n<style scoped>\n    .dataframe tbody tr th:only-of-type {\n        vertical-align: middle;\n    }\n\n    .dataframe tbody tr th {\n        vertical-align: top;\n    }\n\n    .dataframe thead tr th {\n        text-align: left;\n    }\n\n    .dataframe thead tr:last-of-type th {\n        text-align: right;\n    }\n</style>\n<table border=\"1\" class=\"dataframe\">\n  <thead>\n    <tr>\n      <th></th>\n      <th colspan=\"8\" halign=\"left\">count</th>\n      <th colspan=\"8\" halign=\"left\">mean</th>\n      <th colspan=\"8\" halign=\"left\">std</th>\n      <th colspan=\"8\" halign=\"left\">min</th>\n      <th colspan=\"8\" halign=\"left\">25%</th>\n      <th colspan=\"8\" halign=\"left\">50%</th>\n      <th colspan=\"8\" halign=\"left\">75%</th>\n      <th colspan=\"8\" halign=\"left\">max</th>\n    </tr>\n    <tr>\n      <th>latitude</th>\n      <th>57.6</th>\n      <th>57.9</th>\n      <th>58.2</th>\n      <th>58.5</th>\n      <th>58.8</th>\n      <th>59.1</th>\n      <th>59.4</th>\n      <th>59.7</th>\n      <th>57.6</th>\n      <th>57.9</th>\n      <th>58.2</th>\n      <th>58.5</th>\n      <th>58.8</th>\n      <th>59.1</th>\n      <th>59.4</th>\n      <th>59.7</th>\n      <th>57.6</th>\n      <th>57.9</th>\n      <th>58.2</th>\n      <th>58.5</th>\n      <th>58.8</th>\n      <th>59.1</th>\n      <th>59.4</th>\n      <th>59.7</th>\n      <th>57.6</th>\n      <th>57.9</th>\n      <th>58.2</th>\n      <th>58.5</th>\n      <th>58.8</th>\n      <th>59.1</th>\n      <th>59.4</th>\n      <th>59.7</th>\n      <th>57.6</th>\n      <th>57.9</th>\n      <th>58.2</th>\n      <th>58.5</th>\n      <th>58.8</th>\n      <th>59.1</th>\n      <th>59.4</th>\n      <th>59.7</th>\n      <th>57.6</th>\n      <th>57.9</th>\n      <th>58.2</th>\n      <th>58.5</th>\n      <th>58.8</th>\n      <th>59.1</th>\n      <th>59.4</th>\n      <th>59.7</th>\n      <th>57.6</th>\n      <th>57.9</th>\n      <th>58.2</th>\n      <th>58.5</th>\n      <th>58.8</th>\n      <th>59.1</th>\n      <th>59.4</th>\n      <th>59.7</th>\n      <th>57.6</th>\n      <th>57.9</th>\n      <th>58.2</th>\n      <th>58.5</th>\n      <th>58.8</th>\n      <th>59.1</th>\n      <th>59.4</th>\n      <th>59.7</th>\n    </tr>\n    <tr>\n      <th>longitude</th>\n      <th></th>\n      <th></th>\n      <th></th>\n      <th></th>\n      <th></th>\n      <th></th>\n      <th></th>\n      <th></th>\n      <th></th>\n      <th></th>\n      <th></th>\n      <th></th>\n      <th></th>\n      <th></th>\n      <th></th>\n      <th></th>\n      <th></th>\n      <th></th>\n      <th></th>\n      <th></th>\n      <th></th>\n      <th></th>\n      <th></th>\n      <th></th>\n      <th></th>\n      <th></th>\n      <th></th>\n      <th></th>\n      <th></th>\n      <th></th>\n      <th></th>\n      <th></th>\n      <th></th>\n      <th></th>\n      <th></th>\n      <th></th>\n      <th></th>\n      <th></th>\n      <th></th>\n      <th></th>\n      <th></th>\n      <th></th>\n      <th></th>\n      <th></th>\n      <th></th>\n      <th></th>\n      <th></th>\n      <th></th>\n      <th></th>\n      <th></th>\n      <th></th>\n      <th></th>\n      <th></th>\n      <th></th>\n      <th></th>\n      <th></th>\n      <th></th>\n      <th></th>\n      <th></th>\n      <th></th>\n      <th></th>\n      <th></th>\n      <th></th>\n      <th></th>\n    </tr>\n  </thead>\n  <tbody>\n    <tr>\n      <th>21.7</th>\n      <td>15275.0</td>\n      <td>15275.0</td>\n      <td>15275.0</td>\n      <td>15275.0</td>\n      <td>15275.0</td>\n      <td>15275.0</td>\n      <td>15275.0</td>\n      <td>15275.0</td>\n      <td>319.270638</td>\n      <td>319.270638</td>\n      <td>319.270638</td>\n      <td>319.270638</td>\n      <td>319.270638</td>\n      <td>319.270638</td>\n      <td>319.270638</td>\n      <td>319.270638</td>\n      <td>183.73582</td>\n      <td>183.73582</td>\n      <td>183.73582</td>\n      <td>183.73582</td>\n      <td>183.73582</td>\n      <td>183.73582</td>\n      <td>183.73582</td>\n      <td>183.73582</td>\n      <td>1.0</td>\n      <td>1.0</td>\n      <td>1.0</td>\n      <td>1.0</td>\n      <td>1.0</td>\n      <td>1.0</td>\n      <td>1.0</td>\n      <td>1.0</td>\n      <td>160.0</td>\n      <td>160.0</td>\n      <td>160.0</td>\n      <td>160.0</td>\n      <td>160.0</td>\n      <td>160.0</td>\n      <td>160.0</td>\n      <td>160.0</td>\n      <td>319.0</td>\n      <td>319.0</td>\n      <td>319.0</td>\n      <td>319.0</td>\n      <td>319.0</td>\n      <td>319.0</td>\n      <td>319.0</td>\n      <td>319.0</td>\n      <td>478.0</td>\n      <td>478.0</td>\n      <td>478.0</td>\n      <td>478.0</td>\n      <td>478.0</td>\n      <td>478.0</td>\n      <td>478.0</td>\n      <td>478.0</td>\n      <td>637.0</td>\n      <td>637.0</td>\n      <td>637.0</td>\n      <td>637.0</td>\n      <td>637.0</td>\n      <td>637.0</td>\n      <td>637.0</td>\n      <td>637.0</td>\n    </tr>\n    <tr>\n      <th>22.2</th>\n      <td>15275.0</td>\n      <td>15275.0</td>\n      <td>15275.0</td>\n      <td>15275.0</td>\n      <td>15275.0</td>\n      <td>15275.0</td>\n      <td>15275.0</td>\n      <td>15275.0</td>\n      <td>319.270638</td>\n      <td>319.270638</td>\n      <td>319.270638</td>\n      <td>319.270638</td>\n      <td>319.270638</td>\n      <td>319.270638</td>\n      <td>319.270638</td>\n      <td>319.270638</td>\n      <td>183.73582</td>\n      <td>183.73582</td>\n      <td>183.73582</td>\n      <td>183.73582</td>\n      <td>183.73582</td>\n      <td>183.73582</td>\n      <td>183.73582</td>\n      <td>183.73582</td>\n      <td>1.0</td>\n      <td>1.0</td>\n      <td>1.0</td>\n      <td>1.0</td>\n      <td>1.0</td>\n      <td>1.0</td>\n      <td>1.0</td>\n      <td>1.0</td>\n      <td>160.0</td>\n      <td>160.0</td>\n      <td>160.0</td>\n      <td>160.0</td>\n      <td>160.0</td>\n      <td>160.0</td>\n      <td>160.0</td>\n      <td>160.0</td>\n      <td>319.0</td>\n      <td>319.0</td>\n      <td>319.0</td>\n      <td>319.0</td>\n      <td>319.0</td>\n      <td>319.0</td>\n      <td>319.0</td>\n      <td>319.0</td>\n      <td>478.0</td>\n      <td>478.0</td>\n      <td>478.0</td>\n      <td>478.0</td>\n      <td>478.0</td>\n      <td>478.0</td>\n      <td>478.0</td>\n      <td>478.0</td>\n      <td>637.0</td>\n      <td>637.0</td>\n      <td>637.0</td>\n      <td>637.0</td>\n      <td>637.0</td>\n      <td>637.0</td>\n      <td>637.0</td>\n      <td>637.0</td>\n    </tr>\n    <tr>\n      <th>22.7</th>\n      <td>15275.0</td>\n      <td>15275.0</td>\n      <td>15275.0</td>\n      <td>15275.0</td>\n      <td>15275.0</td>\n      <td>15275.0</td>\n      <td>15275.0</td>\n      <td>15275.0</td>\n      <td>319.270638</td>\n      <td>319.270638</td>\n      <td>319.270638</td>\n      <td>319.270638</td>\n      <td>319.270638</td>\n      <td>319.270638</td>\n      <td>319.270638</td>\n      <td>319.270638</td>\n      <td>183.73582</td>\n      <td>183.73582</td>\n      <td>183.73582</td>\n      <td>183.73582</td>\n      <td>183.73582</td>\n      <td>183.73582</td>\n      <td>183.73582</td>\n      <td>183.73582</td>\n      <td>1.0</td>\n      <td>1.0</td>\n      <td>1.0</td>\n      <td>1.0</td>\n      <td>1.0</td>\n      <td>1.0</td>\n      <td>1.0</td>\n      <td>1.0</td>\n      <td>160.0</td>\n      <td>160.0</td>\n      <td>160.0</td>\n      <td>160.0</td>\n      <td>160.0</td>\n      <td>160.0</td>\n      <td>160.0</td>\n      <td>160.0</td>\n      <td>319.0</td>\n      <td>319.0</td>\n      <td>319.0</td>\n      <td>319.0</td>\n      <td>319.0</td>\n      <td>319.0</td>\n      <td>319.0</td>\n      <td>319.0</td>\n      <td>478.0</td>\n      <td>478.0</td>\n      <td>478.0</td>\n      <td>478.0</td>\n      <td>478.0</td>\n      <td>478.0</td>\n      <td>478.0</td>\n      <td>478.0</td>\n      <td>637.0</td>\n      <td>637.0</td>\n      <td>637.0</td>\n      <td>637.0</td>\n      <td>637.0</td>\n      <td>637.0</td>\n      <td>637.0</td>\n      <td>637.0</td>\n    </tr>\n    <tr>\n      <th>23.2</th>\n      <td>15275.0</td>\n      <td>15275.0</td>\n      <td>15275.0</td>\n      <td>15275.0</td>\n      <td>15275.0</td>\n      <td>15275.0</td>\n      <td>15275.0</td>\n      <td>15275.0</td>\n      <td>319.270638</td>\n      <td>319.270638</td>\n      <td>319.270638</td>\n      <td>319.270638</td>\n      <td>319.270638</td>\n      <td>319.270638</td>\n      <td>319.270638</td>\n      <td>319.270638</td>\n      <td>183.73582</td>\n      <td>183.73582</td>\n      <td>183.73582</td>\n      <td>183.73582</td>\n      <td>183.73582</td>\n      <td>183.73582</td>\n      <td>183.73582</td>\n      <td>183.73582</td>\n      <td>1.0</td>\n      <td>1.0</td>\n      <td>1.0</td>\n      <td>1.0</td>\n      <td>1.0</td>\n      <td>1.0</td>\n      <td>1.0</td>\n      <td>1.0</td>\n      <td>160.0</td>\n      <td>160.0</td>\n      <td>160.0</td>\n      <td>160.0</td>\n      <td>160.0</td>\n      <td>160.0</td>\n      <td>160.0</td>\n      <td>160.0</td>\n      <td>319.0</td>\n      <td>319.0</td>\n      <td>319.0</td>\n      <td>319.0</td>\n      <td>319.0</td>\n      <td>319.0</td>\n      <td>319.0</td>\n      <td>319.0</td>\n      <td>478.0</td>\n      <td>478.0</td>\n      <td>478.0</td>\n      <td>478.0</td>\n      <td>478.0</td>\n      <td>478.0</td>\n      <td>478.0</td>\n      <td>478.0</td>\n      <td>637.0</td>\n      <td>637.0</td>\n      <td>637.0</td>\n      <td>637.0</td>\n      <td>637.0</td>\n      <td>637.0</td>\n      <td>637.0</td>\n      <td>637.0</td>\n    </tr>\n    <tr>\n      <th>23.7</th>\n      <td>15275.0</td>\n      <td>15275.0</td>\n      <td>15275.0</td>\n      <td>15275.0</td>\n      <td>15275.0</td>\n      <td>15275.0</td>\n      <td>15275.0</td>\n      <td>15275.0</td>\n      <td>319.270638</td>\n      <td>319.270638</td>\n      <td>319.270638</td>\n      <td>319.270638</td>\n      <td>319.270638</td>\n      <td>319.270638</td>\n      <td>319.270638</td>\n      <td>319.270638</td>\n      <td>183.73582</td>\n      <td>183.73582</td>\n      <td>183.73582</td>\n      <td>183.73582</td>\n      <td>183.73582</td>\n      <td>183.73582</td>\n      <td>183.73582</td>\n      <td>183.73582</td>\n      <td>1.0</td>\n      <td>1.0</td>\n      <td>1.0</td>\n      <td>1.0</td>\n      <td>1.0</td>\n      <td>1.0</td>\n      <td>1.0</td>\n      <td>1.0</td>\n      <td>160.0</td>\n      <td>160.0</td>\n      <td>160.0</td>\n      <td>160.0</td>\n      <td>160.0</td>\n      <td>160.0</td>\n      <td>160.0</td>\n      <td>160.0</td>\n      <td>319.0</td>\n      <td>319.0</td>\n      <td>319.0</td>\n      <td>319.0</td>\n      <td>319.0</td>\n      <td>319.0</td>\n      <td>319.0</td>\n      <td>319.0</td>\n      <td>478.0</td>\n      <td>478.0</td>\n      <td>478.0</td>\n      <td>478.0</td>\n      <td>478.0</td>\n      <td>478.0</td>\n      <td>478.0</td>\n      <td>478.0</td>\n      <td>637.0</td>\n      <td>637.0</td>\n      <td>637.0</td>\n      <td>637.0</td>\n      <td>637.0</td>\n      <td>637.0</td>\n      <td>637.0</td>\n      <td>637.0</td>\n    </tr>\n    <tr>\n      <th>24.2</th>\n      <td>15275.0</td>\n      <td>15275.0</td>\n      <td>15275.0</td>\n      <td>15275.0</td>\n      <td>15275.0</td>\n      <td>15275.0</td>\n      <td>15275.0</td>\n      <td>15275.0</td>\n      <td>319.270638</td>\n      <td>319.270638</td>\n      <td>319.270638</td>\n      <td>319.270638</td>\n      <td>319.270638</td>\n      <td>319.270638</td>\n      <td>319.270638</td>\n      <td>319.270638</td>\n      <td>183.73582</td>\n      <td>183.73582</td>\n      <td>183.73582</td>\n      <td>183.73582</td>\n      <td>183.73582</td>\n      <td>183.73582</td>\n      <td>183.73582</td>\n      <td>183.73582</td>\n      <td>1.0</td>\n      <td>1.0</td>\n      <td>1.0</td>\n      <td>1.0</td>\n      <td>1.0</td>\n      <td>1.0</td>\n      <td>1.0</td>\n      <td>1.0</td>\n      <td>160.0</td>\n      <td>160.0</td>\n      <td>160.0</td>\n      <td>160.0</td>\n      <td>160.0</td>\n      <td>160.0</td>\n      <td>160.0</td>\n      <td>160.0</td>\n      <td>319.0</td>\n      <td>319.0</td>\n      <td>319.0</td>\n      <td>319.0</td>\n      <td>319.0</td>\n      <td>319.0</td>\n      <td>319.0</td>\n      <td>319.0</td>\n      <td>478.0</td>\n      <td>478.0</td>\n      <td>478.0</td>\n      <td>478.0</td>\n      <td>478.0</td>\n      <td>478.0</td>\n      <td>478.0</td>\n      <td>478.0</td>\n      <td>637.0</td>\n      <td>637.0</td>\n      <td>637.0</td>\n      <td>637.0</td>\n      <td>637.0</td>\n      <td>637.0</td>\n      <td>637.0</td>\n      <td>637.0</td>\n    </tr>\n    <tr>\n      <th>24.7</th>\n      <td>15275.0</td>\n      <td>15275.0</td>\n      <td>15275.0</td>\n      <td>15275.0</td>\n      <td>15275.0</td>\n      <td>15275.0</td>\n      <td>15275.0</td>\n      <td>15275.0</td>\n      <td>319.270638</td>\n      <td>319.270638</td>\n      <td>319.270638</td>\n      <td>319.270638</td>\n      <td>319.270638</td>\n      <td>319.270638</td>\n      <td>319.270638</td>\n      <td>319.270638</td>\n      <td>183.73582</td>\n      <td>183.73582</td>\n      <td>183.73582</td>\n      <td>183.73582</td>\n      <td>183.73582</td>\n      <td>183.73582</td>\n      <td>183.73582</td>\n      <td>183.73582</td>\n      <td>1.0</td>\n      <td>1.0</td>\n      <td>1.0</td>\n      <td>1.0</td>\n      <td>1.0</td>\n      <td>1.0</td>\n      <td>1.0</td>\n      <td>1.0</td>\n      <td>160.0</td>\n      <td>160.0</td>\n      <td>160.0</td>\n      <td>160.0</td>\n      <td>160.0</td>\n      <td>160.0</td>\n      <td>160.0</td>\n      <td>160.0</td>\n      <td>319.0</td>\n      <td>319.0</td>\n      <td>319.0</td>\n      <td>319.0</td>\n      <td>319.0</td>\n      <td>319.0</td>\n      <td>319.0</td>\n      <td>319.0</td>\n      <td>478.0</td>\n      <td>478.0</td>\n      <td>478.0</td>\n      <td>478.0</td>\n      <td>478.0</td>\n      <td>478.0</td>\n      <td>478.0</td>\n      <td>478.0</td>\n      <td>637.0</td>\n      <td>637.0</td>\n      <td>637.0</td>\n      <td>637.0</td>\n      <td>637.0</td>\n      <td>637.0</td>\n      <td>637.0</td>\n      <td>637.0</td>\n    </tr>\n    <tr>\n      <th>25.2</th>\n      <td>15275.0</td>\n      <td>15275.0</td>\n      <td>15275.0</td>\n      <td>15275.0</td>\n      <td>15275.0</td>\n      <td>15275.0</td>\n      <td>15275.0</td>\n      <td>15275.0</td>\n      <td>319.270638</td>\n      <td>319.270638</td>\n      <td>319.270638</td>\n      <td>319.270638</td>\n      <td>319.270638</td>\n      <td>319.270638</td>\n      <td>319.270638</td>\n      <td>319.270638</td>\n      <td>183.73582</td>\n      <td>183.73582</td>\n      <td>183.73582</td>\n      <td>183.73582</td>\n      <td>183.73582</td>\n      <td>183.73582</td>\n      <td>183.73582</td>\n      <td>183.73582</td>\n      <td>1.0</td>\n      <td>1.0</td>\n      <td>1.0</td>\n      <td>1.0</td>\n      <td>1.0</td>\n      <td>1.0</td>\n      <td>1.0</td>\n      <td>1.0</td>\n      <td>160.0</td>\n      <td>160.0</td>\n      <td>160.0</td>\n      <td>160.0</td>\n      <td>160.0</td>\n      <td>160.0</td>\n      <td>160.0</td>\n      <td>160.0</td>\n      <td>319.0</td>\n      <td>319.0</td>\n      <td>319.0</td>\n      <td>319.0</td>\n      <td>319.0</td>\n      <td>319.0</td>\n      <td>319.0</td>\n      <td>319.0</td>\n      <td>478.0</td>\n      <td>478.0</td>\n      <td>478.0</td>\n      <td>478.0</td>\n      <td>478.0</td>\n      <td>478.0</td>\n      <td>478.0</td>\n      <td>478.0</td>\n      <td>637.0</td>\n      <td>637.0</td>\n      <td>637.0</td>\n      <td>637.0</td>\n      <td>637.0</td>\n      <td>637.0</td>\n      <td>637.0</td>\n      <td>637.0</td>\n    </tr>\n    <tr>\n      <th>25.7</th>\n      <td>15275.0</td>\n      <td>15275.0</td>\n      <td>15275.0</td>\n      <td>15275.0</td>\n      <td>15275.0</td>\n      <td>15275.0</td>\n      <td>15275.0</td>\n      <td>15275.0</td>\n      <td>319.270638</td>\n      <td>319.270638</td>\n      <td>319.270638</td>\n      <td>319.270638</td>\n      <td>319.270638</td>\n      <td>319.270638</td>\n      <td>319.270638</td>\n      <td>319.270638</td>\n      <td>183.73582</td>\n      <td>183.73582</td>\n      <td>183.73582</td>\n      <td>183.73582</td>\n      <td>183.73582</td>\n      <td>183.73582</td>\n      <td>183.73582</td>\n      <td>183.73582</td>\n      <td>1.0</td>\n      <td>1.0</td>\n      <td>1.0</td>\n      <td>1.0</td>\n      <td>1.0</td>\n      <td>1.0</td>\n      <td>1.0</td>\n      <td>1.0</td>\n      <td>160.0</td>\n      <td>160.0</td>\n      <td>160.0</td>\n      <td>160.0</td>\n      <td>160.0</td>\n      <td>160.0</td>\n      <td>160.0</td>\n      <td>160.0</td>\n      <td>319.0</td>\n      <td>319.0</td>\n      <td>319.0</td>\n      <td>319.0</td>\n      <td>319.0</td>\n      <td>319.0</td>\n      <td>319.0</td>\n      <td>319.0</td>\n      <td>478.0</td>\n      <td>478.0</td>\n      <td>478.0</td>\n      <td>478.0</td>\n      <td>478.0</td>\n      <td>478.0</td>\n      <td>478.0</td>\n      <td>478.0</td>\n      <td>637.0</td>\n      <td>637.0</td>\n      <td>637.0</td>\n      <td>637.0</td>\n      <td>637.0</td>\n      <td>637.0</td>\n      <td>637.0</td>\n      <td>637.0</td>\n    </tr>\n    <tr>\n      <th>26.2</th>\n      <td>15275.0</td>\n      <td>15275.0</td>\n      <td>15275.0</td>\n      <td>15275.0</td>\n      <td>15275.0</td>\n      <td>15275.0</td>\n      <td>15275.0</td>\n      <td>15275.0</td>\n      <td>319.270638</td>\n      <td>319.270638</td>\n      <td>319.270638</td>\n      <td>319.270638</td>\n      <td>319.270638</td>\n      <td>319.270638</td>\n      <td>319.270638</td>\n      <td>319.270638</td>\n      <td>183.73582</td>\n      <td>183.73582</td>\n      <td>183.73582</td>\n      <td>183.73582</td>\n      <td>183.73582</td>\n      <td>183.73582</td>\n      <td>183.73582</td>\n      <td>183.73582</td>\n      <td>1.0</td>\n      <td>1.0</td>\n      <td>1.0</td>\n      <td>1.0</td>\n      <td>1.0</td>\n      <td>1.0</td>\n      <td>1.0</td>\n      <td>1.0</td>\n      <td>160.0</td>\n      <td>160.0</td>\n      <td>160.0</td>\n      <td>160.0</td>\n      <td>160.0</td>\n      <td>160.0</td>\n      <td>160.0</td>\n      <td>160.0</td>\n      <td>319.0</td>\n      <td>319.0</td>\n      <td>319.0</td>\n      <td>319.0</td>\n      <td>319.0</td>\n      <td>319.0</td>\n      <td>319.0</td>\n      <td>319.0</td>\n      <td>478.0</td>\n      <td>478.0</td>\n      <td>478.0</td>\n      <td>478.0</td>\n      <td>478.0</td>\n      <td>478.0</td>\n      <td>478.0</td>\n      <td>478.0</td>\n      <td>637.0</td>\n      <td>637.0</td>\n      <td>637.0</td>\n      <td>637.0</td>\n      <td>637.0</td>\n      <td>637.0</td>\n      <td>637.0</td>\n      <td>637.0</td>\n    </tr>\n    <tr>\n      <th>26.7</th>\n      <td>15275.0</td>\n      <td>15275.0</td>\n      <td>15275.0</td>\n      <td>15275.0</td>\n      <td>15275.0</td>\n      <td>15275.0</td>\n      <td>15275.0</td>\n      <td>15275.0</td>\n      <td>319.270638</td>\n      <td>319.270638</td>\n      <td>319.270638</td>\n      <td>319.270638</td>\n      <td>319.270638</td>\n      <td>319.270638</td>\n      <td>319.270638</td>\n      <td>319.270638</td>\n      <td>183.73582</td>\n      <td>183.73582</td>\n      <td>183.73582</td>\n      <td>183.73582</td>\n      <td>183.73582</td>\n      <td>183.73582</td>\n      <td>183.73582</td>\n      <td>183.73582</td>\n      <td>1.0</td>\n      <td>1.0</td>\n      <td>1.0</td>\n      <td>1.0</td>\n      <td>1.0</td>\n      <td>1.0</td>\n      <td>1.0</td>\n      <td>1.0</td>\n      <td>160.0</td>\n      <td>160.0</td>\n      <td>160.0</td>\n      <td>160.0</td>\n      <td>160.0</td>\n      <td>160.0</td>\n      <td>160.0</td>\n      <td>160.0</td>\n      <td>319.0</td>\n      <td>319.0</td>\n      <td>319.0</td>\n      <td>319.0</td>\n      <td>319.0</td>\n      <td>319.0</td>\n      <td>319.0</td>\n      <td>319.0</td>\n      <td>478.0</td>\n      <td>478.0</td>\n      <td>478.0</td>\n      <td>478.0</td>\n      <td>478.0</td>\n      <td>478.0</td>\n      <td>478.0</td>\n      <td>478.0</td>\n      <td>637.0</td>\n      <td>637.0</td>\n      <td>637.0</td>\n      <td>637.0</td>\n      <td>637.0</td>\n      <td>637.0</td>\n      <td>637.0</td>\n      <td>637.0</td>\n    </tr>\n    <tr>\n      <th>27.2</th>\n      <td>15275.0</td>\n      <td>15275.0</td>\n      <td>15275.0</td>\n      <td>15275.0</td>\n      <td>15275.0</td>\n      <td>15275.0</td>\n      <td>15275.0</td>\n      <td>15275.0</td>\n      <td>319.270638</td>\n      <td>319.270638</td>\n      <td>319.270638</td>\n      <td>319.270638</td>\n      <td>319.270638</td>\n      <td>319.270638</td>\n      <td>319.270638</td>\n      <td>319.270638</td>\n      <td>183.73582</td>\n      <td>183.73582</td>\n      <td>183.73582</td>\n      <td>183.73582</td>\n      <td>183.73582</td>\n      <td>183.73582</td>\n      <td>183.73582</td>\n      <td>183.73582</td>\n      <td>1.0</td>\n      <td>1.0</td>\n      <td>1.0</td>\n      <td>1.0</td>\n      <td>1.0</td>\n      <td>1.0</td>\n      <td>1.0</td>\n      <td>1.0</td>\n      <td>160.0</td>\n      <td>160.0</td>\n      <td>160.0</td>\n      <td>160.0</td>\n      <td>160.0</td>\n      <td>160.0</td>\n      <td>160.0</td>\n      <td>160.0</td>\n      <td>319.0</td>\n      <td>319.0</td>\n      <td>319.0</td>\n      <td>319.0</td>\n      <td>319.0</td>\n      <td>319.0</td>\n      <td>319.0</td>\n      <td>319.0</td>\n      <td>478.0</td>\n      <td>478.0</td>\n      <td>478.0</td>\n      <td>478.0</td>\n      <td>478.0</td>\n      <td>478.0</td>\n      <td>478.0</td>\n      <td>478.0</td>\n      <td>637.0</td>\n      <td>637.0</td>\n      <td>637.0</td>\n      <td>637.0</td>\n      <td>637.0</td>\n      <td>637.0</td>\n      <td>637.0</td>\n      <td>637.0</td>\n    </tr>\n    <tr>\n      <th>27.7</th>\n      <td>15275.0</td>\n      <td>15275.0</td>\n      <td>15275.0</td>\n      <td>15275.0</td>\n      <td>15275.0</td>\n      <td>15275.0</td>\n      <td>15275.0</td>\n      <td>15275.0</td>\n      <td>319.270638</td>\n      <td>319.270638</td>\n      <td>319.270638</td>\n      <td>319.270638</td>\n      <td>319.270638</td>\n      <td>319.270638</td>\n      <td>319.270638</td>\n      <td>319.270638</td>\n      <td>183.73582</td>\n      <td>183.73582</td>\n      <td>183.73582</td>\n      <td>183.73582</td>\n      <td>183.73582</td>\n      <td>183.73582</td>\n      <td>183.73582</td>\n      <td>183.73582</td>\n      <td>1.0</td>\n      <td>1.0</td>\n      <td>1.0</td>\n      <td>1.0</td>\n      <td>1.0</td>\n      <td>1.0</td>\n      <td>1.0</td>\n      <td>1.0</td>\n      <td>160.0</td>\n      <td>160.0</td>\n      <td>160.0</td>\n      <td>160.0</td>\n      <td>160.0</td>\n      <td>160.0</td>\n      <td>160.0</td>\n      <td>160.0</td>\n      <td>319.0</td>\n      <td>319.0</td>\n      <td>319.0</td>\n      <td>319.0</td>\n      <td>319.0</td>\n      <td>319.0</td>\n      <td>319.0</td>\n      <td>319.0</td>\n      <td>478.0</td>\n      <td>478.0</td>\n      <td>478.0</td>\n      <td>478.0</td>\n      <td>478.0</td>\n      <td>478.0</td>\n      <td>478.0</td>\n      <td>478.0</td>\n      <td>637.0</td>\n      <td>637.0</td>\n      <td>637.0</td>\n      <td>637.0</td>\n      <td>637.0</td>\n      <td>637.0</td>\n      <td>637.0</td>\n      <td>637.0</td>\n    </tr>\n    <tr>\n      <th>28.2</th>\n      <td>15275.0</td>\n      <td>15275.0</td>\n      <td>15275.0</td>\n      <td>15275.0</td>\n      <td>15275.0</td>\n      <td>15275.0</td>\n      <td>15275.0</td>\n      <td>15275.0</td>\n      <td>319.270638</td>\n      <td>319.270638</td>\n      <td>319.270638</td>\n      <td>319.270638</td>\n      <td>319.270638</td>\n      <td>319.270638</td>\n      <td>319.270638</td>\n      <td>319.270638</td>\n      <td>183.73582</td>\n      <td>183.73582</td>\n      <td>183.73582</td>\n      <td>183.73582</td>\n      <td>183.73582</td>\n      <td>183.73582</td>\n      <td>183.73582</td>\n      <td>183.73582</td>\n      <td>1.0</td>\n      <td>1.0</td>\n      <td>1.0</td>\n      <td>1.0</td>\n      <td>1.0</td>\n      <td>1.0</td>\n      <td>1.0</td>\n      <td>1.0</td>\n      <td>160.0</td>\n      <td>160.0</td>\n      <td>160.0</td>\n      <td>160.0</td>\n      <td>160.0</td>\n      <td>160.0</td>\n      <td>160.0</td>\n      <td>160.0</td>\n      <td>319.0</td>\n      <td>319.0</td>\n      <td>319.0</td>\n      <td>319.0</td>\n      <td>319.0</td>\n      <td>319.0</td>\n      <td>319.0</td>\n      <td>319.0</td>\n      <td>478.0</td>\n      <td>478.0</td>\n      <td>478.0</td>\n      <td>478.0</td>\n      <td>478.0</td>\n      <td>478.0</td>\n      <td>478.0</td>\n      <td>478.0</td>\n      <td>637.0</td>\n      <td>637.0</td>\n      <td>637.0</td>\n      <td>637.0</td>\n      <td>637.0</td>\n      <td>637.0</td>\n      <td>637.0</td>\n      <td>637.0</td>\n    </tr>\n  </tbody>\n</table>\n</div>"
     },
     "execution_count": 69,
     "metadata": {},
     "output_type": "execute_result"
    }
   ],
   "execution_count": 69
  },
  {
   "cell_type": "code",
   "execution_count": 40,
   "outputs": [
    {
     "data": {
      "text/plain": "       latitude\ncount  57.6        14\n       57.9        14\n       58.2        14\n       58.5        14\n       58.8        14\n                   ..\nmax    58.5        11\n       58.8         8\n       59.1         9\n       59.4         8\n       59.7         0\nLength: 64, dtype: int64"
     },
     "execution_count": 40,
     "metadata": {},
     "output_type": "execute_result"
    }
   ],
   "source": [
    "weather_to_county.groupby(by=[\"longitude\",\"latitude\"])[\"county\"].describe().unstack().count()"
   ],
   "metadata": {
    "collapsed": false,
    "ExecuteTime": {
     "end_time": "2023-12-05T04:30:05.575019900Z",
     "start_time": "2023-12-05T04:30:05.193386300Z"
    }
   }
  },
  {
   "cell_type": "code",
   "execution_count": 41,
   "outputs": [
    {
     "data": {
      "text/plain": "    county  longitude  latitude\n0        0        242       591\n1        0        252       591\n2        0        237       594\n3        0        242       594\n4        0        247       594\n..     ...        ...       ...\n70      15        267       576\n71      15        272       576\n72      15        267       579\n73      15        272       579\n74      15        277       579\n\n[75 rows x 3 columns]",
      "text/html": "<div>\n<style scoped>\n    .dataframe tbody tr th:only-of-type {\n        vertical-align: middle;\n    }\n\n    .dataframe tbody tr th {\n        vertical-align: top;\n    }\n\n    .dataframe thead th {\n        text-align: right;\n    }\n</style>\n<table border=\"1\" class=\"dataframe\">\n  <thead>\n    <tr style=\"text-align: right;\">\n      <th></th>\n      <th>county</th>\n      <th>longitude</th>\n      <th>latitude</th>\n    </tr>\n  </thead>\n  <tbody>\n    <tr>\n      <th>0</th>\n      <td>0</td>\n      <td>242</td>\n      <td>591</td>\n    </tr>\n    <tr>\n      <th>1</th>\n      <td>0</td>\n      <td>252</td>\n      <td>591</td>\n    </tr>\n    <tr>\n      <th>2</th>\n      <td>0</td>\n      <td>237</td>\n      <td>594</td>\n    </tr>\n    <tr>\n      <th>3</th>\n      <td>0</td>\n      <td>242</td>\n      <td>594</td>\n    </tr>\n    <tr>\n      <th>4</th>\n      <td>0</td>\n      <td>247</td>\n      <td>594</td>\n    </tr>\n    <tr>\n      <th>...</th>\n      <td>...</td>\n      <td>...</td>\n      <td>...</td>\n    </tr>\n    <tr>\n      <th>70</th>\n      <td>15</td>\n      <td>267</td>\n      <td>576</td>\n    </tr>\n    <tr>\n      <th>71</th>\n      <td>15</td>\n      <td>272</td>\n      <td>576</td>\n    </tr>\n    <tr>\n      <th>72</th>\n      <td>15</td>\n      <td>267</td>\n      <td>579</td>\n    </tr>\n    <tr>\n      <th>73</th>\n      <td>15</td>\n      <td>272</td>\n      <td>579</td>\n    </tr>\n    <tr>\n      <th>74</th>\n      <td>15</td>\n      <td>277</td>\n      <td>579</td>\n    </tr>\n  </tbody>\n</table>\n<p>75 rows × 3 columns</p>\n</div>"
     },
     "execution_count": 41,
     "metadata": {},
     "output_type": "execute_result"
    }
   ],
   "source": [
    "location = pd.read_csv(\"../data/county_lon_lats.csv\").drop(columns = [\"Unnamed: 0\"])\n",
    "\n",
    "# Convert to int to avoid float imprecision\n",
    "for k in ['latitude', 'longitude'] :\n",
    "    location[k] = (10*location[k]).astype(int)\n",
    "\n",
    "location"
   ],
   "metadata": {
    "collapsed": false,
    "ExecuteTime": {
     "end_time": "2023-12-05T04:30:05.575019900Z",
     "start_time": "2023-12-05T04:30:05.281725700Z"
    }
   }
  },
  {
   "cell_type": "code",
   "execution_count": 42,
   "outputs": [],
   "source": [
    "def process_weather_info(h, location=location) :\n",
    "\n",
    "    # Drop duplicates\n",
    "    h = h.drop_duplicates().reset_index(drop=True)\n",
    "\n",
    "    # Convert to int to avoid float imprecision\n",
    "    for k in ['latitude', 'longitude'] :\n",
    "        h[k] = (10*h[k]).astype(int)\n",
    "\n",
    "    # Add location\n",
    "    h = pd.merge(h, location, how='left', on=['latitude', 'longitude'])\n",
    "\n",
    "    # Fill NaN and force int\n",
    "    h['county'] = h['county'].fillna(-1).astype(int)\n",
    "\n",
    "    # Return\n",
    "    return h"
   ],
   "metadata": {
    "collapsed": false,
    "ExecuteTime": {
     "end_time": "2023-12-05T04:30:05.575019900Z",
     "start_time": "2023-12-05T04:30:05.301087500Z"
    }
   }
  },
  {
   "cell_type": "code",
   "execution_count": 43,
   "outputs": [
    {
     "data": {
      "text/plain": "                   datetime  temperature  dewpoint  rain  snowfall  \\\n0       2021-09-01 00:00:00         14.4      12.0   0.0       0.0   \n1       2021-09-01 00:00:00         14.0      12.0   0.0       0.0   \n2       2021-09-01 00:00:00         14.4      12.8   0.0       0.0   \n3       2021-09-01 00:00:00         15.4      13.0   0.0       0.0   \n4       2021-09-01 00:00:00         15.9      12.6   0.0       0.0   \n...                     ...          ...       ...   ...       ...   \n1710795 2023-05-30 10:00:00         10.8       4.1   0.4       0.0   \n1710796 2023-05-30 10:00:00         11.4       2.9   0.3       0.0   \n1710797 2023-05-30 10:00:00          9.5       3.2   0.1       0.0   \n1710798 2023-05-30 10:00:00         11.0       1.6   0.0       0.0   \n1710799 2023-05-30 10:00:00         11.5       1.3   0.0       0.0   \n\n         surface_pressure  cloudcover_total  cloudcover_low  cloudcover_mid  \\\n0                  1015.8                 4               4               0   \n1                  1010.6                 7               8               0   \n2                  1014.9                 6               7               0   \n3                  1014.4                 4               2               4   \n4                  1013.8                12               7               0   \n...                   ...               ...             ...             ...   \n1710795            1018.7                40               0              67   \n1710796            1018.8                41               0              69   \n1710797            1018.9                47               0              79   \n1710798            1018.6                31               0              52   \n1710799            1015.8                25               0              42   \n\n         cloudcover_high  windspeed_10m  winddirection_10m  \\\n0                      0       6.694444                  3   \n1                      0       4.944444                353   \n2                      0       5.833333                348   \n3                      0       7.111111                349   \n4                     20       8.388889                360   \n...                  ...            ...                ...   \n1710795                0       1.333333                283   \n1710796                0       1.527778                302   \n1710797                0       3.416667                302   \n1710798                0       3.472222                309   \n1710799                0       3.166667                305   \n\n         shortwave_radiation  direct_solar_radiation  diffuse_radiation  \\\n0                        0.0                     0.0                0.0   \n1                        0.0                     0.0                0.0   \n2                        0.0                     0.0                0.0   \n3                        0.0                     0.0                0.0   \n4                        0.0                     0.0                0.0   \n...                      ...                     ...                ...   \n1710795                440.0                   264.0              176.0   \n1710796                453.0                   283.0              170.0   \n1710797                477.0                   312.0              165.0   \n1710798                535.0                   400.0              135.0   \n1710799                550.0                   420.0              130.0   \n\n         latitude  longitude  data_block_id  year  month  day  hour  county  \n0             576        217              1  2021      9    1     0      -1  \n1             576        222              1  2021      9    1     0      -1  \n2             576        227              1  2021      9    1     0      -1  \n3             576        232              1  2021      9    1     0      10  \n4             576        237              1  2021      9    1     0      -1  \n...           ...        ...            ...   ...    ...  ...   ...     ...  \n1710795       597        262            637  2023      5   30    10       5  \n1710796       597        267            637  2023      5   30    10       5  \n1710797       597        272            637  2023      5   30    10      -1  \n1710798       597        277            637  2023      5   30    10      -1  \n1710799       597        282            637  2023      5   30    10      -1  \n\n[1710800 rows x 23 columns]",
      "text/html": "<div>\n<style scoped>\n    .dataframe tbody tr th:only-of-type {\n        vertical-align: middle;\n    }\n\n    .dataframe tbody tr th {\n        vertical-align: top;\n    }\n\n    .dataframe thead th {\n        text-align: right;\n    }\n</style>\n<table border=\"1\" class=\"dataframe\">\n  <thead>\n    <tr style=\"text-align: right;\">\n      <th></th>\n      <th>datetime</th>\n      <th>temperature</th>\n      <th>dewpoint</th>\n      <th>rain</th>\n      <th>snowfall</th>\n      <th>surface_pressure</th>\n      <th>cloudcover_total</th>\n      <th>cloudcover_low</th>\n      <th>cloudcover_mid</th>\n      <th>cloudcover_high</th>\n      <th>windspeed_10m</th>\n      <th>winddirection_10m</th>\n      <th>shortwave_radiation</th>\n      <th>direct_solar_radiation</th>\n      <th>diffuse_radiation</th>\n      <th>latitude</th>\n      <th>longitude</th>\n      <th>data_block_id</th>\n      <th>year</th>\n      <th>month</th>\n      <th>day</th>\n      <th>hour</th>\n      <th>county</th>\n    </tr>\n  </thead>\n  <tbody>\n    <tr>\n      <th>0</th>\n      <td>2021-09-01 00:00:00</td>\n      <td>14.4</td>\n      <td>12.0</td>\n      <td>0.0</td>\n      <td>0.0</td>\n      <td>1015.8</td>\n      <td>4</td>\n      <td>4</td>\n      <td>0</td>\n      <td>0</td>\n      <td>6.694444</td>\n      <td>3</td>\n      <td>0.0</td>\n      <td>0.0</td>\n      <td>0.0</td>\n      <td>576</td>\n      <td>217</td>\n      <td>1</td>\n      <td>2021</td>\n      <td>9</td>\n      <td>1</td>\n      <td>0</td>\n      <td>-1</td>\n    </tr>\n    <tr>\n      <th>1</th>\n      <td>2021-09-01 00:00:00</td>\n      <td>14.0</td>\n      <td>12.0</td>\n      <td>0.0</td>\n      <td>0.0</td>\n      <td>1010.6</td>\n      <td>7</td>\n      <td>8</td>\n      <td>0</td>\n      <td>0</td>\n      <td>4.944444</td>\n      <td>353</td>\n      <td>0.0</td>\n      <td>0.0</td>\n      <td>0.0</td>\n      <td>576</td>\n      <td>222</td>\n      <td>1</td>\n      <td>2021</td>\n      <td>9</td>\n      <td>1</td>\n      <td>0</td>\n      <td>-1</td>\n    </tr>\n    <tr>\n      <th>2</th>\n      <td>2021-09-01 00:00:00</td>\n      <td>14.4</td>\n      <td>12.8</td>\n      <td>0.0</td>\n      <td>0.0</td>\n      <td>1014.9</td>\n      <td>6</td>\n      <td>7</td>\n      <td>0</td>\n      <td>0</td>\n      <td>5.833333</td>\n      <td>348</td>\n      <td>0.0</td>\n      <td>0.0</td>\n      <td>0.0</td>\n      <td>576</td>\n      <td>227</td>\n      <td>1</td>\n      <td>2021</td>\n      <td>9</td>\n      <td>1</td>\n      <td>0</td>\n      <td>-1</td>\n    </tr>\n    <tr>\n      <th>3</th>\n      <td>2021-09-01 00:00:00</td>\n      <td>15.4</td>\n      <td>13.0</td>\n      <td>0.0</td>\n      <td>0.0</td>\n      <td>1014.4</td>\n      <td>4</td>\n      <td>2</td>\n      <td>4</td>\n      <td>0</td>\n      <td>7.111111</td>\n      <td>349</td>\n      <td>0.0</td>\n      <td>0.0</td>\n      <td>0.0</td>\n      <td>576</td>\n      <td>232</td>\n      <td>1</td>\n      <td>2021</td>\n      <td>9</td>\n      <td>1</td>\n      <td>0</td>\n      <td>10</td>\n    </tr>\n    <tr>\n      <th>4</th>\n      <td>2021-09-01 00:00:00</td>\n      <td>15.9</td>\n      <td>12.6</td>\n      <td>0.0</td>\n      <td>0.0</td>\n      <td>1013.8</td>\n      <td>12</td>\n      <td>7</td>\n      <td>0</td>\n      <td>20</td>\n      <td>8.388889</td>\n      <td>360</td>\n      <td>0.0</td>\n      <td>0.0</td>\n      <td>0.0</td>\n      <td>576</td>\n      <td>237</td>\n      <td>1</td>\n      <td>2021</td>\n      <td>9</td>\n      <td>1</td>\n      <td>0</td>\n      <td>-1</td>\n    </tr>\n    <tr>\n      <th>...</th>\n      <td>...</td>\n      <td>...</td>\n      <td>...</td>\n      <td>...</td>\n      <td>...</td>\n      <td>...</td>\n      <td>...</td>\n      <td>...</td>\n      <td>...</td>\n      <td>...</td>\n      <td>...</td>\n      <td>...</td>\n      <td>...</td>\n      <td>...</td>\n      <td>...</td>\n      <td>...</td>\n      <td>...</td>\n      <td>...</td>\n      <td>...</td>\n      <td>...</td>\n      <td>...</td>\n      <td>...</td>\n      <td>...</td>\n    </tr>\n    <tr>\n      <th>1710795</th>\n      <td>2023-05-30 10:00:00</td>\n      <td>10.8</td>\n      <td>4.1</td>\n      <td>0.4</td>\n      <td>0.0</td>\n      <td>1018.7</td>\n      <td>40</td>\n      <td>0</td>\n      <td>67</td>\n      <td>0</td>\n      <td>1.333333</td>\n      <td>283</td>\n      <td>440.0</td>\n      <td>264.0</td>\n      <td>176.0</td>\n      <td>597</td>\n      <td>262</td>\n      <td>637</td>\n      <td>2023</td>\n      <td>5</td>\n      <td>30</td>\n      <td>10</td>\n      <td>5</td>\n    </tr>\n    <tr>\n      <th>1710796</th>\n      <td>2023-05-30 10:00:00</td>\n      <td>11.4</td>\n      <td>2.9</td>\n      <td>0.3</td>\n      <td>0.0</td>\n      <td>1018.8</td>\n      <td>41</td>\n      <td>0</td>\n      <td>69</td>\n      <td>0</td>\n      <td>1.527778</td>\n      <td>302</td>\n      <td>453.0</td>\n      <td>283.0</td>\n      <td>170.0</td>\n      <td>597</td>\n      <td>267</td>\n      <td>637</td>\n      <td>2023</td>\n      <td>5</td>\n      <td>30</td>\n      <td>10</td>\n      <td>5</td>\n    </tr>\n    <tr>\n      <th>1710797</th>\n      <td>2023-05-30 10:00:00</td>\n      <td>9.5</td>\n      <td>3.2</td>\n      <td>0.1</td>\n      <td>0.0</td>\n      <td>1018.9</td>\n      <td>47</td>\n      <td>0</td>\n      <td>79</td>\n      <td>0</td>\n      <td>3.416667</td>\n      <td>302</td>\n      <td>477.0</td>\n      <td>312.0</td>\n      <td>165.0</td>\n      <td>597</td>\n      <td>272</td>\n      <td>637</td>\n      <td>2023</td>\n      <td>5</td>\n      <td>30</td>\n      <td>10</td>\n      <td>-1</td>\n    </tr>\n    <tr>\n      <th>1710798</th>\n      <td>2023-05-30 10:00:00</td>\n      <td>11.0</td>\n      <td>1.6</td>\n      <td>0.0</td>\n      <td>0.0</td>\n      <td>1018.6</td>\n      <td>31</td>\n      <td>0</td>\n      <td>52</td>\n      <td>0</td>\n      <td>3.472222</td>\n      <td>309</td>\n      <td>535.0</td>\n      <td>400.0</td>\n      <td>135.0</td>\n      <td>597</td>\n      <td>277</td>\n      <td>637</td>\n      <td>2023</td>\n      <td>5</td>\n      <td>30</td>\n      <td>10</td>\n      <td>-1</td>\n    </tr>\n    <tr>\n      <th>1710799</th>\n      <td>2023-05-30 10:00:00</td>\n      <td>11.5</td>\n      <td>1.3</td>\n      <td>0.0</td>\n      <td>0.0</td>\n      <td>1015.8</td>\n      <td>25</td>\n      <td>0</td>\n      <td>42</td>\n      <td>0</td>\n      <td>3.166667</td>\n      <td>305</td>\n      <td>550.0</td>\n      <td>420.0</td>\n      <td>130.0</td>\n      <td>597</td>\n      <td>282</td>\n      <td>637</td>\n      <td>2023</td>\n      <td>5</td>\n      <td>30</td>\n      <td>10</td>\n      <td>-1</td>\n    </tr>\n  </tbody>\n</table>\n<p>1710800 rows × 23 columns</p>\n</div>"
     },
     "execution_count": 43,
     "metadata": {},
     "output_type": "execute_result"
    }
   ],
   "source": [
    "historical_weather = process_weather_info(historical_weather)\n",
    "historical_weather\n",
    "#成功将经纬度找到county"
   ],
   "metadata": {
    "collapsed": false,
    "ExecuteTime": {
     "end_time": "2023-12-05T04:30:06.604001100Z",
     "start_time": "2023-12-05T04:30:05.304146600Z"
    }
   }
  },
  {
   "cell_type": "markdown",
   "source": [
    "保存成新的csv，成功后就不运行了"
   ],
   "metadata": {
    "collapsed": false,
    "ExecuteTime": {
     "end_time": "2023-12-03T11:24:47.674919700Z",
     "start_time": "2023-12-03T11:24:46.360453800Z"
    }
   },
   "outputs": [
    {
     "data": {
      "text/plain": "                   datetime  temperature  dewpoint  rain  snowfall  \\\n0       2021-09-01 00:00:00         14.4      12.0   0.0       0.0   \n1       2021-09-01 00:00:00         14.0      12.0   0.0       0.0   \n2       2021-09-01 00:00:00         14.4      12.8   0.0       0.0   \n3       2021-09-01 00:00:00         15.4      13.0   0.0       0.0   \n4       2021-09-01 00:00:00         15.9      12.6   0.0       0.0   \n...                     ...          ...       ...   ...       ...   \n1710795 2023-05-30 10:00:00         10.8       4.1   0.4       0.0   \n1710796 2023-05-30 10:00:00         11.4       2.9   0.3       0.0   \n1710797 2023-05-30 10:00:00          9.5       3.2   0.1       0.0   \n1710798 2023-05-30 10:00:00         11.0       1.6   0.0       0.0   \n1710799 2023-05-30 10:00:00         11.5       1.3   0.0       0.0   \n\n         surface_pressure  cloudcover_total  cloudcover_low  cloudcover_mid  \\\n0                  1015.8                 4               4               0   \n1                  1010.6                 7               8               0   \n2                  1014.9                 6               7               0   \n3                  1014.4                 4               2               4   \n4                  1013.8                12               7               0   \n...                   ...               ...             ...             ...   \n1710795            1018.7                40               0              67   \n1710796            1018.8                41               0              69   \n1710797            1018.9                47               0              79   \n1710798            1018.6                31               0              52   \n1710799            1015.8                25               0              42   \n\n         cloudcover_high  windspeed_10m  winddirection_10m  \\\n0                      0       6.694444                  3   \n1                      0       4.944444                353   \n2                      0       5.833333                348   \n3                      0       7.111111                349   \n4                     20       8.388889                360   \n...                  ...            ...                ...   \n1710795                0       1.333333                283   \n1710796                0       1.527778                302   \n1710797                0       3.416667                302   \n1710798                0       3.472222                309   \n1710799                0       3.166667                305   \n\n         shortwave_radiation  direct_solar_radiation  diffuse_radiation  \\\n0                        0.0                     0.0                0.0   \n1                        0.0                     0.0                0.0   \n2                        0.0                     0.0                0.0   \n3                        0.0                     0.0                0.0   \n4                        0.0                     0.0                0.0   \n...                      ...                     ...                ...   \n1710795                440.0                   264.0              176.0   \n1710796                453.0                   283.0              170.0   \n1710797                477.0                   312.0              165.0   \n1710798                535.0                   400.0              135.0   \n1710799                550.0                   420.0              130.0   \n\n         latitude  longitude  data_block_id  year  month  day  hour  county  \n0             576        217              1  2021      9    1     0      -1  \n1             576        222              1  2021      9    1     0      -1  \n2             576        227              1  2021      9    1     0      -1  \n3             576        232              1  2021      9    1     0      10  \n4             576        237              1  2021      9    1     0      -1  \n...           ...        ...            ...   ...    ...  ...   ...     ...  \n1710795       597        262            637  2023      5   30    10       5  \n1710796       597        267            637  2023      5   30    10       5  \n1710797       597        272            637  2023      5   30    10      -1  \n1710798       597        277            637  2023      5   30    10      -1  \n1710799       597        282            637  2023      5   30    10      -1  \n\n[1710800 rows x 23 columns]",
      "text/html": "<div>\n<style scoped>\n    .dataframe tbody tr th:only-of-type {\n        vertical-align: middle;\n    }\n\n    .dataframe tbody tr th {\n        vertical-align: top;\n    }\n\n    .dataframe thead th {\n        text-align: right;\n    }\n</style>\n<table border=\"1\" class=\"dataframe\">\n  <thead>\n    <tr style=\"text-align: right;\">\n      <th></th>\n      <th>datetime</th>\n      <th>temperature</th>\n      <th>dewpoint</th>\n      <th>rain</th>\n      <th>snowfall</th>\n      <th>surface_pressure</th>\n      <th>cloudcover_total</th>\n      <th>cloudcover_low</th>\n      <th>cloudcover_mid</th>\n      <th>cloudcover_high</th>\n      <th>windspeed_10m</th>\n      <th>winddirection_10m</th>\n      <th>shortwave_radiation</th>\n      <th>direct_solar_radiation</th>\n      <th>diffuse_radiation</th>\n      <th>latitude</th>\n      <th>longitude</th>\n      <th>data_block_id</th>\n      <th>year</th>\n      <th>month</th>\n      <th>day</th>\n      <th>hour</th>\n      <th>county</th>\n    </tr>\n  </thead>\n  <tbody>\n    <tr>\n      <th>0</th>\n      <td>2021-09-01 00:00:00</td>\n      <td>14.4</td>\n      <td>12.0</td>\n      <td>0.0</td>\n      <td>0.0</td>\n      <td>1015.8</td>\n      <td>4</td>\n      <td>4</td>\n      <td>0</td>\n      <td>0</td>\n      <td>6.694444</td>\n      <td>3</td>\n      <td>0.0</td>\n      <td>0.0</td>\n      <td>0.0</td>\n      <td>576</td>\n      <td>217</td>\n      <td>1</td>\n      <td>2021</td>\n      <td>9</td>\n      <td>1</td>\n      <td>0</td>\n      <td>-1</td>\n    </tr>\n    <tr>\n      <th>1</th>\n      <td>2021-09-01 00:00:00</td>\n      <td>14.0</td>\n      <td>12.0</td>\n      <td>0.0</td>\n      <td>0.0</td>\n      <td>1010.6</td>\n      <td>7</td>\n      <td>8</td>\n      <td>0</td>\n      <td>0</td>\n      <td>4.944444</td>\n      <td>353</td>\n      <td>0.0</td>\n      <td>0.0</td>\n      <td>0.0</td>\n      <td>576</td>\n      <td>222</td>\n      <td>1</td>\n      <td>2021</td>\n      <td>9</td>\n      <td>1</td>\n      <td>0</td>\n      <td>-1</td>\n    </tr>\n    <tr>\n      <th>2</th>\n      <td>2021-09-01 00:00:00</td>\n      <td>14.4</td>\n      <td>12.8</td>\n      <td>0.0</td>\n      <td>0.0</td>\n      <td>1014.9</td>\n      <td>6</td>\n      <td>7</td>\n      <td>0</td>\n      <td>0</td>\n      <td>5.833333</td>\n      <td>348</td>\n      <td>0.0</td>\n      <td>0.0</td>\n      <td>0.0</td>\n      <td>576</td>\n      <td>227</td>\n      <td>1</td>\n      <td>2021</td>\n      <td>9</td>\n      <td>1</td>\n      <td>0</td>\n      <td>-1</td>\n    </tr>\n    <tr>\n      <th>3</th>\n      <td>2021-09-01 00:00:00</td>\n      <td>15.4</td>\n      <td>13.0</td>\n      <td>0.0</td>\n      <td>0.0</td>\n      <td>1014.4</td>\n      <td>4</td>\n      <td>2</td>\n      <td>4</td>\n      <td>0</td>\n      <td>7.111111</td>\n      <td>349</td>\n      <td>0.0</td>\n      <td>0.0</td>\n      <td>0.0</td>\n      <td>576</td>\n      <td>232</td>\n      <td>1</td>\n      <td>2021</td>\n      <td>9</td>\n      <td>1</td>\n      <td>0</td>\n      <td>10</td>\n    </tr>\n    <tr>\n      <th>4</th>\n      <td>2021-09-01 00:00:00</td>\n      <td>15.9</td>\n      <td>12.6</td>\n      <td>0.0</td>\n      <td>0.0</td>\n      <td>1013.8</td>\n      <td>12</td>\n      <td>7</td>\n      <td>0</td>\n      <td>20</td>\n      <td>8.388889</td>\n      <td>360</td>\n      <td>0.0</td>\n      <td>0.0</td>\n      <td>0.0</td>\n      <td>576</td>\n      <td>237</td>\n      <td>1</td>\n      <td>2021</td>\n      <td>9</td>\n      <td>1</td>\n      <td>0</td>\n      <td>-1</td>\n    </tr>\n    <tr>\n      <th>...</th>\n      <td>...</td>\n      <td>...</td>\n      <td>...</td>\n      <td>...</td>\n      <td>...</td>\n      <td>...</td>\n      <td>...</td>\n      <td>...</td>\n      <td>...</td>\n      <td>...</td>\n      <td>...</td>\n      <td>...</td>\n      <td>...</td>\n      <td>...</td>\n      <td>...</td>\n      <td>...</td>\n      <td>...</td>\n      <td>...</td>\n      <td>...</td>\n      <td>...</td>\n      <td>...</td>\n      <td>...</td>\n      <td>...</td>\n    </tr>\n    <tr>\n      <th>1710795</th>\n      <td>2023-05-30 10:00:00</td>\n      <td>10.8</td>\n      <td>4.1</td>\n      <td>0.4</td>\n      <td>0.0</td>\n      <td>1018.7</td>\n      <td>40</td>\n      <td>0</td>\n      <td>67</td>\n      <td>0</td>\n      <td>1.333333</td>\n      <td>283</td>\n      <td>440.0</td>\n      <td>264.0</td>\n      <td>176.0</td>\n      <td>597</td>\n      <td>262</td>\n      <td>637</td>\n      <td>2023</td>\n      <td>5</td>\n      <td>30</td>\n      <td>10</td>\n      <td>5</td>\n    </tr>\n    <tr>\n      <th>1710796</th>\n      <td>2023-05-30 10:00:00</td>\n      <td>11.4</td>\n      <td>2.9</td>\n      <td>0.3</td>\n      <td>0.0</td>\n      <td>1018.8</td>\n      <td>41</td>\n      <td>0</td>\n      <td>69</td>\n      <td>0</td>\n      <td>1.527778</td>\n      <td>302</td>\n      <td>453.0</td>\n      <td>283.0</td>\n      <td>170.0</td>\n      <td>597</td>\n      <td>267</td>\n      <td>637</td>\n      <td>2023</td>\n      <td>5</td>\n      <td>30</td>\n      <td>10</td>\n      <td>5</td>\n    </tr>\n    <tr>\n      <th>1710797</th>\n      <td>2023-05-30 10:00:00</td>\n      <td>9.5</td>\n      <td>3.2</td>\n      <td>0.1</td>\n      <td>0.0</td>\n      <td>1018.9</td>\n      <td>47</td>\n      <td>0</td>\n      <td>79</td>\n      <td>0</td>\n      <td>3.416667</td>\n      <td>302</td>\n      <td>477.0</td>\n      <td>312.0</td>\n      <td>165.0</td>\n      <td>597</td>\n      <td>272</td>\n      <td>637</td>\n      <td>2023</td>\n      <td>5</td>\n      <td>30</td>\n      <td>10</td>\n      <td>-1</td>\n    </tr>\n    <tr>\n      <th>1710798</th>\n      <td>2023-05-30 10:00:00</td>\n      <td>11.0</td>\n      <td>1.6</td>\n      <td>0.0</td>\n      <td>0.0</td>\n      <td>1018.6</td>\n      <td>31</td>\n      <td>0</td>\n      <td>52</td>\n      <td>0</td>\n      <td>3.472222</td>\n      <td>309</td>\n      <td>535.0</td>\n      <td>400.0</td>\n      <td>135.0</td>\n      <td>597</td>\n      <td>277</td>\n      <td>637</td>\n      <td>2023</td>\n      <td>5</td>\n      <td>30</td>\n      <td>10</td>\n      <td>-1</td>\n    </tr>\n    <tr>\n      <th>1710799</th>\n      <td>2023-05-30 10:00:00</td>\n      <td>11.5</td>\n      <td>1.3</td>\n      <td>0.0</td>\n      <td>0.0</td>\n      <td>1015.8</td>\n      <td>25</td>\n      <td>0</td>\n      <td>42</td>\n      <td>0</td>\n      <td>3.166667</td>\n      <td>305</td>\n      <td>550.0</td>\n      <td>420.0</td>\n      <td>130.0</td>\n      <td>597</td>\n      <td>282</td>\n      <td>637</td>\n      <td>2023</td>\n      <td>5</td>\n      <td>30</td>\n      <td>10</td>\n      <td>-1</td>\n    </tr>\n  </tbody>\n</table>\n<p>1710800 rows × 23 columns</p>\n</div>"
     },
     "execution_count": 73,
     "metadata": {},
     "output_type": "execute_result"
    }
   ],
   "execution_count": 73
  },
  {
   "cell_type": "code",
   "execution_count": 44,
   "outputs": [],
   "source": [
    "# historical_weather.to_csv('../data/historical_weather_New.csv')"
   ],
   "metadata": {
    "collapsed": false,
    "ExecuteTime": {
     "end_time": "2023-12-05T04:30:06.605872500Z",
     "start_time": "2023-12-05T04:30:06.604001100Z"
    }
   }
  },
  {
   "cell_type": "markdown",
   "source": [],
   "metadata": {
    "collapsed": false,
    "ExecuteTime": {
     "end_time": "2023-12-03T11:24:47.678647700Z",
     "start_time": "2023-12-03T11:24:47.676145800Z"
    }
   },
   "outputs": [],
   "execution_count": 74
  },
  {
   "cell_type": "code",
   "execution_count": 45,
   "outputs": [],
   "source": [
    "historical_weather = historical_weather.drop_duplicates(['data_block_id','county'])"
   ],
   "metadata": {
    "collapsed": false,
    "ExecuteTime": {
     "end_time": "2023-12-05T04:30:06.686377900Z",
     "start_time": "2023-12-05T04:30:06.605872500Z"
    }
   }
  },
  {
   "cell_type": "code",
   "execution_count": 46,
   "outputs": [],
   "source": [
    "import seaborn as sns\n",
    "import matplotlib.pyplot as plt"
   ],
   "metadata": {
    "collapsed": false,
    "ExecuteTime": {
     "end_time": "2023-12-05T04:30:06.690341700Z",
     "start_time": "2023-12-05T04:30:06.652245600Z"
    }
   }
  },
  {
   "cell_type": "code",
   "execution_count": 47,
   "outputs": [
    {
     "data": {
      "text/plain": "         county  is_business  product_type   target  is_consumption  \\\n0             0            0             1    0.713               0   \n1             0            0             1   96.590               1   \n2             0            0             2    0.000               0   \n3             0            0             2   17.314               1   \n4             0            0             3    2.904               0   \n...         ...          ...           ...      ...             ...   \n1048570       7            0             1   16.237               0   \n1048571       7            0             1   46.429               1   \n1048572       7            0             3   49.939               0   \n1048573       7            0             3  118.012               1   \n1048574       7            1             0    9.030               0   \n\n                   datetime  data_block_id   row_id  prediction_unit_id  \n0       2021-09-01 00:00:00              0        0                   0  \n1       2021-09-01 00:00:00              0        1                   0  \n2       2021-09-01 00:00:00              0        2                   1  \n3       2021-09-01 00:00:00              0        3                   1  \n4       2021-09-01 00:00:00              0        4                   2  \n...                     ...            ...      ...                 ...  \n1048570 2022-08-02 20:00:00            335  1048570                  25  \n1048571 2022-08-02 20:00:00            335  1048571                  25  \n1048572 2022-08-02 20:00:00            335  1048572                  27  \n1048573 2022-08-02 20:00:00            335  1048573                  27  \n1048574 2022-08-02 20:00:00            335  1048574                  28  \n\n[1048575 rows x 9 columns]",
      "text/html": "<div>\n<style scoped>\n    .dataframe tbody tr th:only-of-type {\n        vertical-align: middle;\n    }\n\n    .dataframe tbody tr th {\n        vertical-align: top;\n    }\n\n    .dataframe thead th {\n        text-align: right;\n    }\n</style>\n<table border=\"1\" class=\"dataframe\">\n  <thead>\n    <tr style=\"text-align: right;\">\n      <th></th>\n      <th>county</th>\n      <th>is_business</th>\n      <th>product_type</th>\n      <th>target</th>\n      <th>is_consumption</th>\n      <th>datetime</th>\n      <th>data_block_id</th>\n      <th>row_id</th>\n      <th>prediction_unit_id</th>\n    </tr>\n  </thead>\n  <tbody>\n    <tr>\n      <th>0</th>\n      <td>0</td>\n      <td>0</td>\n      <td>1</td>\n      <td>0.713</td>\n      <td>0</td>\n      <td>2021-09-01 00:00:00</td>\n      <td>0</td>\n      <td>0</td>\n      <td>0</td>\n    </tr>\n    <tr>\n      <th>1</th>\n      <td>0</td>\n      <td>0</td>\n      <td>1</td>\n      <td>96.590</td>\n      <td>1</td>\n      <td>2021-09-01 00:00:00</td>\n      <td>0</td>\n      <td>1</td>\n      <td>0</td>\n    </tr>\n    <tr>\n      <th>2</th>\n      <td>0</td>\n      <td>0</td>\n      <td>2</td>\n      <td>0.000</td>\n      <td>0</td>\n      <td>2021-09-01 00:00:00</td>\n      <td>0</td>\n      <td>2</td>\n      <td>1</td>\n    </tr>\n    <tr>\n      <th>3</th>\n      <td>0</td>\n      <td>0</td>\n      <td>2</td>\n      <td>17.314</td>\n      <td>1</td>\n      <td>2021-09-01 00:00:00</td>\n      <td>0</td>\n      <td>3</td>\n      <td>1</td>\n    </tr>\n    <tr>\n      <th>4</th>\n      <td>0</td>\n      <td>0</td>\n      <td>3</td>\n      <td>2.904</td>\n      <td>0</td>\n      <td>2021-09-01 00:00:00</td>\n      <td>0</td>\n      <td>4</td>\n      <td>2</td>\n    </tr>\n    <tr>\n      <th>...</th>\n      <td>...</td>\n      <td>...</td>\n      <td>...</td>\n      <td>...</td>\n      <td>...</td>\n      <td>...</td>\n      <td>...</td>\n      <td>...</td>\n      <td>...</td>\n    </tr>\n    <tr>\n      <th>1048570</th>\n      <td>7</td>\n      <td>0</td>\n      <td>1</td>\n      <td>16.237</td>\n      <td>0</td>\n      <td>2022-08-02 20:00:00</td>\n      <td>335</td>\n      <td>1048570</td>\n      <td>25</td>\n    </tr>\n    <tr>\n      <th>1048571</th>\n      <td>7</td>\n      <td>0</td>\n      <td>1</td>\n      <td>46.429</td>\n      <td>1</td>\n      <td>2022-08-02 20:00:00</td>\n      <td>335</td>\n      <td>1048571</td>\n      <td>25</td>\n    </tr>\n    <tr>\n      <th>1048572</th>\n      <td>7</td>\n      <td>0</td>\n      <td>3</td>\n      <td>49.939</td>\n      <td>0</td>\n      <td>2022-08-02 20:00:00</td>\n      <td>335</td>\n      <td>1048572</td>\n      <td>27</td>\n    </tr>\n    <tr>\n      <th>1048573</th>\n      <td>7</td>\n      <td>0</td>\n      <td>3</td>\n      <td>118.012</td>\n      <td>1</td>\n      <td>2022-08-02 20:00:00</td>\n      <td>335</td>\n      <td>1048573</td>\n      <td>27</td>\n    </tr>\n    <tr>\n      <th>1048574</th>\n      <td>7</td>\n      <td>1</td>\n      <td>0</td>\n      <td>9.030</td>\n      <td>0</td>\n      <td>2022-08-02 20:00:00</td>\n      <td>335</td>\n      <td>1048574</td>\n      <td>28</td>\n    </tr>\n  </tbody>\n</table>\n<p>1048575 rows × 9 columns</p>\n</div>"
     },
     "execution_count": 47,
     "metadata": {},
     "output_type": "execute_result"
    }
   ],
   "source": [
    "train = pd.read_csv(\"../data/train.csv\",parse_dates=['datetime'])\n",
    "train['county'] = train['county'].astype(int)\n",
    "train"
   ],
   "metadata": {
    "collapsed": false,
    "ExecuteTime": {
     "end_time": "2023-12-05T04:30:07.116839600Z",
     "start_time": "2023-12-05T04:30:06.654788300Z"
    }
   }
  },
  {
   "cell_type": "code",
   "execution_count": 48,
   "outputs": [
    {
     "data": {
      "text/plain": "         county  is_business  product_type   target  is_consumption  \\\n0             0            0             1    0.713               0   \n1             0            0             1   96.590               1   \n2             0            0             2    0.000               0   \n3             0            0             2   17.314               1   \n4             0            0             3    2.904               0   \n...         ...          ...           ...      ...             ...   \n1048570       7            0             1   16.237               0   \n1048571       7            0             1   46.429               1   \n1048572       7            0             3   49.939               0   \n1048573       7            0             3  118.012               1   \n1048574       7            1             0    9.030               0   \n\n                   datetime  data_block_id   row_id  prediction_unit_id  year  \\\n0       2021-09-01 00:00:00              0        0                   0  2021   \n1       2021-09-01 00:00:00              0        1                   0  2021   \n2       2021-09-01 00:00:00              0        2                   1  2021   \n3       2021-09-01 00:00:00              0        3                   1  2021   \n4       2021-09-01 00:00:00              0        4                   2  2021   \n...                     ...            ...      ...                 ...   ...   \n1048570 2022-08-02 20:00:00            335  1048570                  25  2022   \n1048571 2022-08-02 20:00:00            335  1048571                  25  2022   \n1048572 2022-08-02 20:00:00            335  1048572                  27  2022   \n1048573 2022-08-02 20:00:00            335  1048573                  27  2022   \n1048574 2022-08-02 20:00:00            335  1048574                  28  2022   \n\n         month  day  hour  \n0            9    1     0  \n1            9    1     0  \n2            9    1     0  \n3            9    1     0  \n4            9    1     0  \n...        ...  ...   ...  \n1048570      8    2    20  \n1048571      8    2    20  \n1048572      8    2    20  \n1048573      8    2    20  \n1048574      8    2    20  \n\n[1048575 rows x 13 columns]",
      "text/html": "<div>\n<style scoped>\n    .dataframe tbody tr th:only-of-type {\n        vertical-align: middle;\n    }\n\n    .dataframe tbody tr th {\n        vertical-align: top;\n    }\n\n    .dataframe thead th {\n        text-align: right;\n    }\n</style>\n<table border=\"1\" class=\"dataframe\">\n  <thead>\n    <tr style=\"text-align: right;\">\n      <th></th>\n      <th>county</th>\n      <th>is_business</th>\n      <th>product_type</th>\n      <th>target</th>\n      <th>is_consumption</th>\n      <th>datetime</th>\n      <th>data_block_id</th>\n      <th>row_id</th>\n      <th>prediction_unit_id</th>\n      <th>year</th>\n      <th>month</th>\n      <th>day</th>\n      <th>hour</th>\n    </tr>\n  </thead>\n  <tbody>\n    <tr>\n      <th>0</th>\n      <td>0</td>\n      <td>0</td>\n      <td>1</td>\n      <td>0.713</td>\n      <td>0</td>\n      <td>2021-09-01 00:00:00</td>\n      <td>0</td>\n      <td>0</td>\n      <td>0</td>\n      <td>2021</td>\n      <td>9</td>\n      <td>1</td>\n      <td>0</td>\n    </tr>\n    <tr>\n      <th>1</th>\n      <td>0</td>\n      <td>0</td>\n      <td>1</td>\n      <td>96.590</td>\n      <td>1</td>\n      <td>2021-09-01 00:00:00</td>\n      <td>0</td>\n      <td>1</td>\n      <td>0</td>\n      <td>2021</td>\n      <td>9</td>\n      <td>1</td>\n      <td>0</td>\n    </tr>\n    <tr>\n      <th>2</th>\n      <td>0</td>\n      <td>0</td>\n      <td>2</td>\n      <td>0.000</td>\n      <td>0</td>\n      <td>2021-09-01 00:00:00</td>\n      <td>0</td>\n      <td>2</td>\n      <td>1</td>\n      <td>2021</td>\n      <td>9</td>\n      <td>1</td>\n      <td>0</td>\n    </tr>\n    <tr>\n      <th>3</th>\n      <td>0</td>\n      <td>0</td>\n      <td>2</td>\n      <td>17.314</td>\n      <td>1</td>\n      <td>2021-09-01 00:00:00</td>\n      <td>0</td>\n      <td>3</td>\n      <td>1</td>\n      <td>2021</td>\n      <td>9</td>\n      <td>1</td>\n      <td>0</td>\n    </tr>\n    <tr>\n      <th>4</th>\n      <td>0</td>\n      <td>0</td>\n      <td>3</td>\n      <td>2.904</td>\n      <td>0</td>\n      <td>2021-09-01 00:00:00</td>\n      <td>0</td>\n      <td>4</td>\n      <td>2</td>\n      <td>2021</td>\n      <td>9</td>\n      <td>1</td>\n      <td>0</td>\n    </tr>\n    <tr>\n      <th>...</th>\n      <td>...</td>\n      <td>...</td>\n      <td>...</td>\n      <td>...</td>\n      <td>...</td>\n      <td>...</td>\n      <td>...</td>\n      <td>...</td>\n      <td>...</td>\n      <td>...</td>\n      <td>...</td>\n      <td>...</td>\n      <td>...</td>\n    </tr>\n    <tr>\n      <th>1048570</th>\n      <td>7</td>\n      <td>0</td>\n      <td>1</td>\n      <td>16.237</td>\n      <td>0</td>\n      <td>2022-08-02 20:00:00</td>\n      <td>335</td>\n      <td>1048570</td>\n      <td>25</td>\n      <td>2022</td>\n      <td>8</td>\n      <td>2</td>\n      <td>20</td>\n    </tr>\n    <tr>\n      <th>1048571</th>\n      <td>7</td>\n      <td>0</td>\n      <td>1</td>\n      <td>46.429</td>\n      <td>1</td>\n      <td>2022-08-02 20:00:00</td>\n      <td>335</td>\n      <td>1048571</td>\n      <td>25</td>\n      <td>2022</td>\n      <td>8</td>\n      <td>2</td>\n      <td>20</td>\n    </tr>\n    <tr>\n      <th>1048572</th>\n      <td>7</td>\n      <td>0</td>\n      <td>3</td>\n      <td>49.939</td>\n      <td>0</td>\n      <td>2022-08-02 20:00:00</td>\n      <td>335</td>\n      <td>1048572</td>\n      <td>27</td>\n      <td>2022</td>\n      <td>8</td>\n      <td>2</td>\n      <td>20</td>\n    </tr>\n    <tr>\n      <th>1048573</th>\n      <td>7</td>\n      <td>0</td>\n      <td>3</td>\n      <td>118.012</td>\n      <td>1</td>\n      <td>2022-08-02 20:00:00</td>\n      <td>335</td>\n      <td>1048573</td>\n      <td>27</td>\n      <td>2022</td>\n      <td>8</td>\n      <td>2</td>\n      <td>20</td>\n    </tr>\n    <tr>\n      <th>1048574</th>\n      <td>7</td>\n      <td>1</td>\n      <td>0</td>\n      <td>9.030</td>\n      <td>0</td>\n      <td>2022-08-02 20:00:00</td>\n      <td>335</td>\n      <td>1048574</td>\n      <td>28</td>\n      <td>2022</td>\n      <td>8</td>\n      <td>2</td>\n      <td>20</td>\n    </tr>\n  </tbody>\n</table>\n<p>1048575 rows × 13 columns</p>\n</div>"
     },
     "execution_count": 48,
     "metadata": {},
     "output_type": "execute_result"
    }
   ],
   "source": [
    "train['year'] = train['datetime'].apply(lambda x: x.year)\n",
    "train['month'] = train['datetime'].apply(lambda x: x.month)\n",
    "train['day'] = train['datetime'].apply(lambda x: x.day)\n",
    "train['hour'] = train['datetime'].apply(lambda x: x.hour)\n",
    "train"
   ],
   "metadata": {
    "collapsed": false,
    "ExecuteTime": {
     "end_time": "2023-12-05T04:30:11.145322Z",
     "start_time": "2023-12-05T04:30:07.114698800Z"
    }
   }
  },
  {
   "cell_type": "code",
   "execution_count": 49,
   "outputs": [
    {
     "data": {
      "text/plain": "         county  data_block_id   target  is_consumption  is_business  \\\n1             0              0   96.590               1            0   \n3             0              0   17.314               1            0   \n5             0              0  656.859               1            0   \n7             0              0   59.000               1            1   \n9             0              0  501.760               1            1   \n...         ...            ...      ...             ...          ...   \n1048565       5            335   70.632               1            1   \n1048567       5            335  676.373               1            1   \n1048569       6            335  217.705               1            1   \n1048571       7            335   46.429               1            0   \n1048573       7            335  118.012               1            0   \n\n         product_type  hour  \n1                   1     0  \n3                   2     0  \n5                   3     0  \n7                   0     0  \n9                   1     0  \n...               ...   ...  \n1048565             1    20  \n1048567             3    20  \n1048569             3    20  \n1048571             1    20  \n1048573             3    20  \n\n[524287 rows x 7 columns]",
      "text/html": "<div>\n<style scoped>\n    .dataframe tbody tr th:only-of-type {\n        vertical-align: middle;\n    }\n\n    .dataframe tbody tr th {\n        vertical-align: top;\n    }\n\n    .dataframe thead th {\n        text-align: right;\n    }\n</style>\n<table border=\"1\" class=\"dataframe\">\n  <thead>\n    <tr style=\"text-align: right;\">\n      <th></th>\n      <th>county</th>\n      <th>data_block_id</th>\n      <th>target</th>\n      <th>is_consumption</th>\n      <th>is_business</th>\n      <th>product_type</th>\n      <th>hour</th>\n    </tr>\n  </thead>\n  <tbody>\n    <tr>\n      <th>1</th>\n      <td>0</td>\n      <td>0</td>\n      <td>96.590</td>\n      <td>1</td>\n      <td>0</td>\n      <td>1</td>\n      <td>0</td>\n    </tr>\n    <tr>\n      <th>3</th>\n      <td>0</td>\n      <td>0</td>\n      <td>17.314</td>\n      <td>1</td>\n      <td>0</td>\n      <td>2</td>\n      <td>0</td>\n    </tr>\n    <tr>\n      <th>5</th>\n      <td>0</td>\n      <td>0</td>\n      <td>656.859</td>\n      <td>1</td>\n      <td>0</td>\n      <td>3</td>\n      <td>0</td>\n    </tr>\n    <tr>\n      <th>7</th>\n      <td>0</td>\n      <td>0</td>\n      <td>59.000</td>\n      <td>1</td>\n      <td>1</td>\n      <td>0</td>\n      <td>0</td>\n    </tr>\n    <tr>\n      <th>9</th>\n      <td>0</td>\n      <td>0</td>\n      <td>501.760</td>\n      <td>1</td>\n      <td>1</td>\n      <td>1</td>\n      <td>0</td>\n    </tr>\n    <tr>\n      <th>...</th>\n      <td>...</td>\n      <td>...</td>\n      <td>...</td>\n      <td>...</td>\n      <td>...</td>\n      <td>...</td>\n      <td>...</td>\n    </tr>\n    <tr>\n      <th>1048565</th>\n      <td>5</td>\n      <td>335</td>\n      <td>70.632</td>\n      <td>1</td>\n      <td>1</td>\n      <td>1</td>\n      <td>20</td>\n    </tr>\n    <tr>\n      <th>1048567</th>\n      <td>5</td>\n      <td>335</td>\n      <td>676.373</td>\n      <td>1</td>\n      <td>1</td>\n      <td>3</td>\n      <td>20</td>\n    </tr>\n    <tr>\n      <th>1048569</th>\n      <td>6</td>\n      <td>335</td>\n      <td>217.705</td>\n      <td>1</td>\n      <td>1</td>\n      <td>3</td>\n      <td>20</td>\n    </tr>\n    <tr>\n      <th>1048571</th>\n      <td>7</td>\n      <td>335</td>\n      <td>46.429</td>\n      <td>1</td>\n      <td>0</td>\n      <td>1</td>\n      <td>20</td>\n    </tr>\n    <tr>\n      <th>1048573</th>\n      <td>7</td>\n      <td>335</td>\n      <td>118.012</td>\n      <td>1</td>\n      <td>0</td>\n      <td>3</td>\n      <td>20</td>\n    </tr>\n  </tbody>\n</table>\n<p>524287 rows × 7 columns</p>\n</div>"
     },
     "execution_count": 49,
     "metadata": {},
     "output_type": "execute_result"
    }
   ],
   "source": [
    "train_new= train[['county', 'data_block_id', 'target','is_consumption','is_business','product_type','hour']]\n",
    "train_new_is_consumption = train_new[train_new['is_consumption']==1]\n",
    "train_new_is_consumption"
   ],
   "metadata": {
    "collapsed": false,
    "ExecuteTime": {
     "end_time": "2023-12-05T04:30:11.182226500Z",
     "start_time": "2023-12-05T04:30:11.145322Z"
    }
   }
  },
  {
   "cell_type": "code",
   "execution_count": 50,
   "outputs": [
    {
     "data": {
      "text/plain": "           count        mean          std  min      25%       50%        75%  \\\ncounty                                                                         \n0       111386.0  825.153596  2025.957999  0.0  0.59400   49.5170  486.45450   \n1        48354.0   34.586789    54.362684  0.0  0.14200   11.7590   51.80975   \n2        57178.0  165.276639   454.781636  0.0  0.11600   17.3470   67.86225   \n3        64472.0  149.659002   284.397083  0.0  0.01500   30.3975  106.64050   \n4        74736.0  123.313065   202.551501  0.0  0.08700   18.3770  154.63000   \n5        79102.0  221.358705   361.202753  0.0  0.90300   51.4800  199.71750   \n6        16118.0   62.189757    67.177602  0.0  0.00500   40.9170  120.59825   \n7        91095.0  174.789969   277.250895  0.0  0.20400   41.6850  233.49300   \n8        48348.0   64.331945    99.989932  0.0  0.11400   17.2795   81.71350   \n9        64464.0   74.251710   105.445073  0.0  0.07700   34.5055  111.03625   \n10       69262.0  192.507660   380.167158  0.0  0.42100   31.1345  124.01600   \n11      103982.0  450.668154  1149.600669  0.0  0.16700   26.5700  298.27050   \n12       16116.0  254.864311   280.406352  0.0  0.55000  159.4045  469.44550   \n13       63024.0  117.784946   274.477843  0.0  0.04100   12.7725   58.76775   \n14       64464.0  249.099234   502.386610  0.0  2.33375   42.9745  170.33625   \n15       76214.0  101.844729   155.620599  0.0  2.18225   34.9005  127.07150   \n\n              max  \ncounty             \n0       13896.422  \n1         435.548  \n2        3036.604  \n3        1702.566  \n4        1248.623  \n5        1894.246  \n6         269.434  \n7        1682.319  \n8         627.347  \n9         999.989  \n10       2159.071  \n11       7380.945  \n12       1076.369  \n13       1771.127  \n14       3190.634  \n15       1349.640  ",
      "text/html": "<div>\n<style scoped>\n    .dataframe tbody tr th:only-of-type {\n        vertical-align: middle;\n    }\n\n    .dataframe tbody tr th {\n        vertical-align: top;\n    }\n\n    .dataframe thead th {\n        text-align: right;\n    }\n</style>\n<table border=\"1\" class=\"dataframe\">\n  <thead>\n    <tr style=\"text-align: right;\">\n      <th></th>\n      <th>count</th>\n      <th>mean</th>\n      <th>std</th>\n      <th>min</th>\n      <th>25%</th>\n      <th>50%</th>\n      <th>75%</th>\n      <th>max</th>\n    </tr>\n    <tr>\n      <th>county</th>\n      <th></th>\n      <th></th>\n      <th></th>\n      <th></th>\n      <th></th>\n      <th></th>\n      <th></th>\n      <th></th>\n    </tr>\n  </thead>\n  <tbody>\n    <tr>\n      <th>0</th>\n      <td>111386.0</td>\n      <td>825.153596</td>\n      <td>2025.957999</td>\n      <td>0.0</td>\n      <td>0.59400</td>\n      <td>49.5170</td>\n      <td>486.45450</td>\n      <td>13896.422</td>\n    </tr>\n    <tr>\n      <th>1</th>\n      <td>48354.0</td>\n      <td>34.586789</td>\n      <td>54.362684</td>\n      <td>0.0</td>\n      <td>0.14200</td>\n      <td>11.7590</td>\n      <td>51.80975</td>\n      <td>435.548</td>\n    </tr>\n    <tr>\n      <th>2</th>\n      <td>57178.0</td>\n      <td>165.276639</td>\n      <td>454.781636</td>\n      <td>0.0</td>\n      <td>0.11600</td>\n      <td>17.3470</td>\n      <td>67.86225</td>\n      <td>3036.604</td>\n    </tr>\n    <tr>\n      <th>3</th>\n      <td>64472.0</td>\n      <td>149.659002</td>\n      <td>284.397083</td>\n      <td>0.0</td>\n      <td>0.01500</td>\n      <td>30.3975</td>\n      <td>106.64050</td>\n      <td>1702.566</td>\n    </tr>\n    <tr>\n      <th>4</th>\n      <td>74736.0</td>\n      <td>123.313065</td>\n      <td>202.551501</td>\n      <td>0.0</td>\n      <td>0.08700</td>\n      <td>18.3770</td>\n      <td>154.63000</td>\n      <td>1248.623</td>\n    </tr>\n    <tr>\n      <th>5</th>\n      <td>79102.0</td>\n      <td>221.358705</td>\n      <td>361.202753</td>\n      <td>0.0</td>\n      <td>0.90300</td>\n      <td>51.4800</td>\n      <td>199.71750</td>\n      <td>1894.246</td>\n    </tr>\n    <tr>\n      <th>6</th>\n      <td>16118.0</td>\n      <td>62.189757</td>\n      <td>67.177602</td>\n      <td>0.0</td>\n      <td>0.00500</td>\n      <td>40.9170</td>\n      <td>120.59825</td>\n      <td>269.434</td>\n    </tr>\n    <tr>\n      <th>7</th>\n      <td>91095.0</td>\n      <td>174.789969</td>\n      <td>277.250895</td>\n      <td>0.0</td>\n      <td>0.20400</td>\n      <td>41.6850</td>\n      <td>233.49300</td>\n      <td>1682.319</td>\n    </tr>\n    <tr>\n      <th>8</th>\n      <td>48348.0</td>\n      <td>64.331945</td>\n      <td>99.989932</td>\n      <td>0.0</td>\n      <td>0.11400</td>\n      <td>17.2795</td>\n      <td>81.71350</td>\n      <td>627.347</td>\n    </tr>\n    <tr>\n      <th>9</th>\n      <td>64464.0</td>\n      <td>74.251710</td>\n      <td>105.445073</td>\n      <td>0.0</td>\n      <td>0.07700</td>\n      <td>34.5055</td>\n      <td>111.03625</td>\n      <td>999.989</td>\n    </tr>\n    <tr>\n      <th>10</th>\n      <td>69262.0</td>\n      <td>192.507660</td>\n      <td>380.167158</td>\n      <td>0.0</td>\n      <td>0.42100</td>\n      <td>31.1345</td>\n      <td>124.01600</td>\n      <td>2159.071</td>\n    </tr>\n    <tr>\n      <th>11</th>\n      <td>103982.0</td>\n      <td>450.668154</td>\n      <td>1149.600669</td>\n      <td>0.0</td>\n      <td>0.16700</td>\n      <td>26.5700</td>\n      <td>298.27050</td>\n      <td>7380.945</td>\n    </tr>\n    <tr>\n      <th>12</th>\n      <td>16116.0</td>\n      <td>254.864311</td>\n      <td>280.406352</td>\n      <td>0.0</td>\n      <td>0.55000</td>\n      <td>159.4045</td>\n      <td>469.44550</td>\n      <td>1076.369</td>\n    </tr>\n    <tr>\n      <th>13</th>\n      <td>63024.0</td>\n      <td>117.784946</td>\n      <td>274.477843</td>\n      <td>0.0</td>\n      <td>0.04100</td>\n      <td>12.7725</td>\n      <td>58.76775</td>\n      <td>1771.127</td>\n    </tr>\n    <tr>\n      <th>14</th>\n      <td>64464.0</td>\n      <td>249.099234</td>\n      <td>502.386610</td>\n      <td>0.0</td>\n      <td>2.33375</td>\n      <td>42.9745</td>\n      <td>170.33625</td>\n      <td>3190.634</td>\n    </tr>\n    <tr>\n      <th>15</th>\n      <td>76214.0</td>\n      <td>101.844729</td>\n      <td>155.620599</td>\n      <td>0.0</td>\n      <td>2.18225</td>\n      <td>34.9005</td>\n      <td>127.07150</td>\n      <td>1349.640</td>\n    </tr>\n  </tbody>\n</table>\n</div>"
     },
     "execution_count": 50,
     "metadata": {},
     "output_type": "execute_result"
    }
   ],
   "source": [
    "train_group_by = train.groupby('county')['target'].describe()\n",
    "train_group_by"
   ],
   "metadata": {
    "collapsed": false,
    "ExecuteTime": {
     "end_time": "2023-12-05T04:30:11.290532800Z",
     "start_time": "2023-12-05T04:30:11.182226500Z"
    }
   }
  },
  {
   "cell_type": "code",
   "execution_count": 51,
   "outputs": [],
   "source": [
    "merged_is_consumption = pd.merge(train_new_is_consumption, historical_weather,how='left', on=['data_block_id', 'county','hour'])"
   ],
   "metadata": {
    "collapsed": false,
    "ExecuteTime": {
     "end_time": "2023-12-05T04:30:11.343831300Z",
     "start_time": "2023-12-05T04:30:11.250209700Z"
    }
   }
  },
  {
   "cell_type": "markdown",
   "source": [],
   "metadata": {
    "collapsed": false,
    "ExecuteTime": {
     "end_time": "2023-12-03T11:24:52.707230600Z",
     "start_time": "2023-12-03T11:24:52.570816100Z"
    }
   },
   "outputs": [],
   "execution_count": 81
  },
  {
   "cell_type": "code",
   "execution_count": 52,
   "outputs": [
    {
     "data": {
      "text/plain": "        county  data_block_id   target  is_consumption  is_business  \\\n0            0              0   96.590               1            0   \n1            0              0   17.314               1            0   \n2            0              0  656.859               1            0   \n3            0              0   59.000               1            1   \n4            0              0  501.760               1            1   \n...        ...            ...      ...             ...          ...   \n524282       5            335   70.632               1            1   \n524283       5            335  676.373               1            1   \n524284       6            335  217.705               1            1   \n524285       7            335   46.429               1            0   \n524286       7            335  118.012               1            0   \n\n        product_type  hour datetime  temperature  dewpoint  rain  snowfall  \\\n0                  1     0      NaT          NaN       NaN   NaN       NaN   \n1                  2     0      NaT          NaN       NaN   NaN       NaN   \n2                  3     0      NaT          NaN       NaN   NaN       NaN   \n3                  0     0      NaT          NaN       NaN   NaN       NaN   \n4                  1     0      NaT          NaN       NaN   NaN       NaN   \n...              ...   ...      ...          ...       ...   ...       ...   \n524282             1    20      NaT          NaN       NaN   NaN       NaN   \n524283             3    20      NaT          NaN       NaN   NaN       NaN   \n524284             3    20      NaT          NaN       NaN   NaN       NaN   \n524285             1    20      NaT          NaN       NaN   NaN       NaN   \n524286             3    20      NaT          NaN       NaN   NaN       NaN   \n\n        surface_pressure  cloudcover_total  cloudcover_low  cloudcover_mid  \\\n0                    NaN               NaN             NaN             NaN   \n1                    NaN               NaN             NaN             NaN   \n2                    NaN               NaN             NaN             NaN   \n3                    NaN               NaN             NaN             NaN   \n4                    NaN               NaN             NaN             NaN   \n...                  ...               ...             ...             ...   \n524282               NaN               NaN             NaN             NaN   \n524283               NaN               NaN             NaN             NaN   \n524284               NaN               NaN             NaN             NaN   \n524285               NaN               NaN             NaN             NaN   \n524286               NaN               NaN             NaN             NaN   \n\n        cloudcover_high  windspeed_10m  winddirection_10m  \\\n0                   NaN            NaN                NaN   \n1                   NaN            NaN                NaN   \n2                   NaN            NaN                NaN   \n3                   NaN            NaN                NaN   \n4                   NaN            NaN                NaN   \n...                 ...            ...                ...   \n524282              NaN            NaN                NaN   \n524283              NaN            NaN                NaN   \n524284              NaN            NaN                NaN   \n524285              NaN            NaN                NaN   \n524286              NaN            NaN                NaN   \n\n        shortwave_radiation  direct_solar_radiation  diffuse_radiation  \\\n0                       NaN                     NaN                NaN   \n1                       NaN                     NaN                NaN   \n2                       NaN                     NaN                NaN   \n3                       NaN                     NaN                NaN   \n4                       NaN                     NaN                NaN   \n...                     ...                     ...                ...   \n524282                  NaN                     NaN                NaN   \n524283                  NaN                     NaN                NaN   \n524284                  NaN                     NaN                NaN   \n524285                  NaN                     NaN                NaN   \n524286                  NaN                     NaN                NaN   \n\n        latitude  longitude  year  month  day  \n0            NaN        NaN   NaN    NaN  NaN  \n1            NaN        NaN   NaN    NaN  NaN  \n2            NaN        NaN   NaN    NaN  NaN  \n3            NaN        NaN   NaN    NaN  NaN  \n4            NaN        NaN   NaN    NaN  NaN  \n...          ...        ...   ...    ...  ...  \n524282       NaN        NaN   NaN    NaN  NaN  \n524283       NaN        NaN   NaN    NaN  NaN  \n524284       NaN        NaN   NaN    NaN  NaN  \n524285       NaN        NaN   NaN    NaN  NaN  \n524286       NaN        NaN   NaN    NaN  NaN  \n\n[524287 rows x 27 columns]",
      "text/html": "<div>\n<style scoped>\n    .dataframe tbody tr th:only-of-type {\n        vertical-align: middle;\n    }\n\n    .dataframe tbody tr th {\n        vertical-align: top;\n    }\n\n    .dataframe thead th {\n        text-align: right;\n    }\n</style>\n<table border=\"1\" class=\"dataframe\">\n  <thead>\n    <tr style=\"text-align: right;\">\n      <th></th>\n      <th>county</th>\n      <th>data_block_id</th>\n      <th>target</th>\n      <th>is_consumption</th>\n      <th>is_business</th>\n      <th>product_type</th>\n      <th>hour</th>\n      <th>datetime</th>\n      <th>temperature</th>\n      <th>dewpoint</th>\n      <th>rain</th>\n      <th>snowfall</th>\n      <th>surface_pressure</th>\n      <th>cloudcover_total</th>\n      <th>cloudcover_low</th>\n      <th>cloudcover_mid</th>\n      <th>cloudcover_high</th>\n      <th>windspeed_10m</th>\n      <th>winddirection_10m</th>\n      <th>shortwave_radiation</th>\n      <th>direct_solar_radiation</th>\n      <th>diffuse_radiation</th>\n      <th>latitude</th>\n      <th>longitude</th>\n      <th>year</th>\n      <th>month</th>\n      <th>day</th>\n    </tr>\n  </thead>\n  <tbody>\n    <tr>\n      <th>0</th>\n      <td>0</td>\n      <td>0</td>\n      <td>96.590</td>\n      <td>1</td>\n      <td>0</td>\n      <td>1</td>\n      <td>0</td>\n      <td>NaT</td>\n      <td>NaN</td>\n      <td>NaN</td>\n      <td>NaN</td>\n      <td>NaN</td>\n      <td>NaN</td>\n      <td>NaN</td>\n      <td>NaN</td>\n      <td>NaN</td>\n      <td>NaN</td>\n      <td>NaN</td>\n      <td>NaN</td>\n      <td>NaN</td>\n      <td>NaN</td>\n      <td>NaN</td>\n      <td>NaN</td>\n      <td>NaN</td>\n      <td>NaN</td>\n      <td>NaN</td>\n      <td>NaN</td>\n    </tr>\n    <tr>\n      <th>1</th>\n      <td>0</td>\n      <td>0</td>\n      <td>17.314</td>\n      <td>1</td>\n      <td>0</td>\n      <td>2</td>\n      <td>0</td>\n      <td>NaT</td>\n      <td>NaN</td>\n      <td>NaN</td>\n      <td>NaN</td>\n      <td>NaN</td>\n      <td>NaN</td>\n      <td>NaN</td>\n      <td>NaN</td>\n      <td>NaN</td>\n      <td>NaN</td>\n      <td>NaN</td>\n      <td>NaN</td>\n      <td>NaN</td>\n      <td>NaN</td>\n      <td>NaN</td>\n      <td>NaN</td>\n      <td>NaN</td>\n      <td>NaN</td>\n      <td>NaN</td>\n      <td>NaN</td>\n    </tr>\n    <tr>\n      <th>2</th>\n      <td>0</td>\n      <td>0</td>\n      <td>656.859</td>\n      <td>1</td>\n      <td>0</td>\n      <td>3</td>\n      <td>0</td>\n      <td>NaT</td>\n      <td>NaN</td>\n      <td>NaN</td>\n      <td>NaN</td>\n      <td>NaN</td>\n      <td>NaN</td>\n      <td>NaN</td>\n      <td>NaN</td>\n      <td>NaN</td>\n      <td>NaN</td>\n      <td>NaN</td>\n      <td>NaN</td>\n      <td>NaN</td>\n      <td>NaN</td>\n      <td>NaN</td>\n      <td>NaN</td>\n      <td>NaN</td>\n      <td>NaN</td>\n      <td>NaN</td>\n      <td>NaN</td>\n    </tr>\n    <tr>\n      <th>3</th>\n      <td>0</td>\n      <td>0</td>\n      <td>59.000</td>\n      <td>1</td>\n      <td>1</td>\n      <td>0</td>\n      <td>0</td>\n      <td>NaT</td>\n      <td>NaN</td>\n      <td>NaN</td>\n      <td>NaN</td>\n      <td>NaN</td>\n      <td>NaN</td>\n      <td>NaN</td>\n      <td>NaN</td>\n      <td>NaN</td>\n      <td>NaN</td>\n      <td>NaN</td>\n      <td>NaN</td>\n      <td>NaN</td>\n      <td>NaN</td>\n      <td>NaN</td>\n      <td>NaN</td>\n      <td>NaN</td>\n      <td>NaN</td>\n      <td>NaN</td>\n      <td>NaN</td>\n    </tr>\n    <tr>\n      <th>4</th>\n      <td>0</td>\n      <td>0</td>\n      <td>501.760</td>\n      <td>1</td>\n      <td>1</td>\n      <td>1</td>\n      <td>0</td>\n      <td>NaT</td>\n      <td>NaN</td>\n      <td>NaN</td>\n      <td>NaN</td>\n      <td>NaN</td>\n      <td>NaN</td>\n      <td>NaN</td>\n      <td>NaN</td>\n      <td>NaN</td>\n      <td>NaN</td>\n      <td>NaN</td>\n      <td>NaN</td>\n      <td>NaN</td>\n      <td>NaN</td>\n      <td>NaN</td>\n      <td>NaN</td>\n      <td>NaN</td>\n      <td>NaN</td>\n      <td>NaN</td>\n      <td>NaN</td>\n    </tr>\n    <tr>\n      <th>...</th>\n      <td>...</td>\n      <td>...</td>\n      <td>...</td>\n      <td>...</td>\n      <td>...</td>\n      <td>...</td>\n      <td>...</td>\n      <td>...</td>\n      <td>...</td>\n      <td>...</td>\n      <td>...</td>\n      <td>...</td>\n      <td>...</td>\n      <td>...</td>\n      <td>...</td>\n      <td>...</td>\n      <td>...</td>\n      <td>...</td>\n      <td>...</td>\n      <td>...</td>\n      <td>...</td>\n      <td>...</td>\n      <td>...</td>\n      <td>...</td>\n      <td>...</td>\n      <td>...</td>\n      <td>...</td>\n    </tr>\n    <tr>\n      <th>524282</th>\n      <td>5</td>\n      <td>335</td>\n      <td>70.632</td>\n      <td>1</td>\n      <td>1</td>\n      <td>1</td>\n      <td>20</td>\n      <td>NaT</td>\n      <td>NaN</td>\n      <td>NaN</td>\n      <td>NaN</td>\n      <td>NaN</td>\n      <td>NaN</td>\n      <td>NaN</td>\n      <td>NaN</td>\n      <td>NaN</td>\n      <td>NaN</td>\n      <td>NaN</td>\n      <td>NaN</td>\n      <td>NaN</td>\n      <td>NaN</td>\n      <td>NaN</td>\n      <td>NaN</td>\n      <td>NaN</td>\n      <td>NaN</td>\n      <td>NaN</td>\n      <td>NaN</td>\n    </tr>\n    <tr>\n      <th>524283</th>\n      <td>5</td>\n      <td>335</td>\n      <td>676.373</td>\n      <td>1</td>\n      <td>1</td>\n      <td>3</td>\n      <td>20</td>\n      <td>NaT</td>\n      <td>NaN</td>\n      <td>NaN</td>\n      <td>NaN</td>\n      <td>NaN</td>\n      <td>NaN</td>\n      <td>NaN</td>\n      <td>NaN</td>\n      <td>NaN</td>\n      <td>NaN</td>\n      <td>NaN</td>\n      <td>NaN</td>\n      <td>NaN</td>\n      <td>NaN</td>\n      <td>NaN</td>\n      <td>NaN</td>\n      <td>NaN</td>\n      <td>NaN</td>\n      <td>NaN</td>\n      <td>NaN</td>\n    </tr>\n    <tr>\n      <th>524284</th>\n      <td>6</td>\n      <td>335</td>\n      <td>217.705</td>\n      <td>1</td>\n      <td>1</td>\n      <td>3</td>\n      <td>20</td>\n      <td>NaT</td>\n      <td>NaN</td>\n      <td>NaN</td>\n      <td>NaN</td>\n      <td>NaN</td>\n      <td>NaN</td>\n      <td>NaN</td>\n      <td>NaN</td>\n      <td>NaN</td>\n      <td>NaN</td>\n      <td>NaN</td>\n      <td>NaN</td>\n      <td>NaN</td>\n      <td>NaN</td>\n      <td>NaN</td>\n      <td>NaN</td>\n      <td>NaN</td>\n      <td>NaN</td>\n      <td>NaN</td>\n      <td>NaN</td>\n    </tr>\n    <tr>\n      <th>524285</th>\n      <td>7</td>\n      <td>335</td>\n      <td>46.429</td>\n      <td>1</td>\n      <td>0</td>\n      <td>1</td>\n      <td>20</td>\n      <td>NaT</td>\n      <td>NaN</td>\n      <td>NaN</td>\n      <td>NaN</td>\n      <td>NaN</td>\n      <td>NaN</td>\n      <td>NaN</td>\n      <td>NaN</td>\n      <td>NaN</td>\n      <td>NaN</td>\n      <td>NaN</td>\n      <td>NaN</td>\n      <td>NaN</td>\n      <td>NaN</td>\n      <td>NaN</td>\n      <td>NaN</td>\n      <td>NaN</td>\n      <td>NaN</td>\n      <td>NaN</td>\n      <td>NaN</td>\n    </tr>\n    <tr>\n      <th>524286</th>\n      <td>7</td>\n      <td>335</td>\n      <td>118.012</td>\n      <td>1</td>\n      <td>0</td>\n      <td>3</td>\n      <td>20</td>\n      <td>NaT</td>\n      <td>NaN</td>\n      <td>NaN</td>\n      <td>NaN</td>\n      <td>NaN</td>\n      <td>NaN</td>\n      <td>NaN</td>\n      <td>NaN</td>\n      <td>NaN</td>\n      <td>NaN</td>\n      <td>NaN</td>\n      <td>NaN</td>\n      <td>NaN</td>\n      <td>NaN</td>\n      <td>NaN</td>\n      <td>NaN</td>\n      <td>NaN</td>\n      <td>NaN</td>\n      <td>NaN</td>\n      <td>NaN</td>\n    </tr>\n  </tbody>\n</table>\n<p>524287 rows × 27 columns</p>\n</div>"
     },
     "execution_count": 52,
     "metadata": {},
     "output_type": "execute_result"
    }
   ],
   "source": [
    "merged_is_consumption"
   ],
   "metadata": {
    "collapsed": false,
    "ExecuteTime": {
     "end_time": "2023-12-05T04:30:11.401103900Z",
     "start_time": "2023-12-05T04:30:11.328228900Z"
    }
   }
  },
  {
   "cell_type": "markdown",
   "source": [],
   "metadata": {
    "collapsed": false,
    "ExecuteTime": {
     "end_time": "2023-12-03T11:24:52.708230Z",
     "start_time": "2023-12-03T11:24:52.647610Z"
    }
   },
   "outputs": [
    {
     "data": {
      "text/plain": "        county  data_block_id   target  is_consumption  is_business  \\\n0            0              0   96.590               1            0   \n1            0              0   17.314               1            0   \n2            0              0  656.859               1            0   \n3            0              0   59.000               1            1   \n4            0              0  501.760               1            1   \n...        ...            ...      ...             ...          ...   \n524282       5            335   70.632               1            1   \n524283       5            335  676.373               1            1   \n524284       6            335  217.705               1            1   \n524285       7            335   46.429               1            0   \n524286       7            335  118.012               1            0   \n\n        product_type  hour datetime  temperature  dewpoint  rain  snowfall  \\\n0                  1     0      NaT          NaN       NaN   NaN       NaN   \n1                  2     0      NaT          NaN       NaN   NaN       NaN   \n2                  3     0      NaT          NaN       NaN   NaN       NaN   \n3                  0     0      NaT          NaN       NaN   NaN       NaN   \n4                  1     0      NaT          NaN       NaN   NaN       NaN   \n...              ...   ...      ...          ...       ...   ...       ...   \n524282             1    20      NaT          NaN       NaN   NaN       NaN   \n524283             3    20      NaT          NaN       NaN   NaN       NaN   \n524284             3    20      NaT          NaN       NaN   NaN       NaN   \n524285             1    20      NaT          NaN       NaN   NaN       NaN   \n524286             3    20      NaT          NaN       NaN   NaN       NaN   \n\n        surface_pressure  cloudcover_total  cloudcover_low  cloudcover_mid  \\\n0                    NaN               NaN             NaN             NaN   \n1                    NaN               NaN             NaN             NaN   \n2                    NaN               NaN             NaN             NaN   \n3                    NaN               NaN             NaN             NaN   \n4                    NaN               NaN             NaN             NaN   \n...                  ...               ...             ...             ...   \n524282               NaN               NaN             NaN             NaN   \n524283               NaN               NaN             NaN             NaN   \n524284               NaN               NaN             NaN             NaN   \n524285               NaN               NaN             NaN             NaN   \n524286               NaN               NaN             NaN             NaN   \n\n        cloudcover_high  windspeed_10m  winddirection_10m  \\\n0                   NaN            NaN                NaN   \n1                   NaN            NaN                NaN   \n2                   NaN            NaN                NaN   \n3                   NaN            NaN                NaN   \n4                   NaN            NaN                NaN   \n...                 ...            ...                ...   \n524282              NaN            NaN                NaN   \n524283              NaN            NaN                NaN   \n524284              NaN            NaN                NaN   \n524285              NaN            NaN                NaN   \n524286              NaN            NaN                NaN   \n\n        shortwave_radiation  direct_solar_radiation  diffuse_radiation  \\\n0                       NaN                     NaN                NaN   \n1                       NaN                     NaN                NaN   \n2                       NaN                     NaN                NaN   \n3                       NaN                     NaN                NaN   \n4                       NaN                     NaN                NaN   \n...                     ...                     ...                ...   \n524282                  NaN                     NaN                NaN   \n524283                  NaN                     NaN                NaN   \n524284                  NaN                     NaN                NaN   \n524285                  NaN                     NaN                NaN   \n524286                  NaN                     NaN                NaN   \n\n        latitude  longitude  year  month  day  \n0            NaN        NaN   NaN    NaN  NaN  \n1            NaN        NaN   NaN    NaN  NaN  \n2            NaN        NaN   NaN    NaN  NaN  \n3            NaN        NaN   NaN    NaN  NaN  \n4            NaN        NaN   NaN    NaN  NaN  \n...          ...        ...   ...    ...  ...  \n524282       NaN        NaN   NaN    NaN  NaN  \n524283       NaN        NaN   NaN    NaN  NaN  \n524284       NaN        NaN   NaN    NaN  NaN  \n524285       NaN        NaN   NaN    NaN  NaN  \n524286       NaN        NaN   NaN    NaN  NaN  \n\n[524287 rows x 27 columns]",
      "text/html": "<div>\n<style scoped>\n    .dataframe tbody tr th:only-of-type {\n        vertical-align: middle;\n    }\n\n    .dataframe tbody tr th {\n        vertical-align: top;\n    }\n\n    .dataframe thead th {\n        text-align: right;\n    }\n</style>\n<table border=\"1\" class=\"dataframe\">\n  <thead>\n    <tr style=\"text-align: right;\">\n      <th></th>\n      <th>county</th>\n      <th>data_block_id</th>\n      <th>target</th>\n      <th>is_consumption</th>\n      <th>is_business</th>\n      <th>product_type</th>\n      <th>hour</th>\n      <th>datetime</th>\n      <th>temperature</th>\n      <th>dewpoint</th>\n      <th>rain</th>\n      <th>snowfall</th>\n      <th>surface_pressure</th>\n      <th>cloudcover_total</th>\n      <th>cloudcover_low</th>\n      <th>cloudcover_mid</th>\n      <th>cloudcover_high</th>\n      <th>windspeed_10m</th>\n      <th>winddirection_10m</th>\n      <th>shortwave_radiation</th>\n      <th>direct_solar_radiation</th>\n      <th>diffuse_radiation</th>\n      <th>latitude</th>\n      <th>longitude</th>\n      <th>year</th>\n      <th>month</th>\n      <th>day</th>\n    </tr>\n  </thead>\n  <tbody>\n    <tr>\n      <th>0</th>\n      <td>0</td>\n      <td>0</td>\n      <td>96.590</td>\n      <td>1</td>\n      <td>0</td>\n      <td>1</td>\n      <td>0</td>\n      <td>NaT</td>\n      <td>NaN</td>\n      <td>NaN</td>\n      <td>NaN</td>\n      <td>NaN</td>\n      <td>NaN</td>\n      <td>NaN</td>\n      <td>NaN</td>\n      <td>NaN</td>\n      <td>NaN</td>\n      <td>NaN</td>\n      <td>NaN</td>\n      <td>NaN</td>\n      <td>NaN</td>\n      <td>NaN</td>\n      <td>NaN</td>\n      <td>NaN</td>\n      <td>NaN</td>\n      <td>NaN</td>\n      <td>NaN</td>\n    </tr>\n    <tr>\n      <th>1</th>\n      <td>0</td>\n      <td>0</td>\n      <td>17.314</td>\n      <td>1</td>\n      <td>0</td>\n      <td>2</td>\n      <td>0</td>\n      <td>NaT</td>\n      <td>NaN</td>\n      <td>NaN</td>\n      <td>NaN</td>\n      <td>NaN</td>\n      <td>NaN</td>\n      <td>NaN</td>\n      <td>NaN</td>\n      <td>NaN</td>\n      <td>NaN</td>\n      <td>NaN</td>\n      <td>NaN</td>\n      <td>NaN</td>\n      <td>NaN</td>\n      <td>NaN</td>\n      <td>NaN</td>\n      <td>NaN</td>\n      <td>NaN</td>\n      <td>NaN</td>\n      <td>NaN</td>\n    </tr>\n    <tr>\n      <th>2</th>\n      <td>0</td>\n      <td>0</td>\n      <td>656.859</td>\n      <td>1</td>\n      <td>0</td>\n      <td>3</td>\n      <td>0</td>\n      <td>NaT</td>\n      <td>NaN</td>\n      <td>NaN</td>\n      <td>NaN</td>\n      <td>NaN</td>\n      <td>NaN</td>\n      <td>NaN</td>\n      <td>NaN</td>\n      <td>NaN</td>\n      <td>NaN</td>\n      <td>NaN</td>\n      <td>NaN</td>\n      <td>NaN</td>\n      <td>NaN</td>\n      <td>NaN</td>\n      <td>NaN</td>\n      <td>NaN</td>\n      <td>NaN</td>\n      <td>NaN</td>\n      <td>NaN</td>\n    </tr>\n    <tr>\n      <th>3</th>\n      <td>0</td>\n      <td>0</td>\n      <td>59.000</td>\n      <td>1</td>\n      <td>1</td>\n      <td>0</td>\n      <td>0</td>\n      <td>NaT</td>\n      <td>NaN</td>\n      <td>NaN</td>\n      <td>NaN</td>\n      <td>NaN</td>\n      <td>NaN</td>\n      <td>NaN</td>\n      <td>NaN</td>\n      <td>NaN</td>\n      <td>NaN</td>\n      <td>NaN</td>\n      <td>NaN</td>\n      <td>NaN</td>\n      <td>NaN</td>\n      <td>NaN</td>\n      <td>NaN</td>\n      <td>NaN</td>\n      <td>NaN</td>\n      <td>NaN</td>\n      <td>NaN</td>\n    </tr>\n    <tr>\n      <th>4</th>\n      <td>0</td>\n      <td>0</td>\n      <td>501.760</td>\n      <td>1</td>\n      <td>1</td>\n      <td>1</td>\n      <td>0</td>\n      <td>NaT</td>\n      <td>NaN</td>\n      <td>NaN</td>\n      <td>NaN</td>\n      <td>NaN</td>\n      <td>NaN</td>\n      <td>NaN</td>\n      <td>NaN</td>\n      <td>NaN</td>\n      <td>NaN</td>\n      <td>NaN</td>\n      <td>NaN</td>\n      <td>NaN</td>\n      <td>NaN</td>\n      <td>NaN</td>\n      <td>NaN</td>\n      <td>NaN</td>\n      <td>NaN</td>\n      <td>NaN</td>\n      <td>NaN</td>\n    </tr>\n    <tr>\n      <th>...</th>\n      <td>...</td>\n      <td>...</td>\n      <td>...</td>\n      <td>...</td>\n      <td>...</td>\n      <td>...</td>\n      <td>...</td>\n      <td>...</td>\n      <td>...</td>\n      <td>...</td>\n      <td>...</td>\n      <td>...</td>\n      <td>...</td>\n      <td>...</td>\n      <td>...</td>\n      <td>...</td>\n      <td>...</td>\n      <td>...</td>\n      <td>...</td>\n      <td>...</td>\n      <td>...</td>\n      <td>...</td>\n      <td>...</td>\n      <td>...</td>\n      <td>...</td>\n      <td>...</td>\n      <td>...</td>\n    </tr>\n    <tr>\n      <th>524282</th>\n      <td>5</td>\n      <td>335</td>\n      <td>70.632</td>\n      <td>1</td>\n      <td>1</td>\n      <td>1</td>\n      <td>20</td>\n      <td>NaT</td>\n      <td>NaN</td>\n      <td>NaN</td>\n      <td>NaN</td>\n      <td>NaN</td>\n      <td>NaN</td>\n      <td>NaN</td>\n      <td>NaN</td>\n      <td>NaN</td>\n      <td>NaN</td>\n      <td>NaN</td>\n      <td>NaN</td>\n      <td>NaN</td>\n      <td>NaN</td>\n      <td>NaN</td>\n      <td>NaN</td>\n      <td>NaN</td>\n      <td>NaN</td>\n      <td>NaN</td>\n      <td>NaN</td>\n    </tr>\n    <tr>\n      <th>524283</th>\n      <td>5</td>\n      <td>335</td>\n      <td>676.373</td>\n      <td>1</td>\n      <td>1</td>\n      <td>3</td>\n      <td>20</td>\n      <td>NaT</td>\n      <td>NaN</td>\n      <td>NaN</td>\n      <td>NaN</td>\n      <td>NaN</td>\n      <td>NaN</td>\n      <td>NaN</td>\n      <td>NaN</td>\n      <td>NaN</td>\n      <td>NaN</td>\n      <td>NaN</td>\n      <td>NaN</td>\n      <td>NaN</td>\n      <td>NaN</td>\n      <td>NaN</td>\n      <td>NaN</td>\n      <td>NaN</td>\n      <td>NaN</td>\n      <td>NaN</td>\n      <td>NaN</td>\n    </tr>\n    <tr>\n      <th>524284</th>\n      <td>6</td>\n      <td>335</td>\n      <td>217.705</td>\n      <td>1</td>\n      <td>1</td>\n      <td>3</td>\n      <td>20</td>\n      <td>NaT</td>\n      <td>NaN</td>\n      <td>NaN</td>\n      <td>NaN</td>\n      <td>NaN</td>\n      <td>NaN</td>\n      <td>NaN</td>\n      <td>NaN</td>\n      <td>NaN</td>\n      <td>NaN</td>\n      <td>NaN</td>\n      <td>NaN</td>\n      <td>NaN</td>\n      <td>NaN</td>\n      <td>NaN</td>\n      <td>NaN</td>\n      <td>NaN</td>\n      <td>NaN</td>\n      <td>NaN</td>\n      <td>NaN</td>\n    </tr>\n    <tr>\n      <th>524285</th>\n      <td>7</td>\n      <td>335</td>\n      <td>46.429</td>\n      <td>1</td>\n      <td>0</td>\n      <td>1</td>\n      <td>20</td>\n      <td>NaT</td>\n      <td>NaN</td>\n      <td>NaN</td>\n      <td>NaN</td>\n      <td>NaN</td>\n      <td>NaN</td>\n      <td>NaN</td>\n      <td>NaN</td>\n      <td>NaN</td>\n      <td>NaN</td>\n      <td>NaN</td>\n      <td>NaN</td>\n      <td>NaN</td>\n      <td>NaN</td>\n      <td>NaN</td>\n      <td>NaN</td>\n      <td>NaN</td>\n      <td>NaN</td>\n      <td>NaN</td>\n      <td>NaN</td>\n    </tr>\n    <tr>\n      <th>524286</th>\n      <td>7</td>\n      <td>335</td>\n      <td>118.012</td>\n      <td>1</td>\n      <td>0</td>\n      <td>3</td>\n      <td>20</td>\n      <td>NaT</td>\n      <td>NaN</td>\n      <td>NaN</td>\n      <td>NaN</td>\n      <td>NaN</td>\n      <td>NaN</td>\n      <td>NaN</td>\n      <td>NaN</td>\n      <td>NaN</td>\n      <td>NaN</td>\n      <td>NaN</td>\n      <td>NaN</td>\n      <td>NaN</td>\n      <td>NaN</td>\n      <td>NaN</td>\n      <td>NaN</td>\n      <td>NaN</td>\n      <td>NaN</td>\n      <td>NaN</td>\n      <td>NaN</td>\n    </tr>\n  </tbody>\n</table>\n<p>524287 rows × 27 columns</p>\n</div>"
     },
     "execution_count": 82,
     "metadata": {},
     "output_type": "execute_result"
    }
   ],
   "execution_count": 82
  },
  {
   "cell_type": "code",
   "execution_count": 53,
   "outputs": [],
   "source": [
    "train_new_no_consumption = train_new[train_new['is_consumption']==0]"
   ],
   "metadata": {
    "collapsed": false,
    "ExecuteTime": {
     "end_time": "2023-12-05T04:30:11.447975800Z",
     "start_time": "2023-12-05T04:30:11.343831300Z"
    }
   }
  },
  {
   "cell_type": "code",
   "execution_count": 54,
   "outputs": [],
   "source": [
    "merged_no_consumption  = pd.merge(train_new_no_consumption, historical_weather,how='left', on=['data_block_id', 'county','hour'])"
   ],
   "metadata": {
    "collapsed": false,
    "ExecuteTime": {
     "end_time": "2023-12-05T04:30:11.495778600Z",
     "start_time": "2023-12-05T04:30:11.362492700Z"
    }
   }
  },
  {
   "cell_type": "code",
   "execution_count": 55,
   "outputs": [
    {
     "data": {
      "text/plain": "        county  data_block_id  target  is_consumption  is_business  \\\n0            0              0   0.713               0            0   \n1            0              0   0.000               0            0   \n2            0              0   2.904               0            0   \n3            0              0   0.000               0            1   \n4            0              0   0.000               0            1   \n...        ...            ...     ...             ...          ...   \n524283       5            335  24.534               0            1   \n524284       6            335   6.001               0            1   \n524285       7            335  16.237               0            0   \n524286       7            335  49.939               0            0   \n524287       7            335   9.030               0            1   \n\n        product_type  hour datetime  temperature  dewpoint  rain  snowfall  \\\n0                  1     0      NaT          NaN       NaN   NaN       NaN   \n1                  2     0      NaT          NaN       NaN   NaN       NaN   \n2                  3     0      NaT          NaN       NaN   NaN       NaN   \n3                  0     0      NaT          NaN       NaN   NaN       NaN   \n4                  1     0      NaT          NaN       NaN   NaN       NaN   \n...              ...   ...      ...          ...       ...   ...       ...   \n524283             3    20      NaT          NaN       NaN   NaN       NaN   \n524284             3    20      NaT          NaN       NaN   NaN       NaN   \n524285             1    20      NaT          NaN       NaN   NaN       NaN   \n524286             3    20      NaT          NaN       NaN   NaN       NaN   \n524287             0    20      NaT          NaN       NaN   NaN       NaN   \n\n        surface_pressure  cloudcover_total  cloudcover_low  cloudcover_mid  \\\n0                    NaN               NaN             NaN             NaN   \n1                    NaN               NaN             NaN             NaN   \n2                    NaN               NaN             NaN             NaN   \n3                    NaN               NaN             NaN             NaN   \n4                    NaN               NaN             NaN             NaN   \n...                  ...               ...             ...             ...   \n524283               NaN               NaN             NaN             NaN   \n524284               NaN               NaN             NaN             NaN   \n524285               NaN               NaN             NaN             NaN   \n524286               NaN               NaN             NaN             NaN   \n524287               NaN               NaN             NaN             NaN   \n\n        cloudcover_high  windspeed_10m  winddirection_10m  \\\n0                   NaN            NaN                NaN   \n1                   NaN            NaN                NaN   \n2                   NaN            NaN                NaN   \n3                   NaN            NaN                NaN   \n4                   NaN            NaN                NaN   \n...                 ...            ...                ...   \n524283              NaN            NaN                NaN   \n524284              NaN            NaN                NaN   \n524285              NaN            NaN                NaN   \n524286              NaN            NaN                NaN   \n524287              NaN            NaN                NaN   \n\n        shortwave_radiation  direct_solar_radiation  diffuse_radiation  \\\n0                       NaN                     NaN                NaN   \n1                       NaN                     NaN                NaN   \n2                       NaN                     NaN                NaN   \n3                       NaN                     NaN                NaN   \n4                       NaN                     NaN                NaN   \n...                     ...                     ...                ...   \n524283                  NaN                     NaN                NaN   \n524284                  NaN                     NaN                NaN   \n524285                  NaN                     NaN                NaN   \n524286                  NaN                     NaN                NaN   \n524287                  NaN                     NaN                NaN   \n\n        latitude  longitude  year  month  day  \n0            NaN        NaN   NaN    NaN  NaN  \n1            NaN        NaN   NaN    NaN  NaN  \n2            NaN        NaN   NaN    NaN  NaN  \n3            NaN        NaN   NaN    NaN  NaN  \n4            NaN        NaN   NaN    NaN  NaN  \n...          ...        ...   ...    ...  ...  \n524283       NaN        NaN   NaN    NaN  NaN  \n524284       NaN        NaN   NaN    NaN  NaN  \n524285       NaN        NaN   NaN    NaN  NaN  \n524286       NaN        NaN   NaN    NaN  NaN  \n524287       NaN        NaN   NaN    NaN  NaN  \n\n[524288 rows x 27 columns]",
      "text/html": "<div>\n<style scoped>\n    .dataframe tbody tr th:only-of-type {\n        vertical-align: middle;\n    }\n\n    .dataframe tbody tr th {\n        vertical-align: top;\n    }\n\n    .dataframe thead th {\n        text-align: right;\n    }\n</style>\n<table border=\"1\" class=\"dataframe\">\n  <thead>\n    <tr style=\"text-align: right;\">\n      <th></th>\n      <th>county</th>\n      <th>data_block_id</th>\n      <th>target</th>\n      <th>is_consumption</th>\n      <th>is_business</th>\n      <th>product_type</th>\n      <th>hour</th>\n      <th>datetime</th>\n      <th>temperature</th>\n      <th>dewpoint</th>\n      <th>rain</th>\n      <th>snowfall</th>\n      <th>surface_pressure</th>\n      <th>cloudcover_total</th>\n      <th>cloudcover_low</th>\n      <th>cloudcover_mid</th>\n      <th>cloudcover_high</th>\n      <th>windspeed_10m</th>\n      <th>winddirection_10m</th>\n      <th>shortwave_radiation</th>\n      <th>direct_solar_radiation</th>\n      <th>diffuse_radiation</th>\n      <th>latitude</th>\n      <th>longitude</th>\n      <th>year</th>\n      <th>month</th>\n      <th>day</th>\n    </tr>\n  </thead>\n  <tbody>\n    <tr>\n      <th>0</th>\n      <td>0</td>\n      <td>0</td>\n      <td>0.713</td>\n      <td>0</td>\n      <td>0</td>\n      <td>1</td>\n      <td>0</td>\n      <td>NaT</td>\n      <td>NaN</td>\n      <td>NaN</td>\n      <td>NaN</td>\n      <td>NaN</td>\n      <td>NaN</td>\n      <td>NaN</td>\n      <td>NaN</td>\n      <td>NaN</td>\n      <td>NaN</td>\n      <td>NaN</td>\n      <td>NaN</td>\n      <td>NaN</td>\n      <td>NaN</td>\n      <td>NaN</td>\n      <td>NaN</td>\n      <td>NaN</td>\n      <td>NaN</td>\n      <td>NaN</td>\n      <td>NaN</td>\n    </tr>\n    <tr>\n      <th>1</th>\n      <td>0</td>\n      <td>0</td>\n      <td>0.000</td>\n      <td>0</td>\n      <td>0</td>\n      <td>2</td>\n      <td>0</td>\n      <td>NaT</td>\n      <td>NaN</td>\n      <td>NaN</td>\n      <td>NaN</td>\n      <td>NaN</td>\n      <td>NaN</td>\n      <td>NaN</td>\n      <td>NaN</td>\n      <td>NaN</td>\n      <td>NaN</td>\n      <td>NaN</td>\n      <td>NaN</td>\n      <td>NaN</td>\n      <td>NaN</td>\n      <td>NaN</td>\n      <td>NaN</td>\n      <td>NaN</td>\n      <td>NaN</td>\n      <td>NaN</td>\n      <td>NaN</td>\n    </tr>\n    <tr>\n      <th>2</th>\n      <td>0</td>\n      <td>0</td>\n      <td>2.904</td>\n      <td>0</td>\n      <td>0</td>\n      <td>3</td>\n      <td>0</td>\n      <td>NaT</td>\n      <td>NaN</td>\n      <td>NaN</td>\n      <td>NaN</td>\n      <td>NaN</td>\n      <td>NaN</td>\n      <td>NaN</td>\n      <td>NaN</td>\n      <td>NaN</td>\n      <td>NaN</td>\n      <td>NaN</td>\n      <td>NaN</td>\n      <td>NaN</td>\n      <td>NaN</td>\n      <td>NaN</td>\n      <td>NaN</td>\n      <td>NaN</td>\n      <td>NaN</td>\n      <td>NaN</td>\n      <td>NaN</td>\n    </tr>\n    <tr>\n      <th>3</th>\n      <td>0</td>\n      <td>0</td>\n      <td>0.000</td>\n      <td>0</td>\n      <td>1</td>\n      <td>0</td>\n      <td>0</td>\n      <td>NaT</td>\n      <td>NaN</td>\n      <td>NaN</td>\n      <td>NaN</td>\n      <td>NaN</td>\n      <td>NaN</td>\n      <td>NaN</td>\n      <td>NaN</td>\n      <td>NaN</td>\n      <td>NaN</td>\n      <td>NaN</td>\n      <td>NaN</td>\n      <td>NaN</td>\n      <td>NaN</td>\n      <td>NaN</td>\n      <td>NaN</td>\n      <td>NaN</td>\n      <td>NaN</td>\n      <td>NaN</td>\n      <td>NaN</td>\n    </tr>\n    <tr>\n      <th>4</th>\n      <td>0</td>\n      <td>0</td>\n      <td>0.000</td>\n      <td>0</td>\n      <td>1</td>\n      <td>1</td>\n      <td>0</td>\n      <td>NaT</td>\n      <td>NaN</td>\n      <td>NaN</td>\n      <td>NaN</td>\n      <td>NaN</td>\n      <td>NaN</td>\n      <td>NaN</td>\n      <td>NaN</td>\n      <td>NaN</td>\n      <td>NaN</td>\n      <td>NaN</td>\n      <td>NaN</td>\n      <td>NaN</td>\n      <td>NaN</td>\n      <td>NaN</td>\n      <td>NaN</td>\n      <td>NaN</td>\n      <td>NaN</td>\n      <td>NaN</td>\n      <td>NaN</td>\n    </tr>\n    <tr>\n      <th>...</th>\n      <td>...</td>\n      <td>...</td>\n      <td>...</td>\n      <td>...</td>\n      <td>...</td>\n      <td>...</td>\n      <td>...</td>\n      <td>...</td>\n      <td>...</td>\n      <td>...</td>\n      <td>...</td>\n      <td>...</td>\n      <td>...</td>\n      <td>...</td>\n      <td>...</td>\n      <td>...</td>\n      <td>...</td>\n      <td>...</td>\n      <td>...</td>\n      <td>...</td>\n      <td>...</td>\n      <td>...</td>\n      <td>...</td>\n      <td>...</td>\n      <td>...</td>\n      <td>...</td>\n      <td>...</td>\n    </tr>\n    <tr>\n      <th>524283</th>\n      <td>5</td>\n      <td>335</td>\n      <td>24.534</td>\n      <td>0</td>\n      <td>1</td>\n      <td>3</td>\n      <td>20</td>\n      <td>NaT</td>\n      <td>NaN</td>\n      <td>NaN</td>\n      <td>NaN</td>\n      <td>NaN</td>\n      <td>NaN</td>\n      <td>NaN</td>\n      <td>NaN</td>\n      <td>NaN</td>\n      <td>NaN</td>\n      <td>NaN</td>\n      <td>NaN</td>\n      <td>NaN</td>\n      <td>NaN</td>\n      <td>NaN</td>\n      <td>NaN</td>\n      <td>NaN</td>\n      <td>NaN</td>\n      <td>NaN</td>\n      <td>NaN</td>\n    </tr>\n    <tr>\n      <th>524284</th>\n      <td>6</td>\n      <td>335</td>\n      <td>6.001</td>\n      <td>0</td>\n      <td>1</td>\n      <td>3</td>\n      <td>20</td>\n      <td>NaT</td>\n      <td>NaN</td>\n      <td>NaN</td>\n      <td>NaN</td>\n      <td>NaN</td>\n      <td>NaN</td>\n      <td>NaN</td>\n      <td>NaN</td>\n      <td>NaN</td>\n      <td>NaN</td>\n      <td>NaN</td>\n      <td>NaN</td>\n      <td>NaN</td>\n      <td>NaN</td>\n      <td>NaN</td>\n      <td>NaN</td>\n      <td>NaN</td>\n      <td>NaN</td>\n      <td>NaN</td>\n      <td>NaN</td>\n    </tr>\n    <tr>\n      <th>524285</th>\n      <td>7</td>\n      <td>335</td>\n      <td>16.237</td>\n      <td>0</td>\n      <td>0</td>\n      <td>1</td>\n      <td>20</td>\n      <td>NaT</td>\n      <td>NaN</td>\n      <td>NaN</td>\n      <td>NaN</td>\n      <td>NaN</td>\n      <td>NaN</td>\n      <td>NaN</td>\n      <td>NaN</td>\n      <td>NaN</td>\n      <td>NaN</td>\n      <td>NaN</td>\n      <td>NaN</td>\n      <td>NaN</td>\n      <td>NaN</td>\n      <td>NaN</td>\n      <td>NaN</td>\n      <td>NaN</td>\n      <td>NaN</td>\n      <td>NaN</td>\n      <td>NaN</td>\n    </tr>\n    <tr>\n      <th>524286</th>\n      <td>7</td>\n      <td>335</td>\n      <td>49.939</td>\n      <td>0</td>\n      <td>0</td>\n      <td>3</td>\n      <td>20</td>\n      <td>NaT</td>\n      <td>NaN</td>\n      <td>NaN</td>\n      <td>NaN</td>\n      <td>NaN</td>\n      <td>NaN</td>\n      <td>NaN</td>\n      <td>NaN</td>\n      <td>NaN</td>\n      <td>NaN</td>\n      <td>NaN</td>\n      <td>NaN</td>\n      <td>NaN</td>\n      <td>NaN</td>\n      <td>NaN</td>\n      <td>NaN</td>\n      <td>NaN</td>\n      <td>NaN</td>\n      <td>NaN</td>\n      <td>NaN</td>\n    </tr>\n    <tr>\n      <th>524287</th>\n      <td>7</td>\n      <td>335</td>\n      <td>9.030</td>\n      <td>0</td>\n      <td>1</td>\n      <td>0</td>\n      <td>20</td>\n      <td>NaT</td>\n      <td>NaN</td>\n      <td>NaN</td>\n      <td>NaN</td>\n      <td>NaN</td>\n      <td>NaN</td>\n      <td>NaN</td>\n      <td>NaN</td>\n      <td>NaN</td>\n      <td>NaN</td>\n      <td>NaN</td>\n      <td>NaN</td>\n      <td>NaN</td>\n      <td>NaN</td>\n      <td>NaN</td>\n      <td>NaN</td>\n      <td>NaN</td>\n      <td>NaN</td>\n      <td>NaN</td>\n      <td>NaN</td>\n    </tr>\n  </tbody>\n</table>\n<p>524288 rows × 27 columns</p>\n</div>"
     },
     "execution_count": 55,
     "metadata": {},
     "output_type": "execute_result"
    }
   ],
   "source": [
    "merged_no_consumption"
   ],
   "metadata": {
    "collapsed": false,
    "ExecuteTime": {
     "end_time": "2023-12-05T04:30:11.544313800Z",
     "start_time": "2023-12-05T04:30:11.454068200Z"
    }
   }
  },
  {
   "cell_type": "code",
   "execution_count": 56,
   "outputs": [
    {
     "data": {
      "text/plain": "        county  data_block_id   target  is_consumption  is_business  \\\n1464         0              1  109.366               1            0   \n1465         0              1   21.008               1            0   \n1466         0              1  735.696               1            0   \n1467         0              1   75.800               1            1   \n1468         0              1  502.241               1            1   \n...        ...            ...      ...             ...          ...   \n523723      15            335   12.906               1            0   \n523724      15            335   16.764               1            0   \n523725      15            335  677.150               1            1   \n523726      15            335   39.539               1            1   \n523727      15            335  635.069               1            1   \n\n        product_type  hour            datetime  temperature  dewpoint  rain  \\\n1464               1     0 2021-09-01 00:00:00         13.4      11.0   0.0   \n1465               2     0 2021-09-01 00:00:00         13.4      11.0   0.0   \n1466               3     0 2021-09-01 00:00:00         13.4      11.0   0.0   \n1467               0     0 2021-09-01 00:00:00         13.4      11.0   0.0   \n1468               1     0 2021-09-01 00:00:00         13.4      11.0   0.0   \n...              ...   ...                 ...          ...       ...   ...   \n523723             1    11 2022-07-31 11:00:00         18.2       9.7   0.0   \n523724             3    11 2022-07-31 11:00:00         18.2       9.7   0.0   \n523725             0    11 2022-07-31 11:00:00         18.2       9.7   0.0   \n523726             1    11 2022-07-31 11:00:00         18.2       9.7   0.0   \n523727             3    11 2022-07-31 11:00:00         18.2       9.7   0.0   \n\n        snowfall  surface_pressure  cloudcover_total  cloudcover_low  \\\n1464         0.0            1009.2              38.0            42.0   \n1465         0.0            1009.2              38.0            42.0   \n1466         0.0            1009.2              38.0            42.0   \n1467         0.0            1009.2              38.0            42.0   \n1468         0.0            1009.2              38.0            42.0   \n...          ...               ...               ...             ...   \n523723       0.0            1005.8              30.0             0.0   \n523724       0.0            1005.8              30.0             0.0   \n523725       0.0            1005.8              30.0             0.0   \n523726       0.0            1005.8              30.0             0.0   \n523727       0.0            1005.8              30.0             0.0   \n\n        cloudcover_mid  cloudcover_high  windspeed_10m  winddirection_10m  \\\n1464               0.0              0.0       3.500000              336.0   \n1465               0.0              0.0       3.500000              336.0   \n1466               0.0              0.0       3.500000              336.0   \n1467               0.0              0.0       3.500000              336.0   \n1468               0.0              0.0       3.500000              336.0   \n...                ...              ...            ...                ...   \n523723             0.0             99.0       0.555556               45.0   \n523724             0.0             99.0       0.555556               45.0   \n523725             0.0             99.0       0.555556               45.0   \n523726             0.0             99.0       0.555556               45.0   \n523727             0.0             99.0       0.555556               45.0   \n\n        shortwave_radiation  direct_solar_radiation  diffuse_radiation  \\\n1464                    0.0                     0.0                0.0   \n1465                    0.0                     0.0                0.0   \n1466                    0.0                     0.0                0.0   \n1467                    0.0                     0.0                0.0   \n1468                    0.0                     0.0                0.0   \n...                     ...                     ...                ...   \n523723                593.0                   464.0              129.0   \n523724                593.0                   464.0              129.0   \n523725                593.0                   464.0              129.0   \n523726                593.0                   464.0              129.0   \n523727                593.0                   464.0              129.0   \n\n        latitude  longitude    year  month   day  \n1464       591.0      242.0  2021.0    9.0   1.0  \n1465       591.0      242.0  2021.0    9.0   1.0  \n1466       591.0      242.0  2021.0    9.0   1.0  \n1467       591.0      242.0  2021.0    9.0   1.0  \n1468       591.0      242.0  2021.0    9.0   1.0  \n...          ...        ...     ...    ...   ...  \n523723     576.0      267.0  2022.0    7.0  31.0  \n523724     576.0      267.0  2022.0    7.0  31.0  \n523725     576.0      267.0  2022.0    7.0  31.0  \n523726     576.0      267.0  2022.0    7.0  31.0  \n523727     576.0      267.0  2022.0    7.0  31.0  \n\n[21459 rows x 27 columns]",
      "text/html": "<div>\n<style scoped>\n    .dataframe tbody tr th:only-of-type {\n        vertical-align: middle;\n    }\n\n    .dataframe tbody tr th {\n        vertical-align: top;\n    }\n\n    .dataframe thead th {\n        text-align: right;\n    }\n</style>\n<table border=\"1\" class=\"dataframe\">\n  <thead>\n    <tr style=\"text-align: right;\">\n      <th></th>\n      <th>county</th>\n      <th>data_block_id</th>\n      <th>target</th>\n      <th>is_consumption</th>\n      <th>is_business</th>\n      <th>product_type</th>\n      <th>hour</th>\n      <th>datetime</th>\n      <th>temperature</th>\n      <th>dewpoint</th>\n      <th>rain</th>\n      <th>snowfall</th>\n      <th>surface_pressure</th>\n      <th>cloudcover_total</th>\n      <th>cloudcover_low</th>\n      <th>cloudcover_mid</th>\n      <th>cloudcover_high</th>\n      <th>windspeed_10m</th>\n      <th>winddirection_10m</th>\n      <th>shortwave_radiation</th>\n      <th>direct_solar_radiation</th>\n      <th>diffuse_radiation</th>\n      <th>latitude</th>\n      <th>longitude</th>\n      <th>year</th>\n      <th>month</th>\n      <th>day</th>\n    </tr>\n  </thead>\n  <tbody>\n    <tr>\n      <th>1464</th>\n      <td>0</td>\n      <td>1</td>\n      <td>109.366</td>\n      <td>1</td>\n      <td>0</td>\n      <td>1</td>\n      <td>0</td>\n      <td>2021-09-01 00:00:00</td>\n      <td>13.4</td>\n      <td>11.0</td>\n      <td>0.0</td>\n      <td>0.0</td>\n      <td>1009.2</td>\n      <td>38.0</td>\n      <td>42.0</td>\n      <td>0.0</td>\n      <td>0.0</td>\n      <td>3.500000</td>\n      <td>336.0</td>\n      <td>0.0</td>\n      <td>0.0</td>\n      <td>0.0</td>\n      <td>591.0</td>\n      <td>242.0</td>\n      <td>2021.0</td>\n      <td>9.0</td>\n      <td>1.0</td>\n    </tr>\n    <tr>\n      <th>1465</th>\n      <td>0</td>\n      <td>1</td>\n      <td>21.008</td>\n      <td>1</td>\n      <td>0</td>\n      <td>2</td>\n      <td>0</td>\n      <td>2021-09-01 00:00:00</td>\n      <td>13.4</td>\n      <td>11.0</td>\n      <td>0.0</td>\n      <td>0.0</td>\n      <td>1009.2</td>\n      <td>38.0</td>\n      <td>42.0</td>\n      <td>0.0</td>\n      <td>0.0</td>\n      <td>3.500000</td>\n      <td>336.0</td>\n      <td>0.0</td>\n      <td>0.0</td>\n      <td>0.0</td>\n      <td>591.0</td>\n      <td>242.0</td>\n      <td>2021.0</td>\n      <td>9.0</td>\n      <td>1.0</td>\n    </tr>\n    <tr>\n      <th>1466</th>\n      <td>0</td>\n      <td>1</td>\n      <td>735.696</td>\n      <td>1</td>\n      <td>0</td>\n      <td>3</td>\n      <td>0</td>\n      <td>2021-09-01 00:00:00</td>\n      <td>13.4</td>\n      <td>11.0</td>\n      <td>0.0</td>\n      <td>0.0</td>\n      <td>1009.2</td>\n      <td>38.0</td>\n      <td>42.0</td>\n      <td>0.0</td>\n      <td>0.0</td>\n      <td>3.500000</td>\n      <td>336.0</td>\n      <td>0.0</td>\n      <td>0.0</td>\n      <td>0.0</td>\n      <td>591.0</td>\n      <td>242.0</td>\n      <td>2021.0</td>\n      <td>9.0</td>\n      <td>1.0</td>\n    </tr>\n    <tr>\n      <th>1467</th>\n      <td>0</td>\n      <td>1</td>\n      <td>75.800</td>\n      <td>1</td>\n      <td>1</td>\n      <td>0</td>\n      <td>0</td>\n      <td>2021-09-01 00:00:00</td>\n      <td>13.4</td>\n      <td>11.0</td>\n      <td>0.0</td>\n      <td>0.0</td>\n      <td>1009.2</td>\n      <td>38.0</td>\n      <td>42.0</td>\n      <td>0.0</td>\n      <td>0.0</td>\n      <td>3.500000</td>\n      <td>336.0</td>\n      <td>0.0</td>\n      <td>0.0</td>\n      <td>0.0</td>\n      <td>591.0</td>\n      <td>242.0</td>\n      <td>2021.0</td>\n      <td>9.0</td>\n      <td>1.0</td>\n    </tr>\n    <tr>\n      <th>1468</th>\n      <td>0</td>\n      <td>1</td>\n      <td>502.241</td>\n      <td>1</td>\n      <td>1</td>\n      <td>1</td>\n      <td>0</td>\n      <td>2021-09-01 00:00:00</td>\n      <td>13.4</td>\n      <td>11.0</td>\n      <td>0.0</td>\n      <td>0.0</td>\n      <td>1009.2</td>\n      <td>38.0</td>\n      <td>42.0</td>\n      <td>0.0</td>\n      <td>0.0</td>\n      <td>3.500000</td>\n      <td>336.0</td>\n      <td>0.0</td>\n      <td>0.0</td>\n      <td>0.0</td>\n      <td>591.0</td>\n      <td>242.0</td>\n      <td>2021.0</td>\n      <td>9.0</td>\n      <td>1.0</td>\n    </tr>\n    <tr>\n      <th>...</th>\n      <td>...</td>\n      <td>...</td>\n      <td>...</td>\n      <td>...</td>\n      <td>...</td>\n      <td>...</td>\n      <td>...</td>\n      <td>...</td>\n      <td>...</td>\n      <td>...</td>\n      <td>...</td>\n      <td>...</td>\n      <td>...</td>\n      <td>...</td>\n      <td>...</td>\n      <td>...</td>\n      <td>...</td>\n      <td>...</td>\n      <td>...</td>\n      <td>...</td>\n      <td>...</td>\n      <td>...</td>\n      <td>...</td>\n      <td>...</td>\n      <td>...</td>\n      <td>...</td>\n      <td>...</td>\n    </tr>\n    <tr>\n      <th>523723</th>\n      <td>15</td>\n      <td>335</td>\n      <td>12.906</td>\n      <td>1</td>\n      <td>0</td>\n      <td>1</td>\n      <td>11</td>\n      <td>2022-07-31 11:00:00</td>\n      <td>18.2</td>\n      <td>9.7</td>\n      <td>0.0</td>\n      <td>0.0</td>\n      <td>1005.8</td>\n      <td>30.0</td>\n      <td>0.0</td>\n      <td>0.0</td>\n      <td>99.0</td>\n      <td>0.555556</td>\n      <td>45.0</td>\n      <td>593.0</td>\n      <td>464.0</td>\n      <td>129.0</td>\n      <td>576.0</td>\n      <td>267.0</td>\n      <td>2022.0</td>\n      <td>7.0</td>\n      <td>31.0</td>\n    </tr>\n    <tr>\n      <th>523724</th>\n      <td>15</td>\n      <td>335</td>\n      <td>16.764</td>\n      <td>1</td>\n      <td>0</td>\n      <td>3</td>\n      <td>11</td>\n      <td>2022-07-31 11:00:00</td>\n      <td>18.2</td>\n      <td>9.7</td>\n      <td>0.0</td>\n      <td>0.0</td>\n      <td>1005.8</td>\n      <td>30.0</td>\n      <td>0.0</td>\n      <td>0.0</td>\n      <td>99.0</td>\n      <td>0.555556</td>\n      <td>45.0</td>\n      <td>593.0</td>\n      <td>464.0</td>\n      <td>129.0</td>\n      <td>576.0</td>\n      <td>267.0</td>\n      <td>2022.0</td>\n      <td>7.0</td>\n      <td>31.0</td>\n    </tr>\n    <tr>\n      <th>523725</th>\n      <td>15</td>\n      <td>335</td>\n      <td>677.150</td>\n      <td>1</td>\n      <td>1</td>\n      <td>0</td>\n      <td>11</td>\n      <td>2022-07-31 11:00:00</td>\n      <td>18.2</td>\n      <td>9.7</td>\n      <td>0.0</td>\n      <td>0.0</td>\n      <td>1005.8</td>\n      <td>30.0</td>\n      <td>0.0</td>\n      <td>0.0</td>\n      <td>99.0</td>\n      <td>0.555556</td>\n      <td>45.0</td>\n      <td>593.0</td>\n      <td>464.0</td>\n      <td>129.0</td>\n      <td>576.0</td>\n      <td>267.0</td>\n      <td>2022.0</td>\n      <td>7.0</td>\n      <td>31.0</td>\n    </tr>\n    <tr>\n      <th>523726</th>\n      <td>15</td>\n      <td>335</td>\n      <td>39.539</td>\n      <td>1</td>\n      <td>1</td>\n      <td>1</td>\n      <td>11</td>\n      <td>2022-07-31 11:00:00</td>\n      <td>18.2</td>\n      <td>9.7</td>\n      <td>0.0</td>\n      <td>0.0</td>\n      <td>1005.8</td>\n      <td>30.0</td>\n      <td>0.0</td>\n      <td>0.0</td>\n      <td>99.0</td>\n      <td>0.555556</td>\n      <td>45.0</td>\n      <td>593.0</td>\n      <td>464.0</td>\n      <td>129.0</td>\n      <td>576.0</td>\n      <td>267.0</td>\n      <td>2022.0</td>\n      <td>7.0</td>\n      <td>31.0</td>\n    </tr>\n    <tr>\n      <th>523727</th>\n      <td>15</td>\n      <td>335</td>\n      <td>635.069</td>\n      <td>1</td>\n      <td>1</td>\n      <td>3</td>\n      <td>11</td>\n      <td>2022-07-31 11:00:00</td>\n      <td>18.2</td>\n      <td>9.7</td>\n      <td>0.0</td>\n      <td>0.0</td>\n      <td>1005.8</td>\n      <td>30.0</td>\n      <td>0.0</td>\n      <td>0.0</td>\n      <td>99.0</td>\n      <td>0.555556</td>\n      <td>45.0</td>\n      <td>593.0</td>\n      <td>464.0</td>\n      <td>129.0</td>\n      <td>576.0</td>\n      <td>267.0</td>\n      <td>2022.0</td>\n      <td>7.0</td>\n      <td>31.0</td>\n    </tr>\n  </tbody>\n</table>\n<p>21459 rows × 27 columns</p>\n</div>"
     },
     "execution_count": 56,
     "metadata": {},
     "output_type": "execute_result"
    }
   ],
   "source": [
    "merged_is_consumption = merged_is_consumption .dropna()\n",
    "merged_no_consumption = merged_no_consumption .dropna()\n",
    "merged_no_consumption\n",
    "merged_is_consumption"
   ],
   "metadata": {
    "collapsed": false,
    "ExecuteTime": {
     "end_time": "2023-12-05T04:30:11.574821900Z",
     "start_time": "2023-12-05T04:30:11.480151600Z"
    }
   }
  },
  {
   "cell_type": "markdown",
   "source": [
    "# 开始计算相关性（以county=0，product_type=1为例子）\n",
    "## 生产target的相关性\n",
    "### 生产且商用和target的相关性"
   ],
   "metadata": {
    "collapsed": false
   }
  },
  {
   "cell_type": "code",
   "execution_count": 57,
   "outputs": [
    {
     "data": {
      "text/plain": "county                         NaN\ndata_block_id            -0.517820\ntarget                    1.000000\nis_consumption                 NaN\nis_business                    NaN\nproduct_type                   NaN\nhour                      0.033814\ndatetime                 -0.517845\ntemperature              -0.649957\ndewpoint                 -0.537002\nrain                     -0.135104\nsnowfall                  0.200046\nsurface_pressure         -0.220986\ncloudcover_total          0.312041\ncloudcover_low            0.372756\ncloudcover_mid            0.118293\ncloudcover_high           0.046511\nwindspeed_10m             0.081326\nwinddirection_10m        -0.037214\nshortwave_radiation      -0.696586\ndirect_solar_radiation   -0.606428\ndiffuse_radiation        -0.688409\nlatitude                       NaN\nlongitude                      NaN\nyear                     -0.423142\nmonth                     0.224056\nday                      -0.041914\nName: target, dtype: float64"
     },
     "execution_count": 57,
     "metadata": {},
     "output_type": "execute_result"
    }
   ],
   "source": [
    "merged_is_consumption_is_business = merged_is_consumption[(merged_is_consumption['county']==0)&(merged_is_consumption['product_type']==1)&(merged_is_consumption['is_business']==1)]\n",
    "merged_is_consumption_is_business.corr().loc['target']"
   ],
   "metadata": {
    "collapsed": false,
    "ExecuteTime": {
     "end_time": "2023-12-05T04:30:11.574821900Z",
     "start_time": "2023-12-05T04:30:11.532831500Z"
    }
   }
  },
  {
   "cell_type": "markdown",
   "source": [
    "### 生产且非商用和target相关性"
   ],
   "metadata": {
    "collapsed": false
   }
  },
  {
   "cell_type": "code",
   "execution_count": 58,
   "outputs": [
    {
     "data": {
      "text/plain": "county                         NaN\ndata_block_id            -0.254746\ntarget                    1.000000\nis_consumption                 NaN\nis_business                    NaN\nproduct_type                   NaN\nhour                      0.029097\ndatetime                 -0.254763\ntemperature              -0.741181\ndewpoint                 -0.640652\nrain                     -0.101000\nsnowfall                  0.294615\nsurface_pressure         -0.410937\ncloudcover_total          0.311660\ncloudcover_low            0.349639\ncloudcover_mid            0.186548\ncloudcover_high           0.034303\nwindspeed_10m             0.095834\nwinddirection_10m        -0.002522\nshortwave_radiation      -0.672770\ndirect_solar_radiation   -0.574496\ndiffuse_radiation        -0.694033\nlatitude                       NaN\nlongitude                      NaN\nyear                     -0.074624\nmonth                    -0.107326\nday                      -0.028584\nName: target, dtype: float64"
     },
     "execution_count": 58,
     "metadata": {},
     "output_type": "execute_result"
    }
   ],
   "source": [
    "merged_is_consumption_no_business = merged_is_consumption[(merged_is_consumption['county']==0)&(merged_is_consumption['product_type']==1)&(merged_is_consumption['is_business']==0)]\n",
    "merged_is_consumption_no_business.corr().loc['target']"
   ],
   "metadata": {
    "collapsed": false,
    "ExecuteTime": {
     "end_time": "2023-12-05T04:30:11.574821900Z",
     "start_time": "2023-12-05T04:30:11.538773Z"
    }
   }
  },
  {
   "cell_type": "markdown",
   "source": [
    "### 有上图可知天气对商用和非商用用电的影响差别较低，生产用电都和温度，地表压力，辐射有高的相似度，和降雪，总体云层，最低云层具有较高相似度"
   ],
   "metadata": {
    "collapsed": false
   }
  },
  {
   "cell_type": "markdown",
   "source": [
    "### 消耗且非商用和target的相关性"
   ],
   "metadata": {
    "collapsed": false
   }
  },
  {
   "cell_type": "code",
   "execution_count": 59,
   "outputs": [
    {
     "data": {
      "text/plain": "county                         NaN\ndata_block_id             0.756872\ntarget                    1.000000\nis_consumption                 NaN\nis_business                    NaN\nproduct_type                   NaN\nhour                      0.048885\ndatetime                  0.756878\ntemperature               0.603200\ndewpoint                  0.437568\nrain                      0.131214\nsnowfall                 -0.170011\nsurface_pressure          0.226435\ncloudcover_total         -0.323466\ncloudcover_low           -0.401883\ncloudcover_mid           -0.108221\ncloudcover_high          -0.019711\nwindspeed_10m            -0.226582\nwinddirection_10m        -0.040759\nshortwave_radiation       0.772540\ndirect_solar_radiation    0.693803\ndiffuse_radiation         0.708131\nlatitude                       NaN\nlongitude                      NaN\nyear                      0.552337\nmonth                    -0.221068\nday                       0.056068\nName: target, dtype: float64"
     },
     "execution_count": 59,
     "metadata": {},
     "output_type": "execute_result"
    }
   ],
   "source": [
    "merged_no_consumption_no_business = merged_no_consumption[(merged_no_consumption['county']==0)&(merged_no_consumption['product_type']==1)&(merged_no_consumption['is_business']==0)]\n",
    "merged_no_consumption_no_business.corr().loc['target']"
   ],
   "metadata": {
    "collapsed": false,
    "ExecuteTime": {
     "end_time": "2023-12-05T04:30:11.574821900Z",
     "start_time": "2023-12-05T04:30:11.544313800Z"
    }
   }
  },
  {
   "cell_type": "markdown",
   "source": [
    "### 消耗且商用和target的相关性"
   ],
   "metadata": {
    "collapsed": false
   }
  },
  {
   "cell_type": "code",
   "execution_count": 64,
   "outputs": [
    {
     "data": {
      "text/plain": "county                         NaN\ndata_block_id             0.655760\ntarget                    1.000000\nis_consumption                 NaN\nis_business                    NaN\nproduct_type                   NaN\nhour                      0.043624\ndatetime                  0.655765\ntemperature               0.549414\ndewpoint                  0.398838\nrain                      0.131240\nsnowfall                 -0.168567\nsurface_pressure          0.195036\ncloudcover_total         -0.279624\ncloudcover_low           -0.368783\ncloudcover_mid           -0.087145\ncloudcover_high          -0.015645\nwindspeed_10m            -0.191976\nwinddirection_10m        -0.032914\nshortwave_radiation       0.703120\ndirect_solar_radiation    0.629012\ndiffuse_radiation         0.650870\nlatitude                       NaN\nlongitude                      NaN\nyear                      0.475179\nmonth                    -0.186160\nday                       0.050228\nName: target, dtype: float64"
     },
     "execution_count": 64,
     "metadata": {},
     "output_type": "execute_result"
    }
   ],
   "source": [
    "merged_no_consumption_is_business = merged_no_consumption[(merged_no_consumption['county']==0)&(merged_no_consumption['product_type']==1)&(merged_no_consumption['is_business']==1)]\n",
    "merged_no_consumption_is_business.corr().loc['target']"
   ],
   "metadata": {
    "collapsed": false,
    "ExecuteTime": {
     "end_time": "2023-12-05T04:31:51.162484900Z",
     "start_time": "2023-12-05T04:31:51.115483100Z"
    }
   }
  },
  {
   "cell_type": "code",
   "execution_count": 68,
   "outputs": [
    {
     "data": {
      "text/plain": "<Axes: >"
     },
     "execution_count": 68,
     "metadata": {},
     "output_type": "execute_result"
    },
    {
     "data": {
      "text/plain": "<Figure size 800x100 with 2 Axes>",
      "image/png": "[encoded data removed]"
     },
     "metadata": {},
     "output_type": "display_data"
    }
   ],
   "source": [
    "corr_no_consumption_is_business = merged_no_consumption_is_business.corr().loc['target']\n",
    "corr_no_consumption_no_business = merged_no_consumption_no_business.corr().loc['target']\n",
    "corr_is_consumption_is_business = merged_is_consumption_is_business.corr().loc['target']\n",
    "corr_is_consumption_no_business = merged_is_consumption_no_business.corr().loc['target']\n",
    "plt.figure(figsize=(8,1))\n",
    "corr_is_consumption_no_business.rename('target_iscp_nobusiness', inplace=True)\n",
    "corr_is_consumption_is_business.rename('target_iscp_isbusiness', inplace=True)\n",
    "corr_no_consumption_no_business.rename('target_nocp_nobusiness', inplace=True)\n",
    "corr_no_consumption_is_business.rename('target_nocp_isbusiness', inplace=True)\n",
    "corr_data = pd.concat([corr_is_consumption_no_business, corr_is_consumption_is_business, corr_no_consumption_no_business,\n",
    "                       corr_no_consumption_is_business], axis=1)\n",
    "sns.heatmap(corr_data.T, cmap='coolwarm')"
   ],
   "metadata": {
    "collapsed": false,
    "ExecuteTime": {
     "end_time": "2023-12-05T04:32:39.533440200Z",
     "start_time": "2023-12-05T04:32:39.286930700Z"
    }
   }
  },
  {
   "cell_type": "markdown",
   "source": [
    "### 有上图可知天气对商用和非商用用电的影响差别较低，消耗电量都和温度，辐射有高的相似度，和总体云层，最低云层具有较高相似度"
   ],
   "metadata": {
    "collapsed": false
   }
  },
  {
   "cell_type": "markdown",
   "metadata": {},
   "source": [
    "# 预测天气部分"
   ]
  },
  {
   "cell_type": "code",
   "execution_count": 47,
   "metadata": {
    "ExecuteTime": {
     "end_time": "2023-12-03T13:25:12.285457100Z",
     "start_time": "2023-12-03T13:25:12.251710900Z"
    },
    "scrolled": true
   },
   "outputs": [
    {
     "data": {
      "text/html": [
       "<div>\n",
       "<style scoped>\n",
       "    .dataframe tbody tr th:only-of-type {\n",
       "        vertical-align: middle;\n",
       "    }\n",
       "\n",
       "    .dataframe tbody tr th {\n",
       "        vertical-align: top;\n",
       "    }\n",
       "\n",
       "    .dataframe thead th {\n",
       "        text-align: right;\n",
       "    }\n",
       "</style>\n",
       "<table border=\"1\" class=\"dataframe\">\n",
       "  <thead>\n",
       "    <tr style=\"text-align: right;\">\n",
       "      <th></th>\n",
       "      <th>latitude</th>\n",
       "      <th>longitude</th>\n",
       "      <th>origin_datetime</th>\n",
       "      <th>hours_ahead</th>\n",
       "      <th>temperature</th>\n",
       "      <th>dewpoint</th>\n",
       "      <th>cloudcover_high</th>\n",
       "      <th>cloudcover_low</th>\n",
       "      <th>cloudcover_mid</th>\n",
       "      <th>cloudcover_total</th>\n",
       "      <th>10_metre_u_wind_component</th>\n",
       "      <th>10_metre_v_wind_component</th>\n",
       "      <th>data_block_id</th>\n",
       "      <th>forecast_datetime</th>\n",
       "      <th>direct_solar_radiation</th>\n",
       "      <th>surface_solar_radiation_downwards</th>\n",
       "      <th>snowfall</th>\n",
       "      <th>total_precipitation</th>\n",
       "    </tr>\n",
       "  </thead>\n",
       "  <tbody>\n",
       "    <tr>\n",
       "      <th>0</th>\n",
       "      <td>57.6</td>\n",
       "      <td>21.7</td>\n",
       "      <td>2021-09-01 00:00:00+00:00</td>\n",
       "      <td>1</td>\n",
       "      <td>15.655786</td>\n",
       "      <td>11.553613</td>\n",
       "      <td>0.904816</td>\n",
       "      <td>0.019714</td>\n",
       "      <td>0.000000</td>\n",
       "      <td>0.905899</td>\n",
       "      <td>-0.411328</td>\n",
       "      <td>-9.106137</td>\n",
       "      <td>1</td>\n",
       "      <td>2021-09-01 01:00:00+00:00</td>\n",
       "      <td>0.0</td>\n",
       "      <td>0.0</td>\n",
       "      <td>0.0</td>\n",
       "      <td>0.0</td>\n",
       "    </tr>\n",
       "    <tr>\n",
       "      <th>1</th>\n",
       "      <td>57.6</td>\n",
       "      <td>22.2</td>\n",
       "      <td>2021-09-01 00:00:00+00:00</td>\n",
       "      <td>1</td>\n",
       "      <td>13.003931</td>\n",
       "      <td>10.689844</td>\n",
       "      <td>0.886322</td>\n",
       "      <td>0.004456</td>\n",
       "      <td>0.000000</td>\n",
       "      <td>0.886658</td>\n",
       "      <td>0.206347</td>\n",
       "      <td>-5.355405</td>\n",
       "      <td>1</td>\n",
       "      <td>2021-09-01 01:00:00+00:00</td>\n",
       "      <td>0.0</td>\n",
       "      <td>0.0</td>\n",
       "      <td>0.0</td>\n",
       "      <td>0.0</td>\n",
       "    </tr>\n",
       "    <tr>\n",
       "      <th>2</th>\n",
       "      <td>57.6</td>\n",
       "      <td>22.7</td>\n",
       "      <td>2021-09-01 00:00:00+00:00</td>\n",
       "      <td>1</td>\n",
       "      <td>14.206567</td>\n",
       "      <td>11.671777</td>\n",
       "      <td>0.729034</td>\n",
       "      <td>0.005615</td>\n",
       "      <td>0.000000</td>\n",
       "      <td>0.730499</td>\n",
       "      <td>1.451587</td>\n",
       "      <td>-7.417905</td>\n",
       "      <td>1</td>\n",
       "      <td>2021-09-01 01:00:00+00:00</td>\n",
       "      <td>0.0</td>\n",
       "      <td>0.0</td>\n",
       "      <td>0.0</td>\n",
       "      <td>0.0</td>\n",
       "    </tr>\n",
       "    <tr>\n",
       "      <th>3</th>\n",
       "      <td>57.6</td>\n",
       "      <td>23.2</td>\n",
       "      <td>2021-09-01 00:00:00+00:00</td>\n",
       "      <td>1</td>\n",
       "      <td>14.844507</td>\n",
       "      <td>12.264917</td>\n",
       "      <td>0.336304</td>\n",
       "      <td>0.074341</td>\n",
       "      <td>0.000626</td>\n",
       "      <td>0.385468</td>\n",
       "      <td>1.090869</td>\n",
       "      <td>-9.163999</td>\n",
       "      <td>1</td>\n",
       "      <td>2021-09-01 01:00:00+00:00</td>\n",
       "      <td>0.0</td>\n",
       "      <td>0.0</td>\n",
       "      <td>0.0</td>\n",
       "      <td>0.0</td>\n",
       "    </tr>\n",
       "    <tr>\n",
       "      <th>4</th>\n",
       "      <td>57.6</td>\n",
       "      <td>23.7</td>\n",
       "      <td>2021-09-01 00:00:00+00:00</td>\n",
       "      <td>1</td>\n",
       "      <td>15.293848</td>\n",
       "      <td>12.458887</td>\n",
       "      <td>0.102875</td>\n",
       "      <td>0.088074</td>\n",
       "      <td>0.000015</td>\n",
       "      <td>0.176590</td>\n",
       "      <td>1.268481</td>\n",
       "      <td>-8.975766</td>\n",
       "      <td>1</td>\n",
       "      <td>2021-09-01 01:00:00+00:00</td>\n",
       "      <td>0.0</td>\n",
       "      <td>0.0</td>\n",
       "      <td>0.0</td>\n",
       "      <td>0.0</td>\n",
       "    </tr>\n",
       "    <tr>\n",
       "      <th>...</th>\n",
       "      <td>...</td>\n",
       "      <td>...</td>\n",
       "      <td>...</td>\n",
       "      <td>...</td>\n",
       "      <td>...</td>\n",
       "      <td>...</td>\n",
       "      <td>...</td>\n",
       "      <td>...</td>\n",
       "      <td>...</td>\n",
       "      <td>...</td>\n",
       "      <td>...</td>\n",
       "      <td>...</td>\n",
       "      <td>...</td>\n",
       "      <td>...</td>\n",
       "      <td>...</td>\n",
       "      <td>...</td>\n",
       "      <td>...</td>\n",
       "      <td>...</td>\n",
       "    </tr>\n",
       "    <tr>\n",
       "      <th>3424507</th>\n",
       "      <td>59.7</td>\n",
       "      <td>26.2</td>\n",
       "      <td>2023-05-30 00:00:00+00:00</td>\n",
       "      <td>48</td>\n",
       "      <td>10.150049</td>\n",
       "      <td>5.662744</td>\n",
       "      <td>0.061066</td>\n",
       "      <td>0.257339</td>\n",
       "      <td>0.004059</td>\n",
       "      <td>0.308594</td>\n",
       "      <td>6.890626</td>\n",
       "      <td>-3.258144</td>\n",
       "      <td>637</td>\n",
       "      <td>2023-06-01 00:00:00+00:00</td>\n",
       "      <td>0.0</td>\n",
       "      <td>0.0</td>\n",
       "      <td>0.0</td>\n",
       "      <td>0.0</td>\n",
       "    </tr>\n",
       "    <tr>\n",
       "      <th>3424508</th>\n",
       "      <td>59.7</td>\n",
       "      <td>26.7</td>\n",
       "      <td>2023-05-30 00:00:00+00:00</td>\n",
       "      <td>48</td>\n",
       "      <td>10.259790</td>\n",
       "      <td>5.922754</td>\n",
       "      <td>0.107880</td>\n",
       "      <td>0.895203</td>\n",
       "      <td>0.198700</td>\n",
       "      <td>0.906036</td>\n",
       "      <td>6.890626</td>\n",
       "      <td>-3.768032</td>\n",
       "      <td>637</td>\n",
       "      <td>2023-06-01 00:00:00+00:00</td>\n",
       "      <td>0.0</td>\n",
       "      <td>0.0</td>\n",
       "      <td>0.0</td>\n",
       "      <td>0.0</td>\n",
       "    </tr>\n",
       "    <tr>\n",
       "      <th>3424509</th>\n",
       "      <td>59.7</td>\n",
       "      <td>27.2</td>\n",
       "      <td>2023-05-30 00:00:00+00:00</td>\n",
       "      <td>48</td>\n",
       "      <td>10.467798</td>\n",
       "      <td>6.072534</td>\n",
       "      <td>0.000000</td>\n",
       "      <td>0.387466</td>\n",
       "      <td>0.448853</td>\n",
       "      <td>0.530518</td>\n",
       "      <td>6.214112</td>\n",
       "      <td>-4.700405</td>\n",
       "      <td>637</td>\n",
       "      <td>2023-06-01 00:00:00+00:00</td>\n",
       "      <td>0.0</td>\n",
       "      <td>0.0</td>\n",
       "      <td>0.0</td>\n",
       "      <td>0.0</td>\n",
       "    </tr>\n",
       "    <tr>\n",
       "      <th>3424510</th>\n",
       "      <td>59.7</td>\n",
       "      <td>27.7</td>\n",
       "      <td>2023-05-30 00:00:00+00:00</td>\n",
       "      <td>48</td>\n",
       "      <td>10.694116</td>\n",
       "      <td>7.009058</td>\n",
       "      <td>0.000000</td>\n",
       "      <td>0.505936</td>\n",
       "      <td>0.997314</td>\n",
       "      <td>0.997498</td>\n",
       "      <td>5.810060</td>\n",
       "      <td>-4.338345</td>\n",
       "      <td>637</td>\n",
       "      <td>2023-06-01 00:00:00+00:00</td>\n",
       "      <td>0.0</td>\n",
       "      <td>0.0</td>\n",
       "      <td>0.0</td>\n",
       "      <td>0.0</td>\n",
       "    </tr>\n",
       "    <tr>\n",
       "      <th>3424511</th>\n",
       "      <td>59.7</td>\n",
       "      <td>28.2</td>\n",
       "      <td>2023-05-30 00:00:00+00:00</td>\n",
       "      <td>48</td>\n",
       "      <td>11.233179</td>\n",
       "      <td>7.069238</td>\n",
       "      <td>0.703461</td>\n",
       "      <td>0.292313</td>\n",
       "      <td>0.934021</td>\n",
       "      <td>0.989716</td>\n",
       "      <td>2.719728</td>\n",
       "      <td>-0.922939</td>\n",
       "      <td>637</td>\n",
       "      <td>2023-06-01 00:00:00+00:00</td>\n",
       "      <td>0.0</td>\n",
       "      <td>0.0</td>\n",
       "      <td>0.0</td>\n",
       "      <td>0.0</td>\n",
       "    </tr>\n",
       "  </tbody>\n",
       "</table>\n",
       "<p>3424512 rows × 18 columns</p>\n",
       "</div>"
      ],
      "text/plain": [
       "         latitude  longitude            origin_datetime  hours_ahead  \\\n",
       "0            57.6       21.7  2021-09-01 00:00:00+00:00            1   \n",
       "1            57.6       22.2  2021-09-01 00:00:00+00:00            1   \n",
       "2            57.6       22.7  2021-09-01 00:00:00+00:00            1   \n",
       "3            57.6       23.2  2021-09-01 00:00:00+00:00            1   \n",
       "4            57.6       23.7  2021-09-01 00:00:00+00:00            1   \n",
       "...           ...        ...                        ...          ...   \n",
       "3424507      59.7       26.2  2023-05-30 00:00:00+00:00           48   \n",
       "3424508      59.7       26.7  2023-05-30 00:00:00+00:00           48   \n",
       "3424509      59.7       27.2  2023-05-30 00:00:00+00:00           48   \n",
       "3424510      59.7       27.7  2023-05-30 00:00:00+00:00           48   \n",
       "3424511      59.7       28.2  2023-05-30 00:00:00+00:00           48   \n",
       "\n",
       "         temperature   dewpoint  cloudcover_high  cloudcover_low  \\\n",
       "0          15.655786  11.553613         0.904816        0.019714   \n",
       "1          13.003931  10.689844         0.886322        0.004456   \n",
       "2          14.206567  11.671777         0.729034        0.005615   \n",
       "3          14.844507  12.264917         0.336304        0.074341   \n",
       "4          15.293848  12.458887         0.102875        0.088074   \n",
       "...              ...        ...              ...             ...   \n",
       "3424507    10.150049   5.662744         0.061066        0.257339   \n",
       "3424508    10.259790   5.922754         0.107880        0.895203   \n",
       "3424509    10.467798   6.072534         0.000000        0.387466   \n",
       "3424510    10.694116   7.009058         0.000000        0.505936   \n",
       "3424511    11.233179   7.069238         0.703461        0.292313   \n",
       "\n",
       "         cloudcover_mid  cloudcover_total  10_metre_u_wind_component  \\\n",
       "0              0.000000          0.905899                  -0.411328   \n",
       "1              0.000000          0.886658                   0.206347   \n",
       "2              0.000000          0.730499                   1.451587   \n",
       "3              0.000626          0.385468                   1.090869   \n",
       "4              0.000015          0.176590                   1.268481   \n",
       "...                 ...               ...                        ...   \n",
       "3424507        0.004059          0.308594                   6.890626   \n",
       "3424508        0.198700          0.906036                   6.890626   \n",
       "3424509        0.448853          0.530518                   6.214112   \n",
       "3424510        0.997314          0.997498                   5.810060   \n",
       "3424511        0.934021          0.989716                   2.719728   \n",
       "\n",
       "         10_metre_v_wind_component  data_block_id         forecast_datetime  \\\n",
       "0                        -9.106137              1 2021-09-01 01:00:00+00:00   \n",
       "1                        -5.355405              1 2021-09-01 01:00:00+00:00   \n",
       "2                        -7.417905              1 2021-09-01 01:00:00+00:00   \n",
       "3                        -9.163999              1 2021-09-01 01:00:00+00:00   \n",
       "4                        -8.975766              1 2021-09-01 01:00:00+00:00   \n",
       "...                            ...            ...                       ...   \n",
       "3424507                  -3.258144            637 2023-06-01 00:00:00+00:00   \n",
       "3424508                  -3.768032            637 2023-06-01 00:00:00+00:00   \n",
       "3424509                  -4.700405            637 2023-06-01 00:00:00+00:00   \n",
       "3424510                  -4.338345            637 2023-06-01 00:00:00+00:00   \n",
       "3424511                  -0.922939            637 2023-06-01 00:00:00+00:00   \n",
       "\n",
       "         direct_solar_radiation  surface_solar_radiation_downwards  snowfall  \\\n",
       "0                           0.0                                0.0       0.0   \n",
       "1                           0.0                                0.0       0.0   \n",
       "2                           0.0                                0.0       0.0   \n",
       "3                           0.0                                0.0       0.0   \n",
       "4                           0.0                                0.0       0.0   \n",
       "...                         ...                                ...       ...   \n",
       "3424507                     0.0                                0.0       0.0   \n",
       "3424508                     0.0                                0.0       0.0   \n",
       "3424509                     0.0                                0.0       0.0   \n",
       "3424510                     0.0                                0.0       0.0   \n",
       "3424511                     0.0                                0.0       0.0   \n",
       "\n",
       "         total_precipitation  \n",
       "0                        0.0  \n",
       "1                        0.0  \n",
       "2                        0.0  \n",
       "3                        0.0  \n",
       "4                        0.0  \n",
       "...                      ...  \n",
       "3424507                  0.0  \n",
       "3424508                  0.0  \n",
       "3424509                  0.0  \n",
       "3424510                  0.0  \n",
       "3424511                  0.0  \n",
       "\n",
       "[3424512 rows x 18 columns]"
      ]
     },
     "execution_count": 47,
     "metadata": {},
     "output_type": "execute_result"
    }
   ],
   "source": [
    "# 读取数据\n",
    "forcast_weather = pd.read_csv('../data/forecast_weather.csv', parse_dates=['forecast_datetime'])\n",
    "forcast_weather"
   ]
  },
  {
   "cell_type": "code",
   "execution_count": 49,
   "metadata": {},
   "outputs": [
    {
     "data": {
      "text/html": [
       "<div>\n",
       "<style scoped>\n",
       "    .dataframe tbody tr th:only-of-type {\n",
       "        vertical-align: middle;\n",
       "    }\n",
       "\n",
       "    .dataframe tbody tr th {\n",
       "        vertical-align: top;\n",
       "    }\n",
       "\n",
       "    .dataframe thead th {\n",
       "        text-align: right;\n",
       "    }\n",
       "</style>\n",
       "<table border=\"1\" class=\"dataframe\">\n",
       "  <thead>\n",
       "    <tr style=\"text-align: right;\">\n",
       "      <th></th>\n",
       "      <th>latitude</th>\n",
       "      <th>longitude</th>\n",
       "      <th>origin_datetime</th>\n",
       "      <th>hours_ahead</th>\n",
       "      <th>temperature</th>\n",
       "      <th>dewpoint</th>\n",
       "      <th>cloudcover_high</th>\n",
       "      <th>cloudcover_low</th>\n",
       "      <th>cloudcover_mid</th>\n",
       "      <th>cloudcover_total</th>\n",
       "      <th>10_metre_u_wind_component</th>\n",
       "      <th>10_metre_v_wind_component</th>\n",
       "      <th>data_block_id</th>\n",
       "      <th>forecast_datetime</th>\n",
       "      <th>direct_solar_radiation</th>\n",
       "      <th>surface_solar_radiation_downwards</th>\n",
       "      <th>snowfall</th>\n",
       "      <th>total_precipitation</th>\n",
       "      <th>hour</th>\n",
       "    </tr>\n",
       "  </thead>\n",
       "  <tbody>\n",
       "    <tr>\n",
       "      <th>0</th>\n",
       "      <td>576</td>\n",
       "      <td>217</td>\n",
       "      <td>2021-09-01 00:00:00+00:00</td>\n",
       "      <td>1</td>\n",
       "      <td>15.655786</td>\n",
       "      <td>11.553613</td>\n",
       "      <td>0.904816</td>\n",
       "      <td>0.019714</td>\n",
       "      <td>0.000000</td>\n",
       "      <td>0.905899</td>\n",
       "      <td>-0.411328</td>\n",
       "      <td>-9.106137</td>\n",
       "      <td>1</td>\n",
       "      <td>2021-09-01 01:00:00+00:00</td>\n",
       "      <td>0.0</td>\n",
       "      <td>0.0</td>\n",
       "      <td>0.0</td>\n",
       "      <td>0.0</td>\n",
       "      <td>1</td>\n",
       "    </tr>\n",
       "    <tr>\n",
       "      <th>1</th>\n",
       "      <td>576</td>\n",
       "      <td>222</td>\n",
       "      <td>2021-09-01 00:00:00+00:00</td>\n",
       "      <td>1</td>\n",
       "      <td>13.003931</td>\n",
       "      <td>10.689844</td>\n",
       "      <td>0.886322</td>\n",
       "      <td>0.004456</td>\n",
       "      <td>0.000000</td>\n",
       "      <td>0.886658</td>\n",
       "      <td>0.206347</td>\n",
       "      <td>-5.355405</td>\n",
       "      <td>1</td>\n",
       "      <td>2021-09-01 01:00:00+00:00</td>\n",
       "      <td>0.0</td>\n",
       "      <td>0.0</td>\n",
       "      <td>0.0</td>\n",
       "      <td>0.0</td>\n",
       "      <td>1</td>\n",
       "    </tr>\n",
       "    <tr>\n",
       "      <th>2</th>\n",
       "      <td>576</td>\n",
       "      <td>227</td>\n",
       "      <td>2021-09-01 00:00:00+00:00</td>\n",
       "      <td>1</td>\n",
       "      <td>14.206567</td>\n",
       "      <td>11.671777</td>\n",
       "      <td>0.729034</td>\n",
       "      <td>0.005615</td>\n",
       "      <td>0.000000</td>\n",
       "      <td>0.730499</td>\n",
       "      <td>1.451587</td>\n",
       "      <td>-7.417905</td>\n",
       "      <td>1</td>\n",
       "      <td>2021-09-01 01:00:00+00:00</td>\n",
       "      <td>0.0</td>\n",
       "      <td>0.0</td>\n",
       "      <td>0.0</td>\n",
       "      <td>0.0</td>\n",
       "      <td>1</td>\n",
       "    </tr>\n",
       "    <tr>\n",
       "      <th>3</th>\n",
       "      <td>576</td>\n",
       "      <td>232</td>\n",
       "      <td>2021-09-01 00:00:00+00:00</td>\n",
       "      <td>1</td>\n",
       "      <td>14.844507</td>\n",
       "      <td>12.264917</td>\n",
       "      <td>0.336304</td>\n",
       "      <td>0.074341</td>\n",
       "      <td>0.000626</td>\n",
       "      <td>0.385468</td>\n",
       "      <td>1.090869</td>\n",
       "      <td>-9.163999</td>\n",
       "      <td>1</td>\n",
       "      <td>2021-09-01 01:00:00+00:00</td>\n",
       "      <td>0.0</td>\n",
       "      <td>0.0</td>\n",
       "      <td>0.0</td>\n",
       "      <td>0.0</td>\n",
       "      <td>1</td>\n",
       "    </tr>\n",
       "    <tr>\n",
       "      <th>4</th>\n",
       "      <td>576</td>\n",
       "      <td>237</td>\n",
       "      <td>2021-09-01 00:00:00+00:00</td>\n",
       "      <td>1</td>\n",
       "      <td>15.293848</td>\n",
       "      <td>12.458887</td>\n",
       "      <td>0.102875</td>\n",
       "      <td>0.088074</td>\n",
       "      <td>0.000015</td>\n",
       "      <td>0.176590</td>\n",
       "      <td>1.268481</td>\n",
       "      <td>-8.975766</td>\n",
       "      <td>1</td>\n",
       "      <td>2021-09-01 01:00:00+00:00</td>\n",
       "      <td>0.0</td>\n",
       "      <td>0.0</td>\n",
       "      <td>0.0</td>\n",
       "      <td>0.0</td>\n",
       "      <td>1</td>\n",
       "    </tr>\n",
       "  </tbody>\n",
       "</table>\n",
       "</div>"
      ],
      "text/plain": [
       "   latitude  longitude            origin_datetime  hours_ahead  temperature  \\\n",
       "0       576        217  2021-09-01 00:00:00+00:00            1    15.655786   \n",
       "1       576        222  2021-09-01 00:00:00+00:00            1    13.003931   \n",
       "2       576        227  2021-09-01 00:00:00+00:00            1    14.206567   \n",
       "3       576        232  2021-09-01 00:00:00+00:00            1    14.844507   \n",
       "4       576        237  2021-09-01 00:00:00+00:00            1    15.293848   \n",
       "\n",
       "    dewpoint  cloudcover_high  cloudcover_low  cloudcover_mid  \\\n",
       "0  11.553613         0.904816        0.019714        0.000000   \n",
       "1  10.689844         0.886322        0.004456        0.000000   \n",
       "2  11.671777         0.729034        0.005615        0.000000   \n",
       "3  12.264917         0.336304        0.074341        0.000626   \n",
       "4  12.458887         0.102875        0.088074        0.000015   \n",
       "\n",
       "   cloudcover_total  10_metre_u_wind_component  10_metre_v_wind_component  \\\n",
       "0          0.905899                  -0.411328                  -9.106137   \n",
       "1          0.886658                   0.206347                  -5.355405   \n",
       "2          0.730499                   1.451587                  -7.417905   \n",
       "3          0.385468                   1.090869                  -9.163999   \n",
       "4          0.176590                   1.268481                  -8.975766   \n",
       "\n",
       "   data_block_id         forecast_datetime  direct_solar_radiation  \\\n",
       "0              1 2021-09-01 01:00:00+00:00                     0.0   \n",
       "1              1 2021-09-01 01:00:00+00:00                     0.0   \n",
       "2              1 2021-09-01 01:00:00+00:00                     0.0   \n",
       "3              1 2021-09-01 01:00:00+00:00                     0.0   \n",
       "4              1 2021-09-01 01:00:00+00:00                     0.0   \n",
       "\n",
       "   surface_solar_radiation_downwards  snowfall  total_precipitation  hour  \n",
       "0                                0.0       0.0                  0.0     1  \n",
       "1                                0.0       0.0                  0.0     1  \n",
       "2                                0.0       0.0                  0.0     1  \n",
       "3                                0.0       0.0                  0.0     1  \n",
       "4                                0.0       0.0                  0.0     1  "
      ]
     },
     "execution_count": 49,
     "metadata": {},
     "output_type": "execute_result"
    }
   ],
   "source": [
    "# 将经纬度乘以10并调整为整数型以减少内存占用\n",
    "forcast_weather['latitude'] = forcast_weather['latitude']*10\n",
    "forcast_weather['longitude'] = forcast_weather['longitude']*10\n",
    "forcast_weather['latitude'] = forcast_weather['latitude'].astype(int)\n",
    "forcast_weather['longitude'] = forcast_weather['longitude'].astype(int)\n",
    "forcast_weather['hour'] = forcast_weather['forecast_datetime'].apply(lambda x: x.hour)\n",
    "forcast_weather.head()"
   ]
  },
  {
   "cell_type": "code",
   "execution_count": 50,
   "metadata": {},
   "outputs": [
    {
     "data": {
      "text/plain": [
       "3424512"
      ]
     },
     "execution_count": 50,
     "metadata": {},
     "output_type": "execute_result"
    }
   ],
   "source": [
    "# 拼接前的预测天气数据\n",
    "len(forcast_weather)"
   ]
  },
  {
   "cell_type": "code",
   "execution_count": 51,
   "metadata": {},
   "outputs": [
    {
     "data": {
      "text/plain": [
       "1783600"
      ]
     },
     "execution_count": 51,
     "metadata": {},
     "output_type": "execute_result"
    }
   ],
   "source": [
    "# 筛选hours_ahead小于24的数据，即预测跨度为一天的数据\n",
    "forcast_weather = forcast_weather[forcast_weather['hours_ahead'] >= 24]\n",
    "len(forcast_weather)"
   ]
  },
  {
   "cell_type": "code",
   "execution_count": 52,
   "metadata": {},
   "outputs": [
    {
     "data": {
      "text/plain": [
       "array([10, 15,  7, 13, 14, 11,  8,  4,  1,  6,  9,  3,  0,  5,  2],\n",
       "      dtype=int64)"
      ]
     },
     "execution_count": 52,
     "metadata": {},
     "output_type": "execute_result"
    }
   ],
   "source": [
    "# 对数据按照经纬度拼接\n",
    "forcast_weather = pd.merge(left=forcast_weather, right=location, on=['latitude', 'longitude'])\n",
    "# forcast_weather.drop_duplicates(subset=['county', 'origin_datetime'], inplace=True)\n",
    "forcast_weather['county'].unique()\n",
    "# 经过观察拼接后的county缺少了12"
   ]
  },
  {
   "cell_type": "code",
   "execution_count": 53,
   "metadata": {},
   "outputs": [
    {
     "data": {
      "text/html": [
       "<div>\n",
       "<style scoped>\n",
       "    .dataframe tbody tr th:only-of-type {\n",
       "        vertical-align: middle;\n",
       "    }\n",
       "\n",
       "    .dataframe tbody tr th {\n",
       "        vertical-align: top;\n",
       "    }\n",
       "\n",
       "    .dataframe thead th {\n",
       "        text-align: right;\n",
       "    }\n",
       "</style>\n",
       "<table border=\"1\" class=\"dataframe\">\n",
       "  <thead>\n",
       "    <tr style=\"text-align: right;\">\n",
       "      <th></th>\n",
       "      <th>county</th>\n",
       "      <th>is_business</th>\n",
       "      <th>product_type</th>\n",
       "      <th>target</th>\n",
       "      <th>is_consumption</th>\n",
       "      <th>datetime</th>\n",
       "      <th>data_block_id</th>\n",
       "      <th>row_id</th>\n",
       "      <th>prediction_unit_id</th>\n",
       "      <th>year</th>\n",
       "      <th>month</th>\n",
       "      <th>day</th>\n",
       "      <th>hour</th>\n",
       "      <th>latitude</th>\n",
       "      <th>longitude</th>\n",
       "      <th>origin_datetime</th>\n",
       "      <th>hours_ahead</th>\n",
       "      <th>temperature</th>\n",
       "      <th>dewpoint</th>\n",
       "      <th>cloudcover_high</th>\n",
       "      <th>cloudcover_low</th>\n",
       "      <th>cloudcover_mid</th>\n",
       "      <th>cloudcover_total</th>\n",
       "      <th>10_metre_u_wind_component</th>\n",
       "      <th>10_metre_v_wind_component</th>\n",
       "      <th>forecast_datetime</th>\n",
       "      <th>direct_solar_radiation</th>\n",
       "      <th>surface_solar_radiation_downwards</th>\n",
       "      <th>snowfall</th>\n",
       "      <th>total_precipitation</th>\n",
       "    </tr>\n",
       "  </thead>\n",
       "  <tbody>\n",
       "    <tr>\n",
       "      <th>0</th>\n",
       "      <td>0</td>\n",
       "      <td>0</td>\n",
       "      <td>1</td>\n",
       "      <td>0.713</td>\n",
       "      <td>0</td>\n",
       "      <td>2021-09-01 00:00:00</td>\n",
       "      <td>0</td>\n",
       "      <td>0</td>\n",
       "      <td>0</td>\n",
       "      <td>2021</td>\n",
       "      <td>9</td>\n",
       "      <td>1</td>\n",
       "      <td>0</td>\n",
       "      <td>NaN</td>\n",
       "      <td>NaN</td>\n",
       "      <td>NaN</td>\n",
       "      <td>NaN</td>\n",
       "      <td>NaN</td>\n",
       "      <td>NaN</td>\n",
       "      <td>NaN</td>\n",
       "      <td>NaN</td>\n",
       "      <td>NaN</td>\n",
       "      <td>NaN</td>\n",
       "      <td>NaN</td>\n",
       "      <td>NaN</td>\n",
       "      <td>NaT</td>\n",
       "      <td>NaN</td>\n",
       "      <td>NaN</td>\n",
       "      <td>NaN</td>\n",
       "      <td>NaN</td>\n",
       "    </tr>\n",
       "    <tr>\n",
       "      <th>1</th>\n",
       "      <td>0</td>\n",
       "      <td>0</td>\n",
       "      <td>1</td>\n",
       "      <td>96.590</td>\n",
       "      <td>1</td>\n",
       "      <td>2021-09-01 00:00:00</td>\n",
       "      <td>0</td>\n",
       "      <td>1</td>\n",
       "      <td>0</td>\n",
       "      <td>2021</td>\n",
       "      <td>9</td>\n",
       "      <td>1</td>\n",
       "      <td>0</td>\n",
       "      <td>NaN</td>\n",
       "      <td>NaN</td>\n",
       "      <td>NaN</td>\n",
       "      <td>NaN</td>\n",
       "      <td>NaN</td>\n",
       "      <td>NaN</td>\n",
       "      <td>NaN</td>\n",
       "      <td>NaN</td>\n",
       "      <td>NaN</td>\n",
       "      <td>NaN</td>\n",
       "      <td>NaN</td>\n",
       "      <td>NaN</td>\n",
       "      <td>NaT</td>\n",
       "      <td>NaN</td>\n",
       "      <td>NaN</td>\n",
       "      <td>NaN</td>\n",
       "      <td>NaN</td>\n",
       "    </tr>\n",
       "    <tr>\n",
       "      <th>2</th>\n",
       "      <td>0</td>\n",
       "      <td>0</td>\n",
       "      <td>2</td>\n",
       "      <td>0.000</td>\n",
       "      <td>0</td>\n",
       "      <td>2021-09-01 00:00:00</td>\n",
       "      <td>0</td>\n",
       "      <td>2</td>\n",
       "      <td>1</td>\n",
       "      <td>2021</td>\n",
       "      <td>9</td>\n",
       "      <td>1</td>\n",
       "      <td>0</td>\n",
       "      <td>NaN</td>\n",
       "      <td>NaN</td>\n",
       "      <td>NaN</td>\n",
       "      <td>NaN</td>\n",
       "      <td>NaN</td>\n",
       "      <td>NaN</td>\n",
       "      <td>NaN</td>\n",
       "      <td>NaN</td>\n",
       "      <td>NaN</td>\n",
       "      <td>NaN</td>\n",
       "      <td>NaN</td>\n",
       "      <td>NaN</td>\n",
       "      <td>NaT</td>\n",
       "      <td>NaN</td>\n",
       "      <td>NaN</td>\n",
       "      <td>NaN</td>\n",
       "      <td>NaN</td>\n",
       "    </tr>\n",
       "    <tr>\n",
       "      <th>3</th>\n",
       "      <td>0</td>\n",
       "      <td>0</td>\n",
       "      <td>2</td>\n",
       "      <td>17.314</td>\n",
       "      <td>1</td>\n",
       "      <td>2021-09-01 00:00:00</td>\n",
       "      <td>0</td>\n",
       "      <td>3</td>\n",
       "      <td>1</td>\n",
       "      <td>2021</td>\n",
       "      <td>9</td>\n",
       "      <td>1</td>\n",
       "      <td>0</td>\n",
       "      <td>NaN</td>\n",
       "      <td>NaN</td>\n",
       "      <td>NaN</td>\n",
       "      <td>NaN</td>\n",
       "      <td>NaN</td>\n",
       "      <td>NaN</td>\n",
       "      <td>NaN</td>\n",
       "      <td>NaN</td>\n",
       "      <td>NaN</td>\n",
       "      <td>NaN</td>\n",
       "      <td>NaN</td>\n",
       "      <td>NaN</td>\n",
       "      <td>NaT</td>\n",
       "      <td>NaN</td>\n",
       "      <td>NaN</td>\n",
       "      <td>NaN</td>\n",
       "      <td>NaN</td>\n",
       "    </tr>\n",
       "    <tr>\n",
       "      <th>4</th>\n",
       "      <td>0</td>\n",
       "      <td>0</td>\n",
       "      <td>3</td>\n",
       "      <td>2.904</td>\n",
       "      <td>0</td>\n",
       "      <td>2021-09-01 00:00:00</td>\n",
       "      <td>0</td>\n",
       "      <td>4</td>\n",
       "      <td>2</td>\n",
       "      <td>2021</td>\n",
       "      <td>9</td>\n",
       "      <td>1</td>\n",
       "      <td>0</td>\n",
       "      <td>NaN</td>\n",
       "      <td>NaN</td>\n",
       "      <td>NaN</td>\n",
       "      <td>NaN</td>\n",
       "      <td>NaN</td>\n",
       "      <td>NaN</td>\n",
       "      <td>NaN</td>\n",
       "      <td>NaN</td>\n",
       "      <td>NaN</td>\n",
       "      <td>NaN</td>\n",
       "      <td>NaN</td>\n",
       "      <td>NaN</td>\n",
       "      <td>NaT</td>\n",
       "      <td>NaN</td>\n",
       "      <td>NaN</td>\n",
       "      <td>NaN</td>\n",
       "      <td>NaN</td>\n",
       "    </tr>\n",
       "    <tr>\n",
       "      <th>...</th>\n",
       "      <td>...</td>\n",
       "      <td>...</td>\n",
       "      <td>...</td>\n",
       "      <td>...</td>\n",
       "      <td>...</td>\n",
       "      <td>...</td>\n",
       "      <td>...</td>\n",
       "      <td>...</td>\n",
       "      <td>...</td>\n",
       "      <td>...</td>\n",
       "      <td>...</td>\n",
       "      <td>...</td>\n",
       "      <td>...</td>\n",
       "      <td>...</td>\n",
       "      <td>...</td>\n",
       "      <td>...</td>\n",
       "      <td>...</td>\n",
       "      <td>...</td>\n",
       "      <td>...</td>\n",
       "      <td>...</td>\n",
       "      <td>...</td>\n",
       "      <td>...</td>\n",
       "      <td>...</td>\n",
       "      <td>...</td>\n",
       "      <td>...</td>\n",
       "      <td>...</td>\n",
       "      <td>...</td>\n",
       "      <td>...</td>\n",
       "      <td>...</td>\n",
       "      <td>...</td>\n",
       "    </tr>\n",
       "    <tr>\n",
       "      <th>11263779</th>\n",
       "      <td>15</td>\n",
       "      <td>1</td>\n",
       "      <td>0</td>\n",
       "      <td>197.233</td>\n",
       "      <td>1</td>\n",
       "      <td>2023-05-31 23:00:00</td>\n",
       "      <td>637</td>\n",
       "      <td>2018347</td>\n",
       "      <td>64</td>\n",
       "      <td>2023</td>\n",
       "      <td>5</td>\n",
       "      <td>31</td>\n",
       "      <td>23</td>\n",
       "      <td>576.0</td>\n",
       "      <td>267.0</td>\n",
       "      <td>2023-05-30 00:00:00+00:00</td>\n",
       "      <td>47.0</td>\n",
       "      <td>9.185205</td>\n",
       "      <td>4.397241</td>\n",
       "      <td>0.570526</td>\n",
       "      <td>0.0</td>\n",
       "      <td>0.0</td>\n",
       "      <td>0.570526</td>\n",
       "      <td>3.161763</td>\n",
       "      <td>-0.698455</td>\n",
       "      <td>2023-05-31 23:00:00+00:00</td>\n",
       "      <td>0.0</td>\n",
       "      <td>0.0</td>\n",
       "      <td>0.0</td>\n",
       "      <td>0.0</td>\n",
       "    </tr>\n",
       "    <tr>\n",
       "      <th>11263784</th>\n",
       "      <td>15</td>\n",
       "      <td>1</td>\n",
       "      <td>1</td>\n",
       "      <td>0.000</td>\n",
       "      <td>0</td>\n",
       "      <td>2023-05-31 23:00:00</td>\n",
       "      <td>637</td>\n",
       "      <td>2018348</td>\n",
       "      <td>59</td>\n",
       "      <td>2023</td>\n",
       "      <td>5</td>\n",
       "      <td>31</td>\n",
       "      <td>23</td>\n",
       "      <td>576.0</td>\n",
       "      <td>267.0</td>\n",
       "      <td>2023-05-30 00:00:00+00:00</td>\n",
       "      <td>47.0</td>\n",
       "      <td>9.185205</td>\n",
       "      <td>4.397241</td>\n",
       "      <td>0.570526</td>\n",
       "      <td>0.0</td>\n",
       "      <td>0.0</td>\n",
       "      <td>0.570526</td>\n",
       "      <td>3.161763</td>\n",
       "      <td>-0.698455</td>\n",
       "      <td>2023-05-31 23:00:00+00:00</td>\n",
       "      <td>0.0</td>\n",
       "      <td>0.0</td>\n",
       "      <td>0.0</td>\n",
       "      <td>0.0</td>\n",
       "    </tr>\n",
       "    <tr>\n",
       "      <th>11263789</th>\n",
       "      <td>15</td>\n",
       "      <td>1</td>\n",
       "      <td>1</td>\n",
       "      <td>28.404</td>\n",
       "      <td>1</td>\n",
       "      <td>2023-05-31 23:00:00</td>\n",
       "      <td>637</td>\n",
       "      <td>2018349</td>\n",
       "      <td>59</td>\n",
       "      <td>2023</td>\n",
       "      <td>5</td>\n",
       "      <td>31</td>\n",
       "      <td>23</td>\n",
       "      <td>576.0</td>\n",
       "      <td>267.0</td>\n",
       "      <td>2023-05-30 00:00:00+00:00</td>\n",
       "      <td>47.0</td>\n",
       "      <td>9.185205</td>\n",
       "      <td>4.397241</td>\n",
       "      <td>0.570526</td>\n",
       "      <td>0.0</td>\n",
       "      <td>0.0</td>\n",
       "      <td>0.570526</td>\n",
       "      <td>3.161763</td>\n",
       "      <td>-0.698455</td>\n",
       "      <td>2023-05-31 23:00:00+00:00</td>\n",
       "      <td>0.0</td>\n",
       "      <td>0.0</td>\n",
       "      <td>0.0</td>\n",
       "      <td>0.0</td>\n",
       "    </tr>\n",
       "    <tr>\n",
       "      <th>11263794</th>\n",
       "      <td>15</td>\n",
       "      <td>1</td>\n",
       "      <td>3</td>\n",
       "      <td>0.000</td>\n",
       "      <td>0</td>\n",
       "      <td>2023-05-31 23:00:00</td>\n",
       "      <td>637</td>\n",
       "      <td>2018350</td>\n",
       "      <td>60</td>\n",
       "      <td>2023</td>\n",
       "      <td>5</td>\n",
       "      <td>31</td>\n",
       "      <td>23</td>\n",
       "      <td>576.0</td>\n",
       "      <td>267.0</td>\n",
       "      <td>2023-05-30 00:00:00+00:00</td>\n",
       "      <td>47.0</td>\n",
       "      <td>9.185205</td>\n",
       "      <td>4.397241</td>\n",
       "      <td>0.570526</td>\n",
       "      <td>0.0</td>\n",
       "      <td>0.0</td>\n",
       "      <td>0.570526</td>\n",
       "      <td>3.161763</td>\n",
       "      <td>-0.698455</td>\n",
       "      <td>2023-05-31 23:00:00+00:00</td>\n",
       "      <td>0.0</td>\n",
       "      <td>0.0</td>\n",
       "      <td>0.0</td>\n",
       "      <td>0.0</td>\n",
       "    </tr>\n",
       "    <tr>\n",
       "      <th>11263799</th>\n",
       "      <td>15</td>\n",
       "      <td>1</td>\n",
       "      <td>3</td>\n",
       "      <td>196.240</td>\n",
       "      <td>1</td>\n",
       "      <td>2023-05-31 23:00:00</td>\n",
       "      <td>637</td>\n",
       "      <td>2018351</td>\n",
       "      <td>60</td>\n",
       "      <td>2023</td>\n",
       "      <td>5</td>\n",
       "      <td>31</td>\n",
       "      <td>23</td>\n",
       "      <td>576.0</td>\n",
       "      <td>267.0</td>\n",
       "      <td>2023-05-30 00:00:00+00:00</td>\n",
       "      <td>47.0</td>\n",
       "      <td>9.185205</td>\n",
       "      <td>4.397241</td>\n",
       "      <td>0.570526</td>\n",
       "      <td>0.0</td>\n",
       "      <td>0.0</td>\n",
       "      <td>0.570526</td>\n",
       "      <td>3.161763</td>\n",
       "      <td>-0.698455</td>\n",
       "      <td>2023-05-31 23:00:00+00:00</td>\n",
       "      <td>0.0</td>\n",
       "      <td>0.0</td>\n",
       "      <td>0.0</td>\n",
       "      <td>0.0</td>\n",
       "    </tr>\n",
       "  </tbody>\n",
       "</table>\n",
       "<p>2018352 rows × 30 columns</p>\n",
       "</div>"
      ],
      "text/plain": [
       "          county  is_business  product_type   target  is_consumption  \\\n",
       "0              0            0             1    0.713               0   \n",
       "1              0            0             1   96.590               1   \n",
       "2              0            0             2    0.000               0   \n",
       "3              0            0             2   17.314               1   \n",
       "4              0            0             3    2.904               0   \n",
       "...          ...          ...           ...      ...             ...   \n",
       "11263779      15            1             0  197.233               1   \n",
       "11263784      15            1             1    0.000               0   \n",
       "11263789      15            1             1   28.404               1   \n",
       "11263794      15            1             3    0.000               0   \n",
       "11263799      15            1             3  196.240               1   \n",
       "\n",
       "                    datetime  data_block_id   row_id  prediction_unit_id  \\\n",
       "0        2021-09-01 00:00:00              0        0                   0   \n",
       "1        2021-09-01 00:00:00              0        1                   0   \n",
       "2        2021-09-01 00:00:00              0        2                   1   \n",
       "3        2021-09-01 00:00:00              0        3                   1   \n",
       "4        2021-09-01 00:00:00              0        4                   2   \n",
       "...                      ...            ...      ...                 ...   \n",
       "11263779 2023-05-31 23:00:00            637  2018347                  64   \n",
       "11263784 2023-05-31 23:00:00            637  2018348                  59   \n",
       "11263789 2023-05-31 23:00:00            637  2018349                  59   \n",
       "11263794 2023-05-31 23:00:00            637  2018350                  60   \n",
       "11263799 2023-05-31 23:00:00            637  2018351                  60   \n",
       "\n",
       "          year  month  day  hour  latitude  longitude  \\\n",
       "0         2021      9    1     0       NaN        NaN   \n",
       "1         2021      9    1     0       NaN        NaN   \n",
       "2         2021      9    1     0       NaN        NaN   \n",
       "3         2021      9    1     0       NaN        NaN   \n",
       "4         2021      9    1     0       NaN        NaN   \n",
       "...        ...    ...  ...   ...       ...        ...   \n",
       "11263779  2023      5   31    23     576.0      267.0   \n",
       "11263784  2023      5   31    23     576.0      267.0   \n",
       "11263789  2023      5   31    23     576.0      267.0   \n",
       "11263794  2023      5   31    23     576.0      267.0   \n",
       "11263799  2023      5   31    23     576.0      267.0   \n",
       "\n",
       "                    origin_datetime  hours_ahead  temperature  dewpoint  \\\n",
       "0                               NaN          NaN          NaN       NaN   \n",
       "1                               NaN          NaN          NaN       NaN   \n",
       "2                               NaN          NaN          NaN       NaN   \n",
       "3                               NaN          NaN          NaN       NaN   \n",
       "4                               NaN          NaN          NaN       NaN   \n",
       "...                             ...          ...          ...       ...   \n",
       "11263779  2023-05-30 00:00:00+00:00         47.0     9.185205  4.397241   \n",
       "11263784  2023-05-30 00:00:00+00:00         47.0     9.185205  4.397241   \n",
       "11263789  2023-05-30 00:00:00+00:00         47.0     9.185205  4.397241   \n",
       "11263794  2023-05-30 00:00:00+00:00         47.0     9.185205  4.397241   \n",
       "11263799  2023-05-30 00:00:00+00:00         47.0     9.185205  4.397241   \n",
       "\n",
       "          cloudcover_high  cloudcover_low  cloudcover_mid  cloudcover_total  \\\n",
       "0                     NaN             NaN             NaN               NaN   \n",
       "1                     NaN             NaN             NaN               NaN   \n",
       "2                     NaN             NaN             NaN               NaN   \n",
       "3                     NaN             NaN             NaN               NaN   \n",
       "4                     NaN             NaN             NaN               NaN   \n",
       "...                   ...             ...             ...               ...   \n",
       "11263779         0.570526             0.0             0.0          0.570526   \n",
       "11263784         0.570526             0.0             0.0          0.570526   \n",
       "11263789         0.570526             0.0             0.0          0.570526   \n",
       "11263794         0.570526             0.0             0.0          0.570526   \n",
       "11263799         0.570526             0.0             0.0          0.570526   \n",
       "\n",
       "          10_metre_u_wind_component  10_metre_v_wind_component  \\\n",
       "0                               NaN                        NaN   \n",
       "1                               NaN                        NaN   \n",
       "2                               NaN                        NaN   \n",
       "3                               NaN                        NaN   \n",
       "4                               NaN                        NaN   \n",
       "...                             ...                        ...   \n",
       "11263779                   3.161763                  -0.698455   \n",
       "11263784                   3.161763                  -0.698455   \n",
       "11263789                   3.161763                  -0.698455   \n",
       "11263794                   3.161763                  -0.698455   \n",
       "11263799                   3.161763                  -0.698455   \n",
       "\n",
       "                 forecast_datetime  direct_solar_radiation  \\\n",
       "0                              NaT                     NaN   \n",
       "1                              NaT                     NaN   \n",
       "2                              NaT                     NaN   \n",
       "3                              NaT                     NaN   \n",
       "4                              NaT                     NaN   \n",
       "...                            ...                     ...   \n",
       "11263779 2023-05-31 23:00:00+00:00                     0.0   \n",
       "11263784 2023-05-31 23:00:00+00:00                     0.0   \n",
       "11263789 2023-05-31 23:00:00+00:00                     0.0   \n",
       "11263794 2023-05-31 23:00:00+00:00                     0.0   \n",
       "11263799 2023-05-31 23:00:00+00:00                     0.0   \n",
       "\n",
       "          surface_solar_radiation_downwards  snowfall  total_precipitation  \n",
       "0                                       NaN       NaN                  NaN  \n",
       "1                                       NaN       NaN                  NaN  \n",
       "2                                       NaN       NaN                  NaN  \n",
       "3                                       NaN       NaN                  NaN  \n",
       "4                                       NaN       NaN                  NaN  \n",
       "...                                     ...       ...                  ...  \n",
       "11263779                                0.0       0.0                  0.0  \n",
       "11263784                                0.0       0.0                  0.0  \n",
       "11263789                                0.0       0.0                  0.0  \n",
       "11263794                                0.0       0.0                  0.0  \n",
       "11263799                                0.0       0.0                  0.0  \n",
       "\n",
       "[2018352 rows x 30 columns]"
      ]
     },
     "execution_count": 53,
     "metadata": {},
     "output_type": "execute_result"
    }
   ],
   "source": [
    "train_with_forecast_weather = pd.merge(left=train, right=forcast_weather, on=['county', 'data_block_id', 'hour'], how='left')\n",
    "train_with_forecast_weather.drop_duplicates(subset=['row_id'], inplace=True)\n",
    "train_with_forecast_weather"
   ]
  },
  {
   "cell_type": "code",
   "execution_count": 54,
   "metadata": {},
   "outputs": [
    {
     "data": {
      "text/plain": [
       "2018352"
      ]
     },
     "execution_count": 54,
     "metadata": {},
     "output_type": "execute_result"
    }
   ],
   "source": [
    "len(train)"
   ]
  },
  {
   "cell_type": "code",
   "execution_count": 55,
   "metadata": {},
   "outputs": [
    {
     "data": {
      "text/plain": [
       "2018352"
      ]
     },
     "execution_count": 55,
     "metadata": {},
     "output_type": "execute_result"
    }
   ],
   "source": [
    "len(train_with_forecast_weather)"
   ]
  },
  {
   "cell_type": "code",
   "execution_count": 56,
   "metadata": {},
   "outputs": [
    {
     "data": {
      "text/plain": [
       "county                                   0\n",
       "is_business                              0\n",
       "product_type                             0\n",
       "target                                 528\n",
       "is_consumption                           0\n",
       "datetime                                 0\n",
       "data_block_id                            0\n",
       "row_id                                   0\n",
       "prediction_unit_id                       0\n",
       "year                                     0\n",
       "month                                    0\n",
       "day                                      0\n",
       "hour                                     0\n",
       "latitude                             33504\n",
       "longitude                            33504\n",
       "origin_datetime                      33504\n",
       "hours_ahead                          33504\n",
       "temperature                          33504\n",
       "dewpoint                             33504\n",
       "cloudcover_high                      33504\n",
       "cloudcover_low                       33504\n",
       "cloudcover_mid                       33504\n",
       "cloudcover_total                     33504\n",
       "10_metre_u_wind_component            33504\n",
       "10_metre_v_wind_component            33504\n",
       "forecast_datetime                    33504\n",
       "direct_solar_radiation               33504\n",
       "surface_solar_radiation_downwards    33504\n",
       "snowfall                             33504\n",
       "total_precipitation                  33504\n",
       "dtype: int64"
      ]
     },
     "execution_count": 56,
     "metadata": {},
     "output_type": "execute_result"
    }
   ],
   "source": [
    "# 查看拼接后数据的缺失值情况\n",
    "train_with_forecast_weather.isnull().sum()"
   ]
  },
  {
   "cell_type": "code",
   "execution_count": 57,
   "metadata": {},
   "outputs": [],
   "source": [
    "# 删除缺失值\n",
    "train_with_forecast_weather.dropna(how='any', inplace=True)\n",
    "train_with_forecast_weather.drop(columns=['forecast_datetime', 'origin_datetime'], inplace=True)"
   ]
  },
  {
   "cell_type": "markdown",
   "metadata": {},
   "source": [
    "## 生产电量与预测天气的相关性\n",
    "以county=2, product_type=1为例"
   ]
  },
  {
   "cell_type": "markdown",
   "metadata": {},
   "source": [
    "### 商业生产电量与预测天气的相关性"
   ]
  },
  {
   "cell_type": "code",
   "execution_count": 74,
   "metadata": {},
   "outputs": [
    {
     "data": {
      "text/plain": [
       "county                                    NaN\n",
       "is_business                               NaN\n",
       "product_type                              NaN\n",
       "target                               1.000000\n",
       "is_consumption                            NaN\n",
       "datetime                             0.024407\n",
       "data_block_id                        0.024219\n",
       "row_id                               0.023588\n",
       "prediction_unit_id                        NaN\n",
       "year                                -0.003156\n",
       "month                                0.040172\n",
       "day                                  0.022450\n",
       "hour                                 0.097135\n",
       "latitude                                  NaN\n",
       "longitude                                 NaN\n",
       "hours_ahead                          0.097135\n",
       "temperature                          0.528462\n",
       "dewpoint                             0.268787\n",
       "cloudcover_high                     -0.097232\n",
       "cloudcover_low                      -0.307835\n",
       "cloudcover_mid                      -0.133898\n",
       "cloudcover_total                    -0.219713\n",
       "10_metre_u_wind_component           -0.005069\n",
       "10_metre_v_wind_component           -0.049901\n",
       "direct_solar_radiation               0.660527\n",
       "surface_solar_radiation_downwards    0.743446\n",
       "snowfall                            -0.097734\n",
       "total_precipitation                 -0.042811\n",
       "Name: target, dtype: float64"
      ]
     },
     "execution_count": 74,
     "metadata": {},
     "output_type": "execute_result"
    }
   ],
   "source": [
    "train_forecast_is_consumption  = train_with_forecast_weather[(train_with_forecast_weather['is_consumption']==0) & \n",
    "                                                             (train_with_forecast_weather['county']==2) & \n",
    "                                                             (train_with_forecast_weather['product_type'] == 1) & \n",
    "                                                             (train_with_forecast_weather['is_business'] == 1)]\n",
    "corr_no_consumption_is_business = train_forecast_is_consumption.corr()['target']\n",
    "corr_no_consumption_is_business"
   ]
  },
  {
   "cell_type": "markdown",
   "metadata": {},
   "source": [
    "### 非商业生产电量与预测天气的相关性"
   ]
  },
  {
   "cell_type": "code",
   "execution_count": 75,
   "metadata": {},
   "outputs": [
    {
     "data": {
      "text/plain": [
       "county                                    NaN\n",
       "is_business                               NaN\n",
       "product_type                              NaN\n",
       "target                               1.000000\n",
       "is_consumption                            NaN\n",
       "datetime                             0.024407\n",
       "data_block_id                        0.024219\n",
       "row_id                               0.023588\n",
       "prediction_unit_id                        NaN\n",
       "year                                -0.003156\n",
       "month                                0.040172\n",
       "day                                  0.022450\n",
       "hour                                 0.097135\n",
       "latitude                                  NaN\n",
       "longitude                                 NaN\n",
       "hours_ahead                          0.097135\n",
       "temperature                          0.528462\n",
       "dewpoint                             0.268787\n",
       "cloudcover_high                     -0.097232\n",
       "cloudcover_low                      -0.307835\n",
       "cloudcover_mid                      -0.133898\n",
       "cloudcover_total                    -0.219713\n",
       "10_metre_u_wind_component           -0.005069\n",
       "10_metre_v_wind_component           -0.049901\n",
       "direct_solar_radiation               0.660527\n",
       "surface_solar_radiation_downwards    0.743446\n",
       "snowfall                            -0.097734\n",
       "total_precipitation                 -0.042811\n",
       "Name: target, dtype: float64"
      ]
     },
     "execution_count": 75,
     "metadata": {},
     "output_type": "execute_result"
    }
   ],
   "source": [
    "train_forecast_is_consumption  = train_with_forecast_weather[(train_with_forecast_weather['is_consumption']==0) & \n",
    "                                                             (train_with_forecast_weather['county']==2) & \n",
    "                                                             (train_with_forecast_weather['product_type'] == 1) & \n",
    "                                                             (train_with_forecast_weather['is_business'] == 0)]\n",
    "corr_no_consumption_no_business = train_forecast_is_consumption.corr()['target']\n",
    "corr_no_consumption_is_business"
   ]
  },
  {
   "cell_type": "markdown",
   "metadata": {},
   "source": [
    "## 消费电量与预测天气的相关性"
   ]
  },
  {
   "cell_type": "markdown",
   "metadata": {},
   "source": [
    "### 商业消费电量与预测天气的相关性"
   ]
  },
  {
   "cell_type": "code",
   "execution_count": 79,
   "metadata": {},
   "outputs": [
    {
     "data": {
      "text/plain": [
       "county                                    NaN\n",
       "is_business                               NaN\n",
       "product_type                              NaN\n",
       "target                               1.000000\n",
       "is_consumption                            NaN\n",
       "datetime                             0.187615\n",
       "data_block_id                        0.187504\n",
       "row_id                               0.188059\n",
       "prediction_unit_id                        NaN\n",
       "year                                 0.199295\n",
       "month                               -0.044960\n",
       "day                                 -0.060847\n",
       "hour                                 0.057416\n",
       "latitude                                  NaN\n",
       "longitude                                 NaN\n",
       "hours_ahead                          0.057416\n",
       "temperature                         -0.397307\n",
       "dewpoint                            -0.429379\n",
       "cloudcover_high                      0.011089\n",
       "cloudcover_low                       0.150954\n",
       "cloudcover_mid                       0.104484\n",
       "cloudcover_total                     0.126117\n",
       "10_metre_u_wind_component           -0.051424\n",
       "10_metre_v_wind_component           -0.016180\n",
       "direct_solar_radiation              -0.019353\n",
       "surface_solar_radiation_downwards    0.015016\n",
       "snowfall                             0.042591\n",
       "total_precipitation                 -0.034090\n",
       "Name: target, dtype: float64"
      ]
     },
     "execution_count": 79,
     "metadata": {},
     "output_type": "execute_result"
    }
   ],
   "source": [
    "train_forecast_is_consumption  = train_with_forecast_weather[(train_with_forecast_weather['is_consumption']==1) & \n",
    "                                                             (train_with_forecast_weather['county']==2) & \n",
    "                                                             (train_with_forecast_weather['product_type'] == 1) & \n",
    "                                                             (train_with_forecast_weather['is_business'] == 1)]\n",
    "corr_is_consumption_is_business = train_forecast_is_consumption.corr()['target']\n",
    "corr_is_consumption_is_business"
   ]
  },
  {
   "cell_type": "markdown",
   "metadata": {},
   "source": [
    "### 非商业消费电量与预测天气的相关性"
   ]
  },
  {
   "cell_type": "code",
   "execution_count": 67,
   "metadata": {},
   "outputs": [
    {
     "data": {
      "text/plain": [
       "county                                    NaN\n",
       "is_business                               NaN\n",
       "product_type                              NaN\n",
       "target                               1.000000\n",
       "is_consumption                            NaN\n",
       "datetime                             0.518004\n",
       "data_block_id                        0.517886\n",
       "row_id                               0.519506\n",
       "prediction_unit_id                        NaN\n",
       "year                                 0.472839\n",
       "month                               -0.146909\n",
       "day                                 -0.054073\n",
       "hour                                 0.071991\n",
       "latitude                                  NaN\n",
       "longitude                                 NaN\n",
       "hours_ahead                          0.071991\n",
       "temperature                         -0.594492\n",
       "dewpoint                            -0.517949\n",
       "cloudcover_high                      0.077881\n",
       "cloudcover_low                       0.315915\n",
       "cloudcover_mid                       0.154951\n",
       "cloudcover_total                     0.217621\n",
       "10_metre_u_wind_component           -0.140503\n",
       "10_metre_v_wind_component            0.047884\n",
       "direct_solar_radiation              -0.418014\n",
       "surface_solar_radiation_downwards   -0.442602\n",
       "snowfall                             0.150955\n",
       "total_precipitation                 -0.000703\n",
       "Name: target, dtype: float64"
      ]
     },
     "execution_count": 67,
     "metadata": {},
     "output_type": "execute_result"
    }
   ],
   "source": [
    "train_forecast_is_consumption  = train_with_forecast_weather[(train_with_forecast_weather['is_consumption']==1) & \n",
    "                                                             (train_with_forecast_weather['county']==2) & \n",
    "                                                             (train_with_forecast_weather['product_type'] == 1) & \n",
    "                                                             (train_with_forecast_weather['is_business'] == 0)]\n",
    "corr_is_consumption_no_business = train_forecast_is_consumption.corr()['target']\n",
    "corr_is_consumption_no_business"
   ]
  },
  {
   "cell_type": "code",
   "execution_count": 88,
   "metadata": {},
   "outputs": [
    {
     "data": {
      "text/plain": [
       "<Axes: >"
      ]
     },
     "execution_count": 88,
     "metadata": {},
     "output_type": "execute_result"
    },
    {
     "data": {
      "image/png": "[encoded data removed]",
      "text/plain": [
       "<Figure size 800x100 with 2 Axes>"
      ]
     },
     "metadata": {},
     "output_type": "display_data"
    }
   ],
   "source": [
    "plt.figure(figsize=(8,1))\n",
    "corr_is_consumption_no_business.rename('target_iscp_nobusiness', inplace=True)\n",
    "corr_is_consumption_is_business.rename('target_iscp_isbusiness', inplace=True)\n",
    "corr_no_consumption_no_business.rename('target_nocp_nobusiness', inplace=True)\n",
    "corr_no_consumption_is_business.rename('target_nocp_isbusiness', inplace=True)\n",
    "corr_data = pd.concat([corr_is_consumption_no_business, corr_is_consumption_is_business, corr_no_consumption_no_business, \n",
    "                       corr_no_consumption_is_business], axis=1)\n",
    "sns.heatmap(corr_data.T, cmap='coolwarm')"
   ]
  },
  {
   "cell_type": "markdown",
   "metadata": {},
   "source": [
    "## 总结\n",
    "1、与生产电量相关性比较高的变量：**低相关**：dewpoint、cloudcover_low、cloudcover_total；**高相关**：direct_solar_radiation、surface_solar_radiation_downwards、temperature\n",
    "2、与消费电量相关性比较高的变量：在商业消费用电中，dewpoint、temperature中度相关，在非商业消费用电中，temperature、dewpoint、direct_solar_radiation、surface_solar_radiation_downwards中度相关，cloudcover_low、cloudcover_total低度相关"
   ]
  }
 ],
 "metadata": {
  "kernelspec": {
   "display_name": "Python 3 (ipykernel)",
   "language": "python",
   "name": "python3"
  },
  "language_info": {
   "codemirror_mode": {
    "name": "ipython",
    "version": 3
   },
   "file_extension": ".py",
   "mimetype": "text/x-python",
   "name": "python",
   "nbconvert_exporter": "python",
   "pygments_lexer": "ipython3",
   "version": "3.9.17"
  },
  "toc": {
   "base_numbering": 1,
   "nav_menu": {},
   "number_sections": true,
   "sideBar": true,
   "skip_h1_title": false,
   "title_cell": "Table of Contents",
   "title_sidebar": "Contents",
   "toc_cell": false,
   "toc_position": {
    "height": "calc(100% - 180px)",
    "left": "10px",
    "top": "150px",
    "width": "254.383px"
   },
   "toc_section_display": true,
   "toc_window_display": true
  }
 },
 "nbformat": 4,
 "nbformat_minor": 1
}
