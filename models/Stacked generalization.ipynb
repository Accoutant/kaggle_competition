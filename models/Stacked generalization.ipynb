{
 "cells": [
  {
   "cell_type": "code",
   "execution_count": 4,
   "metadata": {},
   "outputs": [],
   "source": [
    "import numpy as np\n",
    "import pickle\n",
    "from sklearn.linear_model import ElasticNet\n",
    "from sklearn.neighbors import KNeighborsRegressor\n",
    "from sklearn.ensemble import RandomForestRegressor\n",
    "import lightgbm as lgb\n",
    "from sklearn.linear_model import Lasso\n",
    "from mlxtend.regressor import StackingCVRegressor\n",
    "from sklearn.metrics import mean_absolute_error"
   ]
  },
  {
   "cell_type": "code",
   "execution_count": 5,
   "metadata": {},
   "outputs": [],
   "source": [
    "def make_train_test(X, Y, seed, rate):\n",
    "    idx = int(rate * X.shape[0])\n",
    "    X_train = X[:idx]\n",
    "    Y_train = Y[:idx]\n",
    "    X_test = X[idx:]\n",
    "    Y_test = Y[idx:]\n",
    "    shuffled_indices = np.arange(X_train.shape[0])\n",
    "    np.random.seed(seed)\n",
    "    np.random.shuffle(shuffled_indices)\n",
    "    X_train, Y_train = X_train[shuffled_indices], Y_train[shuffled_indices]\n",
    "    return (X_train, Y_train), (X_test, Y_test)"
   ]
  },
  {
   "cell_type": "code",
   "execution_count": 6,
   "metadata": {},
   "outputs": [],
   "source": [
    "with open('Enefit_RawData/train_data_selected.pkl', 'rb') as f:\n",
    "    X, y = pickle.load(f)"
   ]
  },
  {
   "cell_type": "code",
   "execution_count": 7,
   "metadata": {},
   "outputs": [
    {
     "data": {
      "text/plain": [
       "(1977882, 34)"
      ]
     },
     "execution_count": 7,
     "metadata": {},
     "output_type": "execute_result"
    }
   ],
   "source": [
    "X.shape"
   ]
  },
  {
   "cell_type": "code",
   "execution_count": null,
   "metadata": {},
   "outputs": [],
   "source": [
    "(X_train, y_train), (X_test, y_test) = make_train_test(X, y, 1, 0.7)"
   ]
  },
  {
   "cell_type": "code",
   "execution_count": 20,
   "metadata": {},
   "outputs": [],
   "source": [
    "ENet = ElasticNet(\n",
    "    alpha=0.1,l1_ratio=0.5\n",
    ")\n",
    "KNR = KNeighborsRegressor(\n",
    "    n_neighbors=25\n",
    ")\n",
    "RFR = RandomForestRegressor(\n",
    "    n_estimators=500,\n",
    "    max_features=int(X_train.shape[1]/3),\n",
    "    random_state=0\n",
    ")\n",
    "LGB = lgb.LGBMRegressor(\n",
    "\n",
    ")\n",
    "\n",
    "Lasso = Lasso()"
   ]
  },
  {
   "cell_type": "code",
   "execution_count": 21,
   "metadata": {},
   "outputs": [
    {
     "name": "stdout",
     "output_type": "stream",
     "text": [
      "[LightGBM] [Info] Auto-choosing row-wise multi-threading, the overhead of testing was 0.024438 seconds.\n",
      "You can set `force_row_wise=true` to remove the overhead.\n",
      "And if memory is not enough, you can set `force_col_wise=true`.\n",
      "[LightGBM] [Info] Total Bins 5305\n",
      "[LightGBM] [Info] Number of data points in the train set: 1107613, number of used features: 34\n",
      "[LightGBM] [Info] Start training from score 251.643221\n",
      "[LightGBM] [Info] Auto-choosing col-wise multi-threading, the overhead of testing was 0.046654 seconds.\n",
      "You can set `force_col_wise=true` to remove the overhead.\n",
      "[LightGBM] [Info] Total Bins 5312\n",
      "[LightGBM] [Info] Number of data points in the train set: 1107613, number of used features: 34\n",
      "[LightGBM] [Info] Start training from score 251.352071\n",
      "[LightGBM] [Info] Auto-choosing col-wise multi-threading, the overhead of testing was 0.046984 seconds.\n",
      "You can set `force_col_wise=true` to remove the overhead.\n",
      "[LightGBM] [Info] Total Bins 5300\n",
      "[LightGBM] [Info] Number of data points in the train set: 1107614, number of used features: 34\n",
      "[LightGBM] [Info] Start training from score 251.063040\n",
      "[LightGBM] [Info] Auto-choosing col-wise multi-threading, the overhead of testing was 0.046547 seconds.\n",
      "You can set `force_col_wise=true` to remove the overhead.\n",
      "[LightGBM] [Info] Total Bins 5306\n",
      "[LightGBM] [Info] Number of data points in the train set: 1107614, number of used features: 34\n",
      "[LightGBM] [Info] Start training from score 251.704469\n",
      "[LightGBM] [Info] Auto-choosing col-wise multi-threading, the overhead of testing was 0.046205 seconds.\n",
      "You can set `force_col_wise=true` to remove the overhead.\n",
      "[LightGBM] [Info] Total Bins 5312\n",
      "[LightGBM] [Info] Number of data points in the train set: 1107614, number of used features: 34\n",
      "[LightGBM] [Info] Start training from score 251.516150\n",
      "[LightGBM] [Info] Auto-choosing row-wise multi-threading, the overhead of testing was 0.034030 seconds.\n",
      "You can set `force_row_wise=true` to remove the overhead.\n",
      "And if memory is not enough, you can set `force_col_wise=true`.\n",
      "[LightGBM] [Info] Total Bins 5307\n",
      "[LightGBM] [Info] Number of data points in the train set: 1384517, number of used features: 34\n",
      "[LightGBM] [Info] Start training from score 251.455790\n"
     ]
    }
   ],
   "source": [
    "stack = StackingCVRegressor(regressors=(ENet, KNR, RFR, LGB), meta_regressor=Lasso)\n",
    "stack.fit(X_train, y_train)\n",
    "y_pred = stack.predict(X_test)\n",
    "mae = mean_absolute_error(y_test, y_pred)"
   ]
  },
  {
   "cell_type": "code",
   "execution_count": 22,
   "metadata": {},
   "outputs": [
    {
     "data": {
      "text/plain": [
       "113.47875707640874"
      ]
     },
     "execution_count": 22,
     "metadata": {},
     "output_type": "execute_result"
    }
   ],
   "source": [
    "mae"
   ]
  }
 ],
 "metadata": {
  "kernelspec": {
   "display_name": "base",
   "language": "python",
   "name": "python3"
  },
  "language_info": {
   "codemirror_mode": {
    "name": "ipython",
    "version": 3
   },
   "file_extension": ".py",
   "mimetype": "text/x-python",
   "name": "python",
   "nbconvert_exporter": "python",
   "pygments_lexer": "ipython3",
   "version": "3.10.13"
  }
 },
 "nbformat": 4,
 "nbformat_minor": 2
}
