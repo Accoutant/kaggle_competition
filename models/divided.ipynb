{
 "cells": [
  {
   "cell_type": "code",
   "execution_count": 72,
   "metadata": {},
   "outputs": [],
   "source": [
    "import pandas as pd\n",
    "import numpy as np\n",
    "import lightgbm as lgb\n",
    "from sklearn.metrics import mean_absolute_error"
   ]
  },
  {
   "cell_type": "code",
   "execution_count": 73,
   "metadata": {},
   "outputs": [],
   "source": [
    "def make_train_test(X, Y, seed, rate):\n",
    "    idx = int(rate * X.shape[0])\n",
    "    X_train = X[:idx]\n",
    "    Y_train = Y[:idx]\n",
    "    X_test = X[idx:]\n",
    "    Y_test = Y[idx:]\n",
    "    shuffled_indices = np.arange(X_train.shape[0])\n",
    "    np.random.seed(seed)\n",
    "    np.random.shuffle(shuffled_indices)\n",
    "    X_train, Y_train = X_train[shuffled_indices], Y_train[shuffled_indices]\n",
    "    return (X_train, Y_train), (X_test, Y_test)"
   ]
  },
  {
   "cell_type": "code",
   "execution_count": 74,
   "metadata": {},
   "outputs": [
    {
     "data": {
      "text/plain": [
       "((988941, 44),\n",
       "       county   target  year  month  day  hour  target_used  eic_count  \\\n",
       " 5857       0  107.129  2021      9    3     0       96.590      108.0   \n",
       " 5859       0   19.630  2021      9    3     0       17.314       17.0   \n",
       " 5861       0  690.908  2021      9    3     0      656.859      688.0   \n",
       " 5863       0   64.100  2021      9    3     0       59.000        5.0   \n",
       " 5865       0  529.972  2021      9    3     0      501.760       43.0   \n",
       " \n",
       "       installed_capacity  lowest_price_per_mwh  ...  \\\n",
       " 5857              952.89                 45.62  ...   \n",
       " 5859              166.40                 45.62  ...   \n",
       " 5861             7207.88                 45.62  ...   \n",
       " 5863              400.00                 45.62  ...   \n",
       " 5865             1411.00                 45.62  ...   \n",
       " \n",
       "       direct_solar_radiation_fw  surface_solar_radiation_downwards_fw  \\\n",
       " 5857                        0.0                                   0.0   \n",
       " 5859                        0.0                                   0.0   \n",
       " 5861                        0.0                                   0.0   \n",
       " 5863                        0.0                                   0.0   \n",
       " 5865                        0.0                                   0.0   \n",
       " \n",
       "       snowfall_fw  total_precipitation_fw  is_business_0  is_business_1  \\\n",
       " 5857          0.0                0.000143            1.0            0.0   \n",
       " 5859          0.0                0.000143            1.0            0.0   \n",
       " 5861          0.0                0.000143            1.0            0.0   \n",
       " 5863          0.0                0.000143            0.0            1.0   \n",
       " 5865          0.0                0.000143            0.0            1.0   \n",
       " \n",
       "       product_type_0  product_type_1  product_type_2  product_type_3  \n",
       " 5857             0.0             1.0             0.0             0.0  \n",
       " 5859             0.0             0.0             1.0             0.0  \n",
       " 5861             0.0             0.0             0.0             1.0  \n",
       " 5863             1.0             0.0             0.0             0.0  \n",
       " 5865             0.0             1.0             0.0             0.0  \n",
       " \n",
       " [5 rows x 44 columns])"
      ]
     },
     "execution_count": 74,
     "metadata": {},
     "output_type": "execute_result"
    }
   ],
   "source": [
    "data_iscp = pd.read_csv('train_data_iscp.csv', index_col='Unnamed: 0')\n",
    "data_iscp.shape, data_iscp.head()"
   ]
  },
  {
   "cell_type": "code",
   "execution_count": 75,
   "metadata": {},
   "outputs": [
    {
     "data": {
      "text/plain": [
       "((988941, 44),\n",
       "       county  target  year  month  day  hour  target_used  eic_count  \\\n",
       " 5856       0   0.793  2021      9    3     0        0.713      108.0   \n",
       " 5858       0   0.000  2021      9    3     0        0.000       17.0   \n",
       " 5860       0   0.977  2021      9    3     0        2.904      688.0   \n",
       " 5862       0   0.000  2021      9    3     0        0.000        5.0   \n",
       " 5864       0   0.000  2021      9    3     0        0.000       43.0   \n",
       " \n",
       "       installed_capacity  lowest_price_per_mwh  ...  \\\n",
       " 5856              952.89                 45.62  ...   \n",
       " 5858              166.40                 45.62  ...   \n",
       " 5860             7207.88                 45.62  ...   \n",
       " 5862              400.00                 45.62  ...   \n",
       " 5864             1411.00                 45.62  ...   \n",
       " \n",
       "       direct_solar_radiation_fw  surface_solar_radiation_downwards_fw  \\\n",
       " 5856                        0.0                                   0.0   \n",
       " 5858                        0.0                                   0.0   \n",
       " 5860                        0.0                                   0.0   \n",
       " 5862                        0.0                                   0.0   \n",
       " 5864                        0.0                                   0.0   \n",
       " \n",
       "       snowfall_fw  total_precipitation_fw  is_business_0  is_business_1  \\\n",
       " 5856          0.0                0.000143            1.0            0.0   \n",
       " 5858          0.0                0.000143            1.0            0.0   \n",
       " 5860          0.0                0.000143            1.0            0.0   \n",
       " 5862          0.0                0.000143            0.0            1.0   \n",
       " 5864          0.0                0.000143            0.0            1.0   \n",
       " \n",
       "       product_type_0  product_type_1  product_type_2  product_type_3  \n",
       " 5856             0.0             1.0             0.0             0.0  \n",
       " 5858             0.0             0.0             1.0             0.0  \n",
       " 5860             0.0             0.0             0.0             1.0  \n",
       " 5862             1.0             0.0             0.0             0.0  \n",
       " 5864             0.0             1.0             0.0             0.0  \n",
       " \n",
       " [5 rows x 44 columns])"
      ]
     },
     "execution_count": 75,
     "metadata": {},
     "output_type": "execute_result"
    }
   ],
   "source": [
    "data_nocp = pd.read_csv('train_data_nocp.csv', index_col='Unnamed: 0')\n",
    "data_nocp.shape, data_nocp.head()"
   ]
  },
  {
   "cell_type": "code",
   "execution_count": 76,
   "metadata": {},
   "outputs": [
    {
     "data": {
      "text/plain": [
       "((988941, 33),\n",
       "       county   target  year  month  day  hour  target_used  eic_count  \\\n",
       " 5857       0  107.129  2021      9    3     0       96.590      108.0   \n",
       " 5859       0   19.630  2021      9    3     0       17.314       17.0   \n",
       " 5861       0  690.908  2021      9    3     0      656.859      688.0   \n",
       " 5863       0   64.100  2021      9    3     0       59.000        5.0   \n",
       " 5865       0  529.972  2021      9    3     0      501.760       43.0   \n",
       " \n",
       "       installed_capacity  lowest_price_per_mwh  ...  cloudcover_total_fw  \\\n",
       " 5857              952.89                 45.62  ...             0.773093   \n",
       " 5859              166.40                 45.62  ...             0.773093   \n",
       " 5861             7207.88                 45.62  ...             0.773093   \n",
       " 5863              400.00                 45.62  ...             0.773093   \n",
       " 5865             1411.00                 45.62  ...             0.773093   \n",
       " \n",
       "       direct_solar_radiation_fw  surface_solar_radiation_downwards_fw  \\\n",
       " 5857                        0.0                                   0.0   \n",
       " 5859                        0.0                                   0.0   \n",
       " 5861                        0.0                                   0.0   \n",
       " 5863                        0.0                                   0.0   \n",
       " 5865                        0.0                                   0.0   \n",
       " \n",
       "       snowfall_fw  is_business_0  is_business_1  product_type_0  \\\n",
       " 5857          0.0            1.0            0.0             0.0   \n",
       " 5859          0.0            1.0            0.0             0.0   \n",
       " 5861          0.0            1.0            0.0             0.0   \n",
       " 5863          0.0            0.0            1.0             1.0   \n",
       " 5865          0.0            0.0            1.0             0.0   \n",
       " \n",
       "       product_type_1  product_type_2  product_type_3  \n",
       " 5857             1.0             0.0             0.0  \n",
       " 5859             0.0             1.0             0.0  \n",
       " 5861             0.0             0.0             1.0  \n",
       " 5863             0.0             0.0             0.0  \n",
       " 5865             1.0             0.0             0.0  \n",
       " \n",
       " [5 rows x 33 columns])"
      ]
     },
     "execution_count": 76,
     "metadata": {},
     "output_type": "execute_result"
    }
   ],
   "source": [
    "data_selected_iscp = pd.read_csv('train_data_selected_iscp.csv', index_col='Unnamed: 0')\n",
    "data_selected_iscp.shape, data_selected_iscp.head()"
   ]
  },
  {
   "cell_type": "code",
   "execution_count": 77,
   "metadata": {},
   "outputs": [
    {
     "data": {
      "text/plain": [
       "((988941, 33),\n",
       "       county  target  year  month  day  hour  target_used  eic_count  \\\n",
       " 5856       0   0.793  2021      9    3     0        0.713      108.0   \n",
       " 5858       0   0.000  2021      9    3     0        0.000       17.0   \n",
       " 5860       0   0.977  2021      9    3     0        2.904      688.0   \n",
       " 5862       0   0.000  2021      9    3     0        0.000        5.0   \n",
       " 5864       0   0.000  2021      9    3     0        0.000       43.0   \n",
       " \n",
       "       installed_capacity  lowest_price_per_mwh  ...  cloudcover_total_fw  \\\n",
       " 5856              952.89                 45.62  ...             0.773093   \n",
       " 5858              166.40                 45.62  ...             0.773093   \n",
       " 5860             7207.88                 45.62  ...             0.773093   \n",
       " 5862              400.00                 45.62  ...             0.773093   \n",
       " 5864             1411.00                 45.62  ...             0.773093   \n",
       " \n",
       "       direct_solar_radiation_fw  surface_solar_radiation_downwards_fw  \\\n",
       " 5856                        0.0                                   0.0   \n",
       " 5858                        0.0                                   0.0   \n",
       " 5860                        0.0                                   0.0   \n",
       " 5862                        0.0                                   0.0   \n",
       " 5864                        0.0                                   0.0   \n",
       " \n",
       "       snowfall_fw  is_business_0  is_business_1  product_type_0  \\\n",
       " 5856          0.0            1.0            0.0             0.0   \n",
       " 5858          0.0            1.0            0.0             0.0   \n",
       " 5860          0.0            1.0            0.0             0.0   \n",
       " 5862          0.0            0.0            1.0             1.0   \n",
       " 5864          0.0            0.0            1.0             0.0   \n",
       " \n",
       "       product_type_1  product_type_2  product_type_3  \n",
       " 5856             1.0             0.0             0.0  \n",
       " 5858             0.0             1.0             0.0  \n",
       " 5860             0.0             0.0             1.0  \n",
       " 5862             0.0             0.0             0.0  \n",
       " 5864             1.0             0.0             0.0  \n",
       " \n",
       " [5 rows x 33 columns])"
      ]
     },
     "execution_count": 77,
     "metadata": {},
     "output_type": "execute_result"
    }
   ],
   "source": [
    "data_selected_nocp = pd.read_csv('train_data_selected_nocp.csv', index_col='Unnamed: 0')\n",
    "data_selected_nocp.shape, data_selected_nocp.head()"
   ]
  },
  {
   "cell_type": "code",
   "execution_count": 78,
   "metadata": {},
   "outputs": [],
   "source": [
    "model = lgb.LGBMRegressor()"
   ]
  },
  {
   "cell_type": "markdown",
   "metadata": {},
   "source": [
    "### 先来个没有筛选特征\n",
    "##### iscp训练的模型计算mae，和nocp训练的模型计算的mae"
   ]
  },
  {
   "cell_type": "code",
   "execution_count": 79,
   "metadata": {},
   "outputs": [
    {
     "name": "stdout",
     "output_type": "stream",
     "text": [
      "[LightGBM] [Info] Auto-choosing row-wise multi-threading, the overhead of testing was 0.021471 seconds.\n",
      "You can set `force_row_wise=true` to remove the overhead.\n",
      "And if memory is not enough, you can set `force_col_wise=true`.\n",
      "[LightGBM] [Info] Total Bins 8106\n",
      "[LightGBM] [Info] Number of data points in the train set: 692258, number of used features: 43\n",
      "[LightGBM] [Info] Start training from score 420.218698\n"
     ]
    }
   ],
   "source": [
    "X_iscp = np.array(data_iscp.drop('target', axis=1))\n",
    "y_iscp = np.array(data_iscp.target)\n",
    "(X_train_iscp, y_train_iscp), (X_test_iscp, y_test_iscp) = make_train_test(X_iscp, y_iscp, 1, 0.7)\n",
    "model.fit(X_train_iscp, y_train_iscp)\n",
    "y_pred_iscp = model.predict(X_test_iscp)\n",
    "mae_iscp = mean_absolute_error(y_test_iscp, y_pred_iscp)"
   ]
  },
  {
   "cell_type": "code",
   "execution_count": 80,
   "metadata": {},
   "outputs": [
    {
     "name": "stdout",
     "output_type": "stream",
     "text": [
      "[LightGBM] [Info] Auto-choosing row-wise multi-threading, the overhead of testing was 0.020289 seconds.\n",
      "You can set `force_row_wise=true` to remove the overhead.\n",
      "And if memory is not enough, you can set `force_col_wise=true`.\n",
      "[LightGBM] [Info] Total Bins 8106\n",
      "[LightGBM] [Info] Number of data points in the train set: 692258, number of used features: 43\n",
      "[LightGBM] [Info] Start training from score 82.693246\n"
     ]
    }
   ],
   "source": [
    "X_nocp = np.array(data_nocp.drop('target', axis=1))\n",
    "y_nocp = np.array(data_nocp.target)\n",
    "(X_train_nocp, y_train_nocp), (X_test_nocp, y_test_nocp) = make_train_test(X_nocp, y_nocp, 1, 0.7)\n",
    "model.fit(X_train_nocp, y_train_nocp)\n",
    "y_pred_nocp = model.predict(X_test_nocp)\n",
    "mae_nocp = mean_absolute_error(y_test_nocp, y_pred_nocp)"
   ]
  },
  {
   "cell_type": "code",
   "execution_count": 81,
   "metadata": {},
   "outputs": [
    {
     "data": {
      "text/plain": [
       "(137.38071858599616, 45.954090035536524, 91.66740431076634)"
      ]
     },
     "execution_count": 81,
     "metadata": {},
     "output_type": "execute_result"
    }
   ],
   "source": [
    "mae_iscp, mae_nocp, (mae_iscp+mae_nocp)/2"
   ]
  },
  {
   "cell_type": "markdown",
   "metadata": {},
   "source": [
    "### 再来个筛选特征后的\n",
    "##### selected_iscp训练的模型计算mae，和selected_nocp训练的模型计算的mae"
   ]
  },
  {
   "cell_type": "code",
   "execution_count": 82,
   "metadata": {},
   "outputs": [
    {
     "name": "stdout",
     "output_type": "stream",
     "text": [
      "[LightGBM] [Info] Auto-choosing row-wise multi-threading, the overhead of testing was 0.013013 seconds.\n",
      "You can set `force_row_wise=true` to remove the overhead.\n",
      "And if memory is not enough, you can set `force_col_wise=true`.\n",
      "[LightGBM] [Info] Total Bins 5317\n",
      "[LightGBM] [Info] Number of data points in the train set: 692258, number of used features: 32\n",
      "[LightGBM] [Info] Start training from score 420.218698\n"
     ]
    }
   ],
   "source": [
    "X_selected_iscp = np.array(data_selected_iscp.drop('target', axis=1))\n",
    "y_selected_iscp = np.array(data_selected_iscp.target)\n",
    "(X_train_selected_iscp, y_train_selected_iscp), (X_test_selected_iscp, y_test_selected_iscp) = make_train_test(X_selected_iscp, y_selected_iscp, 1, 0.7)\n",
    "model.fit(X_train_selected_iscp, y_train_selected_iscp)\n",
    "y_pred_selected_iscp = model.predict(X_test_selected_iscp)\n",
    "mae_selected_iscp = mean_absolute_error(y_test_selected_iscp, y_pred_selected_iscp)"
   ]
  },
  {
   "cell_type": "code",
   "execution_count": 83,
   "metadata": {},
   "outputs": [
    {
     "name": "stdout",
     "output_type": "stream",
     "text": [
      "[LightGBM] [Info] Auto-choosing row-wise multi-threading, the overhead of testing was 0.014289 seconds.\n",
      "You can set `force_row_wise=true` to remove the overhead.\n",
      "And if memory is not enough, you can set `force_col_wise=true`.\n",
      "[LightGBM] [Info] Total Bins 5317\n",
      "[LightGBM] [Info] Number of data points in the train set: 692258, number of used features: 32\n",
      "[LightGBM] [Info] Start training from score 82.693246\n"
     ]
    }
   ],
   "source": [
    "X_selected_nocp = np.array(data_selected_nocp.drop('target', axis=1))\n",
    "y_selected_nocp = np.array(data_selected_nocp.target)\n",
    "(X_train_selected_nocp, y_train_selected_nocp), (X_test_selected_nocp, y_test_selected_nocp) = make_train_test(X_selected_nocp, y_selected_nocp, 1, 0.7)\n",
    "model.fit(X_train_selected_nocp, y_train_selected_nocp)\n",
    "y_pred_selected_nocp = model.predict(X_test_selected_nocp)\n",
    "mae_selected_nocp = mean_absolute_error(y_test_selected_nocp, y_pred_selected_nocp)"
   ]
  },
  {
   "cell_type": "code",
   "execution_count": 84,
   "metadata": {},
   "outputs": [
    {
     "data": {
      "text/plain": [
       "(138.70618581169347, 47.09456928756863, 92.90037754963106)"
      ]
     },
     "execution_count": 84,
     "metadata": {},
     "output_type": "execute_result"
    }
   ],
   "source": [
    "mae_selected_iscp, mae_selected_nocp, (mae_selected_iscp+mae_selected_nocp)/2"
   ]
  },
  {
   "cell_type": "markdown",
   "metadata": {},
   "source": [
    "* 我们可以注意到每个模型训练只用了整体数据的一半，即训练iscp模型就只用iscp的数据。"
   ]
  },
  {
   "cell_type": "code",
   "execution_count": 85,
   "metadata": {},
   "outputs": [
    {
     "name": "stdout",
     "output_type": "stream",
     "text": [
      "[LightGBM] [Info] Auto-choosing row-wise multi-threading, the overhead of testing was 0.033251 seconds.\n",
      "You can set `force_row_wise=true` to remove the overhead.\n",
      "And if memory is not enough, you can set `force_col_wise=true`.\n",
      "[LightGBM] [Info] Total Bins 8158\n",
      "[LightGBM] [Info] Number of data points in the train set: 1384517, number of used features: 43\n",
      "[LightGBM] [Info] Start training from score 344.039993\n"
     ]
    },
    {
     "data": {
      "text/plain": [
       "(92.47473632532711, 79.68547576994806, 86.08010604763759)"
      ]
     },
     "execution_count": 85,
     "metadata": {},
     "output_type": "execute_result"
    }
   ],
   "source": [
    "data = pd.concat([data_iscp,data_nocp], axis=0)\n",
    "X = np.array(data.drop('target', axis=1))\n",
    "y = np.array(data.target)\n",
    "(X_train, y_train), (X_test, y_test) = make_train_test(X, y, 1, 0.7)\n",
    "model.fit(X_train,y_train)\n",
    "y_pred_iscp = model.predict(X_test_iscp)\n",
    "y_pred_nocp = model.predict(X_test_nocp)\n",
    "mae_iscp = mean_absolute_error(y_test_iscp, y_pred_iscp)\n",
    "mae_nocp = mean_absolute_error(y_test_nocp, y_pred_nocp)\n",
    "mae_iscp, mae_nocp, (mae_iscp+mae_nocp)/2"
   ]
  },
  {
   "cell_type": "code",
   "execution_count": 86,
   "metadata": {},
   "outputs": [
    {
     "name": "stdout",
     "output_type": "stream",
     "text": [
      "[LightGBM] [Info] Auto-choosing row-wise multi-threading, the overhead of testing was 0.024576 seconds.\n",
      "You can set `force_row_wise=true` to remove the overhead.\n",
      "And if memory is not enough, you can set `force_col_wise=true`.\n",
      "[LightGBM] [Info] Total Bins 5373\n",
      "[LightGBM] [Info] Number of data points in the train set: 1384517, number of used features: 32\n",
      "[LightGBM] [Info] Start training from score 344.039993\n"
     ]
    },
    {
     "data": {
      "text/plain": [
       "(92.50119178572898, 81.44163920024458, 86.97141549298678)"
      ]
     },
     "execution_count": 86,
     "metadata": {},
     "output_type": "execute_result"
    }
   ],
   "source": [
    "data_selected = pd.concat([data_selected_iscp,data_selected_nocp], axis=0)\n",
    "X_selected = np.array(data_selected.drop('target', axis=1))\n",
    "y_selected = np.array(data_selected.target)\n",
    "(X_train_selected, y_train_selected), (X_test_selected, y_test_selected) = make_train_test(X_selected, y_selected, 1, 0.7)\n",
    "model.fit(X_train_selected,y_train_selected)\n",
    "y_pred_selected_iscp = model.predict(X_test_selected_iscp)\n",
    "y_pred_selected_nocp = model.predict(X_test_selected_nocp)\n",
    "mae_selected_iscp = mean_absolute_error(y_test_selected_iscp, y_pred_selected_iscp)\n",
    "mae_selected_nocp = mean_absolute_error(y_test_selected_nocp, y_pred_selected_nocp)\n",
    "mae_selected_iscp, mae_selected_nocp, (mae_selected_iscp+mae_selected_nocp)/2"
   ]
  }
 ],
 "metadata": {
  "kernelspec": {
   "display_name": "MLPython",
   "language": "python",
   "name": "python3"
  },
  "language_info": {
   "codemirror_mode": {
    "name": "ipython",
    "version": 3
   },
   "file_extension": ".py",
   "mimetype": "text/x-python",
   "name": "python",
   "nbconvert_exporter": "python",
   "pygments_lexer": "ipython3",
   "version": "3.11.4"
  }
 },
 "nbformat": 4,
 "nbformat_minor": 2
}
